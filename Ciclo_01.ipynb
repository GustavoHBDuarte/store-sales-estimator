{
 "cells": [
  {
   "cell_type": "markdown",
   "id": "0c91f3a1",
   "metadata": {
    "heading_collapsed": true
   },
   "source": [
    "# Library imports"
   ]
  },
  {
   "cell_type": "code",
   "execution_count": 1,
   "id": "1092f57a",
   "metadata": {
    "ExecuteTime": {
     "end_time": "2021-12-18T01:51:02.505128Z",
     "start_time": "2021-12-18T01:51:00.318602Z"
    },
    "hidden": true
   },
   "outputs": [],
   "source": [
    "import pandas as pd\n",
    "import numpy as np\n",
    "import inflection\n",
    "import seaborn as sns\n",
    "import matplotlib.pyplot as plt\n",
    "import datetime\n",
    "\n",
    "from IPython.display import Image\n"
   ]
  },
  {
   "cell_type": "markdown",
   "id": "c797d179",
   "metadata": {
    "ExecuteTime": {
     "end_time": "2021-12-16T02:45:54.390168Z",
     "start_time": "2021-12-16T02:45:54.375280Z"
    },
    "heading_collapsed": true
   },
   "source": [
    "# Data import and basic inspection"
   ]
  },
  {
   "cell_type": "markdown",
   "id": "7e00bfac",
   "metadata": {
    "heading_collapsed": true,
    "hidden": true
   },
   "source": [
    "##  <font color=\"#808080\">data loading and checking</font>"
   ]
  },
  {
   "cell_type": "code",
   "execution_count": 2,
   "id": "66eb35c1",
   "metadata": {
    "ExecuteTime": {
     "end_time": "2021-12-18T01:51:03.229215Z",
     "start_time": "2021-12-18T01:51:02.507584Z"
    },
    "hidden": true
   },
   "outputs": [
    {
     "data": {
      "text/html": [
       "<div>\n",
       "<style scoped>\n",
       "    .dataframe tbody tr th:only-of-type {\n",
       "        vertical-align: middle;\n",
       "    }\n",
       "\n",
       "    .dataframe tbody tr th {\n",
       "        vertical-align: top;\n",
       "    }\n",
       "\n",
       "    .dataframe thead th {\n",
       "        text-align: right;\n",
       "    }\n",
       "</style>\n",
       "<table border=\"1\" class=\"dataframe\">\n",
       "  <thead>\n",
       "    <tr style=\"text-align: right;\">\n",
       "      <th></th>\n",
       "      <th>Store</th>\n",
       "      <th>DayOfWeek</th>\n",
       "      <th>Date</th>\n",
       "      <th>Sales</th>\n",
       "      <th>Customers</th>\n",
       "      <th>Open</th>\n",
       "      <th>Promo</th>\n",
       "      <th>StateHoliday</th>\n",
       "      <th>SchoolHoliday</th>\n",
       "    </tr>\n",
       "  </thead>\n",
       "  <tbody>\n",
       "    <tr>\n",
       "      <th>0</th>\n",
       "      <td>1</td>\n",
       "      <td>5</td>\n",
       "      <td>2015-07-31</td>\n",
       "      <td>5263</td>\n",
       "      <td>555</td>\n",
       "      <td>1</td>\n",
       "      <td>1</td>\n",
       "      <td>0</td>\n",
       "      <td>1</td>\n",
       "    </tr>\n",
       "    <tr>\n",
       "      <th>1</th>\n",
       "      <td>2</td>\n",
       "      <td>5</td>\n",
       "      <td>2015-07-31</td>\n",
       "      <td>6064</td>\n",
       "      <td>625</td>\n",
       "      <td>1</td>\n",
       "      <td>1</td>\n",
       "      <td>0</td>\n",
       "      <td>1</td>\n",
       "    </tr>\n",
       "    <tr>\n",
       "      <th>2</th>\n",
       "      <td>3</td>\n",
       "      <td>5</td>\n",
       "      <td>2015-07-31</td>\n",
       "      <td>8314</td>\n",
       "      <td>821</td>\n",
       "      <td>1</td>\n",
       "      <td>1</td>\n",
       "      <td>0</td>\n",
       "      <td>1</td>\n",
       "    </tr>\n",
       "    <tr>\n",
       "      <th>3</th>\n",
       "      <td>4</td>\n",
       "      <td>5</td>\n",
       "      <td>2015-07-31</td>\n",
       "      <td>13995</td>\n",
       "      <td>1498</td>\n",
       "      <td>1</td>\n",
       "      <td>1</td>\n",
       "      <td>0</td>\n",
       "      <td>1</td>\n",
       "    </tr>\n",
       "    <tr>\n",
       "      <th>4</th>\n",
       "      <td>5</td>\n",
       "      <td>5</td>\n",
       "      <td>2015-07-31</td>\n",
       "      <td>4822</td>\n",
       "      <td>559</td>\n",
       "      <td>1</td>\n",
       "      <td>1</td>\n",
       "      <td>0</td>\n",
       "      <td>1</td>\n",
       "    </tr>\n",
       "  </tbody>\n",
       "</table>\n",
       "</div>"
      ],
      "text/plain": [
       "   Store  DayOfWeek        Date  Sales  Customers  Open  Promo StateHoliday  \\\n",
       "0      1          5  2015-07-31   5263        555     1      1            0   \n",
       "1      2          5  2015-07-31   6064        625     1      1            0   \n",
       "2      3          5  2015-07-31   8314        821     1      1            0   \n",
       "3      4          5  2015-07-31  13995       1498     1      1            0   \n",
       "4      5          5  2015-07-31   4822        559     1      1            0   \n",
       "\n",
       "   SchoolHoliday  \n",
       "0              1  \n",
       "1              1  \n",
       "2              1  \n",
       "3              1  \n",
       "4              1  "
      ]
     },
     "execution_count": 2,
     "metadata": {},
     "output_type": "execute_result"
    }
   ],
   "source": [
    "df_train = pd.read_csv('/home/gustavo/repos/Rossmann/train.csv', low_memory=False)\n",
    "\n",
    "df_train.head()"
   ]
  },
  {
   "cell_type": "code",
   "execution_count": 3,
   "id": "7151fbe3",
   "metadata": {
    "ExecuteTime": {
     "end_time": "2021-12-18T01:51:03.239356Z",
     "start_time": "2021-12-18T01:51:03.232296Z"
    },
    "hidden": true
   },
   "outputs": [
    {
     "name": "stdout",
     "output_type": "stream",
     "text": [
      "\n",
      "Data dimensions:\n",
      "\n",
      "Number of rows:1017209\n",
      "Number of columns:9\n"
     ]
    }
   ],
   "source": [
    "# Checking data dimensions\n",
    "\n",
    "print('\\nData dimensions:\\n')\n",
    "print('Number of rows:{}'.format(df_train.shape[0]))\n",
    "print('Number of columns:{}'.format(df_train.shape[1]))"
   ]
  },
  {
   "cell_type": "code",
   "execution_count": 4,
   "id": "66dbe8d4",
   "metadata": {
    "ExecuteTime": {
     "end_time": "2021-12-18T01:51:03.334460Z",
     "start_time": "2021-12-18T01:51:03.242749Z"
    },
    "hidden": true,
    "scrolled": true
   },
   "outputs": [
    {
     "data": {
      "text/html": [
       "<div>\n",
       "<style scoped>\n",
       "    .dataframe tbody tr th:only-of-type {\n",
       "        vertical-align: middle;\n",
       "    }\n",
       "\n",
       "    .dataframe tbody tr th {\n",
       "        vertical-align: top;\n",
       "    }\n",
       "\n",
       "    .dataframe thead th {\n",
       "        text-align: right;\n",
       "    }\n",
       "</style>\n",
       "<table border=\"1\" class=\"dataframe\">\n",
       "  <thead>\n",
       "    <tr style=\"text-align: right;\">\n",
       "      <th></th>\n",
       "      <th>Store</th>\n",
       "      <th>StoreType</th>\n",
       "      <th>Assortment</th>\n",
       "      <th>CompetitionDistance</th>\n",
       "      <th>CompetitionOpenSinceMonth</th>\n",
       "      <th>CompetitionOpenSinceYear</th>\n",
       "      <th>Promo2</th>\n",
       "      <th>Promo2SinceWeek</th>\n",
       "      <th>Promo2SinceYear</th>\n",
       "      <th>PromoInterval</th>\n",
       "    </tr>\n",
       "  </thead>\n",
       "  <tbody>\n",
       "    <tr>\n",
       "      <th>0</th>\n",
       "      <td>1</td>\n",
       "      <td>c</td>\n",
       "      <td>a</td>\n",
       "      <td>1270.0</td>\n",
       "      <td>9.0</td>\n",
       "      <td>2008.0</td>\n",
       "      <td>0</td>\n",
       "      <td>NaN</td>\n",
       "      <td>NaN</td>\n",
       "      <td>NaN</td>\n",
       "    </tr>\n",
       "    <tr>\n",
       "      <th>1</th>\n",
       "      <td>2</td>\n",
       "      <td>a</td>\n",
       "      <td>a</td>\n",
       "      <td>570.0</td>\n",
       "      <td>11.0</td>\n",
       "      <td>2007.0</td>\n",
       "      <td>1</td>\n",
       "      <td>13.0</td>\n",
       "      <td>2010.0</td>\n",
       "      <td>Jan,Apr,Jul,Oct</td>\n",
       "    </tr>\n",
       "    <tr>\n",
       "      <th>2</th>\n",
       "      <td>3</td>\n",
       "      <td>a</td>\n",
       "      <td>a</td>\n",
       "      <td>14130.0</td>\n",
       "      <td>12.0</td>\n",
       "      <td>2006.0</td>\n",
       "      <td>1</td>\n",
       "      <td>14.0</td>\n",
       "      <td>2011.0</td>\n",
       "      <td>Jan,Apr,Jul,Oct</td>\n",
       "    </tr>\n",
       "    <tr>\n",
       "      <th>3</th>\n",
       "      <td>4</td>\n",
       "      <td>c</td>\n",
       "      <td>c</td>\n",
       "      <td>620.0</td>\n",
       "      <td>9.0</td>\n",
       "      <td>2009.0</td>\n",
       "      <td>0</td>\n",
       "      <td>NaN</td>\n",
       "      <td>NaN</td>\n",
       "      <td>NaN</td>\n",
       "    </tr>\n",
       "    <tr>\n",
       "      <th>4</th>\n",
       "      <td>5</td>\n",
       "      <td>a</td>\n",
       "      <td>a</td>\n",
       "      <td>29910.0</td>\n",
       "      <td>4.0</td>\n",
       "      <td>2015.0</td>\n",
       "      <td>0</td>\n",
       "      <td>NaN</td>\n",
       "      <td>NaN</td>\n",
       "      <td>NaN</td>\n",
       "    </tr>\n",
       "  </tbody>\n",
       "</table>\n",
       "</div>"
      ],
      "text/plain": [
       "   Store StoreType Assortment  CompetitionDistance  CompetitionOpenSinceMonth  \\\n",
       "0      1         c          a               1270.0                        9.0   \n",
       "1      2         a          a                570.0                       11.0   \n",
       "2      3         a          a              14130.0                       12.0   \n",
       "3      4         c          c                620.0                        9.0   \n",
       "4      5         a          a              29910.0                        4.0   \n",
       "\n",
       "   CompetitionOpenSinceYear  Promo2  Promo2SinceWeek  Promo2SinceYear  \\\n",
       "0                    2008.0       0              NaN              NaN   \n",
       "1                    2007.0       1             13.0           2010.0   \n",
       "2                    2006.0       1             14.0           2011.0   \n",
       "3                    2009.0       0              NaN              NaN   \n",
       "4                    2015.0       0              NaN              NaN   \n",
       "\n",
       "     PromoInterval  \n",
       "0              NaN  \n",
       "1  Jan,Apr,Jul,Oct  \n",
       "2  Jan,Apr,Jul,Oct  \n",
       "3              NaN  \n",
       "4              NaN  "
      ]
     },
     "execution_count": 4,
     "metadata": {},
     "output_type": "execute_result"
    }
   ],
   "source": [
    "df_store = pd.read_csv('/home/gustavo/repos/Rossmann/store.csv', low_memory=False)\n",
    "\n",
    "df_store.head()"
   ]
  },
  {
   "cell_type": "code",
   "execution_count": 5,
   "id": "4dd1ca0b",
   "metadata": {
    "ExecuteTime": {
     "end_time": "2021-12-18T01:51:03.385908Z",
     "start_time": "2021-12-18T01:51:03.337072Z"
    },
    "hidden": true
   },
   "outputs": [
    {
     "name": "stdout",
     "output_type": "stream",
     "text": [
      "\n",
      "Data dimensions:\n",
      "\n",
      "Number of rows:1115\n",
      "Number of columns:10\n"
     ]
    }
   ],
   "source": [
    "# Checking data dimensions\n",
    "\n",
    "print('\\nData dimensions:\\n')\n",
    "print('Number of rows:{}'.format(df_store.shape[0]))\n",
    "print('Number of columns:{}'.format(df_store.shape[1]))"
   ]
  },
  {
   "cell_type": "code",
   "execution_count": 6,
   "id": "83e463f1",
   "metadata": {
    "ExecuteTime": {
     "end_time": "2021-12-18T01:51:04.142685Z",
     "start_time": "2021-12-18T01:51:03.393091Z"
    },
    "hidden": true,
    "scrolled": false
   },
   "outputs": [
    {
     "data": {
      "text/html": [
       "<div>\n",
       "<style scoped>\n",
       "    .dataframe tbody tr th:only-of-type {\n",
       "        vertical-align: middle;\n",
       "    }\n",
       "\n",
       "    .dataframe tbody tr th {\n",
       "        vertical-align: top;\n",
       "    }\n",
       "\n",
       "    .dataframe thead th {\n",
       "        text-align: right;\n",
       "    }\n",
       "</style>\n",
       "<table border=\"1\" class=\"dataframe\">\n",
       "  <thead>\n",
       "    <tr style=\"text-align: right;\">\n",
       "      <th></th>\n",
       "      <th>Store</th>\n",
       "      <th>DayOfWeek</th>\n",
       "      <th>Date</th>\n",
       "      <th>Sales</th>\n",
       "      <th>Customers</th>\n",
       "      <th>Open</th>\n",
       "      <th>Promo</th>\n",
       "      <th>StateHoliday</th>\n",
       "      <th>SchoolHoliday</th>\n",
       "      <th>StoreType</th>\n",
       "      <th>Assortment</th>\n",
       "      <th>CompetitionDistance</th>\n",
       "      <th>CompetitionOpenSinceMonth</th>\n",
       "      <th>CompetitionOpenSinceYear</th>\n",
       "      <th>Promo2</th>\n",
       "      <th>Promo2SinceWeek</th>\n",
       "      <th>Promo2SinceYear</th>\n",
       "      <th>PromoInterval</th>\n",
       "    </tr>\n",
       "  </thead>\n",
       "  <tbody>\n",
       "    <tr>\n",
       "      <th>0</th>\n",
       "      <td>1</td>\n",
       "      <td>5</td>\n",
       "      <td>2015-07-31</td>\n",
       "      <td>5263</td>\n",
       "      <td>555</td>\n",
       "      <td>1</td>\n",
       "      <td>1</td>\n",
       "      <td>0</td>\n",
       "      <td>1</td>\n",
       "      <td>c</td>\n",
       "      <td>a</td>\n",
       "      <td>1270.0</td>\n",
       "      <td>9.0</td>\n",
       "      <td>2008.0</td>\n",
       "      <td>0</td>\n",
       "      <td>NaN</td>\n",
       "      <td>NaN</td>\n",
       "      <td>NaN</td>\n",
       "    </tr>\n",
       "    <tr>\n",
       "      <th>1</th>\n",
       "      <td>2</td>\n",
       "      <td>5</td>\n",
       "      <td>2015-07-31</td>\n",
       "      <td>6064</td>\n",
       "      <td>625</td>\n",
       "      <td>1</td>\n",
       "      <td>1</td>\n",
       "      <td>0</td>\n",
       "      <td>1</td>\n",
       "      <td>a</td>\n",
       "      <td>a</td>\n",
       "      <td>570.0</td>\n",
       "      <td>11.0</td>\n",
       "      <td>2007.0</td>\n",
       "      <td>1</td>\n",
       "      <td>13.0</td>\n",
       "      <td>2010.0</td>\n",
       "      <td>Jan,Apr,Jul,Oct</td>\n",
       "    </tr>\n",
       "    <tr>\n",
       "      <th>2</th>\n",
       "      <td>3</td>\n",
       "      <td>5</td>\n",
       "      <td>2015-07-31</td>\n",
       "      <td>8314</td>\n",
       "      <td>821</td>\n",
       "      <td>1</td>\n",
       "      <td>1</td>\n",
       "      <td>0</td>\n",
       "      <td>1</td>\n",
       "      <td>a</td>\n",
       "      <td>a</td>\n",
       "      <td>14130.0</td>\n",
       "      <td>12.0</td>\n",
       "      <td>2006.0</td>\n",
       "      <td>1</td>\n",
       "      <td>14.0</td>\n",
       "      <td>2011.0</td>\n",
       "      <td>Jan,Apr,Jul,Oct</td>\n",
       "    </tr>\n",
       "    <tr>\n",
       "      <th>3</th>\n",
       "      <td>4</td>\n",
       "      <td>5</td>\n",
       "      <td>2015-07-31</td>\n",
       "      <td>13995</td>\n",
       "      <td>1498</td>\n",
       "      <td>1</td>\n",
       "      <td>1</td>\n",
       "      <td>0</td>\n",
       "      <td>1</td>\n",
       "      <td>c</td>\n",
       "      <td>c</td>\n",
       "      <td>620.0</td>\n",
       "      <td>9.0</td>\n",
       "      <td>2009.0</td>\n",
       "      <td>0</td>\n",
       "      <td>NaN</td>\n",
       "      <td>NaN</td>\n",
       "      <td>NaN</td>\n",
       "    </tr>\n",
       "    <tr>\n",
       "      <th>4</th>\n",
       "      <td>5</td>\n",
       "      <td>5</td>\n",
       "      <td>2015-07-31</td>\n",
       "      <td>4822</td>\n",
       "      <td>559</td>\n",
       "      <td>1</td>\n",
       "      <td>1</td>\n",
       "      <td>0</td>\n",
       "      <td>1</td>\n",
       "      <td>a</td>\n",
       "      <td>a</td>\n",
       "      <td>29910.0</td>\n",
       "      <td>4.0</td>\n",
       "      <td>2015.0</td>\n",
       "      <td>0</td>\n",
       "      <td>NaN</td>\n",
       "      <td>NaN</td>\n",
       "      <td>NaN</td>\n",
       "    </tr>\n",
       "  </tbody>\n",
       "</table>\n",
       "</div>"
      ],
      "text/plain": [
       "   Store  DayOfWeek        Date  Sales  Customers  Open  Promo StateHoliday  \\\n",
       "0      1          5  2015-07-31   5263        555     1      1            0   \n",
       "1      2          5  2015-07-31   6064        625     1      1            0   \n",
       "2      3          5  2015-07-31   8314        821     1      1            0   \n",
       "3      4          5  2015-07-31  13995       1498     1      1            0   \n",
       "4      5          5  2015-07-31   4822        559     1      1            0   \n",
       "\n",
       "   SchoolHoliday StoreType Assortment  CompetitionDistance  \\\n",
       "0              1         c          a               1270.0   \n",
       "1              1         a          a                570.0   \n",
       "2              1         a          a              14130.0   \n",
       "3              1         c          c                620.0   \n",
       "4              1         a          a              29910.0   \n",
       "\n",
       "   CompetitionOpenSinceMonth  CompetitionOpenSinceYear  Promo2  \\\n",
       "0                        9.0                    2008.0       0   \n",
       "1                       11.0                    2007.0       1   \n",
       "2                       12.0                    2006.0       1   \n",
       "3                        9.0                    2009.0       0   \n",
       "4                        4.0                    2015.0       0   \n",
       "\n",
       "   Promo2SinceWeek  Promo2SinceYear    PromoInterval  \n",
       "0              NaN              NaN              NaN  \n",
       "1             13.0           2010.0  Jan,Apr,Jul,Oct  \n",
       "2             14.0           2011.0  Jan,Apr,Jul,Oct  \n",
       "3              NaN              NaN              NaN  \n",
       "4              NaN              NaN              NaN  "
      ]
     },
     "execution_count": 6,
     "metadata": {},
     "output_type": "execute_result"
    }
   ],
   "source": [
    "# Merging df's\n",
    "\n",
    "df = pd.merge(df_train, df_store, how='left', on='Store')\n",
    "\n",
    "df.head()"
   ]
  },
  {
   "cell_type": "code",
   "execution_count": 7,
   "id": "35d247e2",
   "metadata": {
    "ExecuteTime": {
     "end_time": "2021-12-18T01:51:04.160389Z",
     "start_time": "2021-12-18T01:51:04.145385Z"
    },
    "hidden": true
   },
   "outputs": [
    {
     "name": "stdout",
     "output_type": "stream",
     "text": [
      "\n",
      "Data dimensions:\n",
      "\n",
      "Number of rows:1017209\n",
      "Number of columns:18\n"
     ]
    }
   ],
   "source": [
    "# Checking data dimensions after merging\n",
    "\n",
    "print('\\nData dimensions:\\n')\n",
    "print('Number of rows:{}'.format(df.shape[0]))\n",
    "print('Number of columns:{}'.format(df.shape[1]))"
   ]
  },
  {
   "cell_type": "code",
   "execution_count": 8,
   "id": "3194306d",
   "metadata": {
    "ExecuteTime": {
     "end_time": "2021-12-18T01:51:04.230477Z",
     "start_time": "2021-12-18T01:51:04.166314Z"
    },
    "hidden": true
   },
   "outputs": [
    {
     "data": {
      "text/plain": [
       "Store                          int64\n",
       "DayOfWeek                      int64\n",
       "Date                          object\n",
       "Sales                          int64\n",
       "Customers                      int64\n",
       "Open                           int64\n",
       "Promo                          int64\n",
       "StateHoliday                  object\n",
       "SchoolHoliday                  int64\n",
       "StoreType                     object\n",
       "Assortment                    object\n",
       "CompetitionDistance          float64\n",
       "CompetitionOpenSinceMonth    float64\n",
       "CompetitionOpenSinceYear     float64\n",
       "Promo2                         int64\n",
       "Promo2SinceWeek              float64\n",
       "Promo2SinceYear              float64\n",
       "PromoInterval                 object\n",
       "dtype: object"
      ]
     },
     "execution_count": 8,
     "metadata": {},
     "output_type": "execute_result"
    }
   ],
   "source": [
    "# Checking data types\n",
    "\n",
    "df.dtypes"
   ]
  },
  {
   "cell_type": "code",
   "execution_count": 9,
   "id": "79bdedfd",
   "metadata": {
    "ExecuteTime": {
     "end_time": "2021-12-18T01:51:04.448197Z",
     "start_time": "2021-12-18T01:51:04.233455Z"
    },
    "hidden": true
   },
   "outputs": [],
   "source": [
    "# Changing column 'DayOfWeek' to datetime\n",
    "\n",
    "df['Date'] = pd.to_datetime(df['Date'])"
   ]
  },
  {
   "cell_type": "code",
   "execution_count": 10,
   "id": "04c81161",
   "metadata": {
    "ExecuteTime": {
     "end_time": "2021-12-18T01:51:04.460987Z",
     "start_time": "2021-12-18T01:51:04.454899Z"
    },
    "code_folding": [],
    "hidden": true
   },
   "outputs": [],
   "source": [
    "# Adjusting column names\n",
    "\n",
    "df.columns = list(map(lambda x: inflection.underscore(x), df.columns)) #changing to underscore + lower(snakecase)"
   ]
  },
  {
   "cell_type": "markdown",
   "id": "33141cf3",
   "metadata": {
    "heading_collapsed": true,
    "hidden": true
   },
   "source": [
    "## <font color=\"#808080\">filling out NA's</font>"
   ]
  },
  {
   "cell_type": "code",
   "execution_count": 11,
   "id": "6ddacfe5",
   "metadata": {
    "ExecuteTime": {
     "end_time": "2021-12-18T01:51:04.922349Z",
     "start_time": "2021-12-18T01:51:04.463153Z"
    },
    "hidden": true
   },
   "outputs": [
    {
     "data": {
      "text/plain": [
       "store                           0.000000\n",
       "day_of_week                     0.000000\n",
       "date                            0.000000\n",
       "sales                           0.000000\n",
       "customers                       0.000000\n",
       "open                            0.000000\n",
       "promo                           0.000000\n",
       "state_holiday                   0.000000\n",
       "school_holiday                  0.000000\n",
       "store_type                      0.000000\n",
       "assortment                      0.000000\n",
       "competition_distance            0.002597\n",
       "competition_open_since_month    0.317878\n",
       "competition_open_since_year     0.317878\n",
       "promo2                          0.000000\n",
       "promo2_since_week               0.499436\n",
       "promo2_since_year               0.499436\n",
       "promo_interval                  0.499436\n",
       "dtype: float64"
      ]
     },
     "execution_count": 11,
     "metadata": {},
     "output_type": "execute_result"
    }
   ],
   "source": [
    "# Checking % of missing values\n",
    "\n",
    "df.isna().sum() / df.shape[0]"
   ]
  },
  {
   "cell_type": "code",
   "execution_count": 12,
   "id": "1f5d1a12",
   "metadata": {
    "ExecuteTime": {
     "end_time": "2021-12-18T01:52:43.451575Z",
     "start_time": "2021-12-18T01:51:04.924585Z"
    },
    "hidden": true
   },
   "outputs": [],
   "source": [
    "# Filling NA's on 'competition_distance' column ===========================================\n",
    "\n",
    "\n",
    "## LÓGICA USADA: se a distância está NA assumiu-se que a distância da loja concorrente é muita alta.\n",
    "### então foi feito o preenchimento por um valor acima da distância mais alta do dataset\n",
    "\n",
    "df['competition_distance'] = df['competition_distance'].apply(lambda x: 200000.0 if pd.isna(x) else x)\n",
    "\n",
    "\n",
    "\n",
    "# Filling NA's on 'competition_open_since_month' column ==================================\n",
    "\n",
    "\n",
    "## LÓGICA USADA: completou-se o valor NA usando o mês da coluna 'date' (data da venda) da respectiva linha\n",
    "\n",
    "df['competition_open_since_month'] = df[['date','competition_open_since_month']].apply(lambda x: x['date'].month if pd.isna(x['competition_open_since_month']) else x['competition_open_since_month'], axis=1)\n",
    "\n",
    "\n",
    "\n",
    "# Filling NA's on 'competition_open_since_year' column =====================================\n",
    "\n",
    "\n",
    "## LÓGICA USADA: completou-se o valor NA usando o ano da coluna 'date' (data da venda) da respectiva linha\n",
    "\n",
    "df['competition_open_since_year'] = df[['date','competition_open_since_year']].apply(lambda x: x['date'].year if pd.isna(x['competition_open_since_year']) else x['competition_open_since_year'], axis=1)\n",
    "\n",
    "\n",
    "\n",
    "# Filling NA's on 'promo2_since_week' column =================================================\n",
    "\n",
    "## LÓGICA USADA: todos os valores onde a coluna promo2 estavam 0 (não houve promoção na loja) a coluna\n",
    "### 'promo2_since_week' estava NA, então assumiu-se que não houve promoção nessa loja e preencheu-se com 0\n",
    "\n",
    "df['promo2_since_week'] = df['promo2_since_week'].fillna(0)\n",
    "\n",
    "\n",
    "\n",
    "# Filling NA's on 'promo2_since_year' column ===================================================\n",
    "\n",
    "## LÓGICA USADA: todos os valores onde a coluna promo2 estavam 0 (não houve promoção na loja) a coluna\n",
    "### 'promo2_since_year' estava NA, então assumiu-se que não houve promoção nessa loja e preencheu-se com 0\n",
    "\n",
    "df['promo2_since_year'] = df['promo2_since_year'].fillna(0)\n",
    "\n",
    "\n",
    "\n",
    "\n",
    "# Filling NA's on 'promo_interval' column ========================================================\n",
    "\n",
    "## LÓGICA USADA: todos os valores onde a coluna promo2 estavam 0 (não houve promoção na loja) a coluna\n",
    "### 'promo_interval' estava NA, então assumiu-se que não houve promoção nessa loja e preencheu-se com 0\n",
    "\n",
    "df['promo_interval'] = df['promo_interval'].fillna(0)\n",
    "\n",
    "\n",
    "\n",
    "# Abaixo será criado um dicionário que auxiliará na conversão dos meses de números em letras:\n",
    "\n",
    "# criando mapeamento dos meses\n",
    "month_map = {1:'Jan', 2:'Feb', 3:'Mar', 4:'Apr', 5:'May', 6:'Jun', 7:'Jul', 8:'Aug', 9:'Sept', 10:'Oct', 11:'Nov', 12:'Dec'}\n",
    "\n",
    "\n",
    "# criado a coluna 'month_map'\n",
    "## LÒGICA: extraíu-se o mês (em número) da coluna 'date' e converteu-se em mês (em palavra) colocando em uma nova\n",
    "### coluna\n",
    "\n",
    "df['month_map'] = df['date'].dt.month.map(month_map)\n",
    "\n",
    "\n",
    "# criando a coluna 'is_promo'\n",
    "# LÓGICA: Se o dia da venda (coluna 'data') estiver em um mês onde foi feita a promoção (coluna 'promo_interval')\n",
    "## então será atribuído 1 na nova coluna 'is_promo', se não tiver promoção ou a venda tiver sido feita em um mês\n",
    "## fora da promoção então o valor atribuído será 0\n",
    "\n",
    "df['is_promo'] = df[['month_map', 'promo_interval']].apply(lambda x: 0 if x['promo_interval']==0 else 1 if x['month_map'] in x['promo_interval'].split(',') else 0, axis=1)\n"
   ]
  },
  {
   "cell_type": "code",
   "execution_count": 13,
   "id": "79d89ca3",
   "metadata": {
    "ExecuteTime": {
     "end_time": "2021-12-18T01:52:43.884371Z",
     "start_time": "2021-12-18T01:52:43.454765Z"
    },
    "hidden": true
   },
   "outputs": [
    {
     "data": {
      "text/plain": [
       "store                           0.0\n",
       "day_of_week                     0.0\n",
       "date                            0.0\n",
       "sales                           0.0\n",
       "customers                       0.0\n",
       "open                            0.0\n",
       "promo                           0.0\n",
       "state_holiday                   0.0\n",
       "school_holiday                  0.0\n",
       "store_type                      0.0\n",
       "assortment                      0.0\n",
       "competition_distance            0.0\n",
       "competition_open_since_month    0.0\n",
       "competition_open_since_year     0.0\n",
       "promo2                          0.0\n",
       "promo2_since_week               0.0\n",
       "promo2_since_year               0.0\n",
       "promo_interval                  0.0\n",
       "month_map                       0.0\n",
       "is_promo                        0.0\n",
       "dtype: float64"
      ]
     },
     "execution_count": 13,
     "metadata": {},
     "output_type": "execute_result"
    }
   ],
   "source": [
    "# There is no more NA's in the dataset\n",
    "\n",
    "df.isna().sum() / df.shape[0]"
   ]
  },
  {
   "cell_type": "code",
   "execution_count": 14,
   "id": "706f97c1",
   "metadata": {
    "ExecuteTime": {
     "end_time": "2021-12-18T01:52:43.902612Z",
     "start_time": "2021-12-18T01:52:43.887267Z"
    },
    "hidden": true
   },
   "outputs": [
    {
     "data": {
      "text/plain": [
       "store                                    int64\n",
       "day_of_week                              int64\n",
       "date                            datetime64[ns]\n",
       "sales                                    int64\n",
       "customers                                int64\n",
       "open                                     int64\n",
       "promo                                    int64\n",
       "state_holiday                           object\n",
       "school_holiday                           int64\n",
       "store_type                              object\n",
       "assortment                              object\n",
       "competition_distance                   float64\n",
       "competition_open_since_month           float64\n",
       "competition_open_since_year            float64\n",
       "promo2                                   int64\n",
       "promo2_since_week                      float64\n",
       "promo2_since_year                      float64\n",
       "promo_interval                          object\n",
       "month_map                               object\n",
       "is_promo                                 int64\n",
       "dtype: object"
      ]
     },
     "execution_count": 14,
     "metadata": {},
     "output_type": "execute_result"
    }
   ],
   "source": [
    "# Changing data types after previous columns creation\n",
    "\n",
    "## columns 'competition_open_since_month','competition_open_since_year','promo2_since_week','promo2_since_year'\n",
    "## need to be changed to int64\n",
    "\n",
    "df.dtypes"
   ]
  },
  {
   "cell_type": "code",
   "execution_count": 15,
   "id": "c554e4fc",
   "metadata": {
    "ExecuteTime": {
     "end_time": "2021-12-18T01:52:44.153382Z",
     "start_time": "2021-12-18T01:52:43.905794Z"
    },
    "hidden": true
   },
   "outputs": [],
   "source": [
    "# Changing data types after previous columns creation\n",
    "\n",
    "df[['competition_open_since_month',\n",
    "    'competition_open_since_year',\n",
    "    'promo2_since_week',\n",
    "    'promo2_since_year']] = df[['competition_open_since_month',\n",
    "                                'competition_open_since_year',\n",
    "                                'promo2_since_week',\n",
    "                                'promo2_since_year']].astype(int)"
   ]
  },
  {
   "cell_type": "markdown",
   "id": "9157013b",
   "metadata": {
    "ExecuteTime": {
     "end_time": "2021-12-16T02:45:54.390168Z",
     "start_time": "2021-12-16T02:45:54.375280Z"
    },
    "heading_collapsed": true,
    "hidden": true
   },
   "source": [
    "## <font color=\"#808080\">descriptive statistics</font>"
   ]
  },
  {
   "cell_type": "code",
   "execution_count": 16,
   "id": "08d353b5",
   "metadata": {
    "ExecuteTime": {
     "end_time": "2021-12-18T01:52:44.401817Z",
     "start_time": "2021-12-18T01:52:44.155402Z"
    },
    "hidden": true
   },
   "outputs": [],
   "source": [
    "# Separando df com atributos númericos e categóricos\n",
    "\n",
    "num_attrib = df.select_dtypes(include=['float64','int64'])\n",
    "\n",
    "cat_attrib = df.select_dtypes(exclude=['float64','int64','datetime64[ns]'])"
   ]
  },
  {
   "cell_type": "code",
   "execution_count": 17,
   "id": "b28341cb",
   "metadata": {
    "ExecuteTime": {
     "end_time": "2021-12-18T01:52:45.173431Z",
     "start_time": "2021-12-18T01:52:44.404756Z"
    },
    "hidden": true,
    "scrolled": true
   },
   "outputs": [
    {
     "data": {
      "text/html": [
       "<div>\n",
       "<style scoped>\n",
       "    .dataframe tbody tr th:only-of-type {\n",
       "        vertical-align: middle;\n",
       "    }\n",
       "\n",
       "    .dataframe tbody tr th {\n",
       "        vertical-align: top;\n",
       "    }\n",
       "\n",
       "    .dataframe thead th {\n",
       "        text-align: right;\n",
       "    }\n",
       "</style>\n",
       "<table border=\"1\" class=\"dataframe\">\n",
       "  <thead>\n",
       "    <tr style=\"text-align: right;\">\n",
       "      <th></th>\n",
       "      <th>store</th>\n",
       "      <th>day_of_week</th>\n",
       "      <th>sales</th>\n",
       "      <th>customers</th>\n",
       "      <th>open</th>\n",
       "      <th>promo</th>\n",
       "      <th>school_holiday</th>\n",
       "      <th>competition_distance</th>\n",
       "      <th>competition_open_since_month</th>\n",
       "      <th>competition_open_since_year</th>\n",
       "      <th>promo2</th>\n",
       "      <th>promo2_since_week</th>\n",
       "      <th>promo2_since_year</th>\n",
       "      <th>is_promo</th>\n",
       "    </tr>\n",
       "  </thead>\n",
       "  <tbody>\n",
       "    <tr>\n",
       "      <th>min</th>\n",
       "      <td>1.000000</td>\n",
       "      <td>1.000000</td>\n",
       "      <td>0.000000</td>\n",
       "      <td>0.000000</td>\n",
       "      <td>0.000000</td>\n",
       "      <td>0.000000</td>\n",
       "      <td>0.000000</td>\n",
       "      <td>20.000000</td>\n",
       "      <td>1.000000</td>\n",
       "      <td>1900.000000</td>\n",
       "      <td>0.000000</td>\n",
       "      <td>0.000000</td>\n",
       "      <td>0.000000</td>\n",
       "      <td>0.000000</td>\n",
       "    </tr>\n",
       "    <tr>\n",
       "      <th>max</th>\n",
       "      <td>1115.000000</td>\n",
       "      <td>7.000000</td>\n",
       "      <td>41551.000000</td>\n",
       "      <td>7388.000000</td>\n",
       "      <td>1.000000</td>\n",
       "      <td>1.000000</td>\n",
       "      <td>1.000000</td>\n",
       "      <td>200000.000000</td>\n",
       "      <td>12.000000</td>\n",
       "      <td>2015.000000</td>\n",
       "      <td>1.000000</td>\n",
       "      <td>50.000000</td>\n",
       "      <td>2015.000000</td>\n",
       "      <td>1.000000</td>\n",
       "    </tr>\n",
       "    <tr>\n",
       "      <th>range</th>\n",
       "      <td>1114.000000</td>\n",
       "      <td>6.000000</td>\n",
       "      <td>41551.000000</td>\n",
       "      <td>7388.000000</td>\n",
       "      <td>1.000000</td>\n",
       "      <td>1.000000</td>\n",
       "      <td>1.000000</td>\n",
       "      <td>199980.000000</td>\n",
       "      <td>11.000000</td>\n",
       "      <td>115.000000</td>\n",
       "      <td>1.000000</td>\n",
       "      <td>50.000000</td>\n",
       "      <td>2015.000000</td>\n",
       "      <td>1.000000</td>\n",
       "    </tr>\n",
       "    <tr>\n",
       "      <th>mean</th>\n",
       "      <td>558.429727</td>\n",
       "      <td>3.998341</td>\n",
       "      <td>5773.818972</td>\n",
       "      <td>633.145946</td>\n",
       "      <td>0.830107</td>\n",
       "      <td>0.381515</td>\n",
       "      <td>0.178647</td>\n",
       "      <td>5935.442677</td>\n",
       "      <td>6.786849</td>\n",
       "      <td>2010.324840</td>\n",
       "      <td>0.500564</td>\n",
       "      <td>11.647665</td>\n",
       "      <td>1007.010608</td>\n",
       "      <td>0.171835</td>\n",
       "    </tr>\n",
       "    <tr>\n",
       "      <th>median</th>\n",
       "      <td>558.000000</td>\n",
       "      <td>4.000000</td>\n",
       "      <td>5744.000000</td>\n",
       "      <td>609.000000</td>\n",
       "      <td>1.000000</td>\n",
       "      <td>0.000000</td>\n",
       "      <td>0.000000</td>\n",
       "      <td>2330.000000</td>\n",
       "      <td>7.000000</td>\n",
       "      <td>2012.000000</td>\n",
       "      <td>1.000000</td>\n",
       "      <td>1.000000</td>\n",
       "      <td>2009.000000</td>\n",
       "      <td>0.000000</td>\n",
       "    </tr>\n",
       "    <tr>\n",
       "      <th>std</th>\n",
       "      <td>321.908493</td>\n",
       "      <td>1.997390</td>\n",
       "      <td>3849.924283</td>\n",
       "      <td>464.411506</td>\n",
       "      <td>0.375539</td>\n",
       "      <td>0.485758</td>\n",
       "      <td>0.383056</td>\n",
       "      <td>12547.646829</td>\n",
       "      <td>3.311085</td>\n",
       "      <td>5.515591</td>\n",
       "      <td>0.500000</td>\n",
       "      <td>15.323921</td>\n",
       "      <td>1005.876436</td>\n",
       "      <td>0.377237</td>\n",
       "    </tr>\n",
       "    <tr>\n",
       "      <th>skew</th>\n",
       "      <td>-0.000955</td>\n",
       "      <td>0.001593</td>\n",
       "      <td>0.641460</td>\n",
       "      <td>1.598650</td>\n",
       "      <td>-1.758045</td>\n",
       "      <td>0.487838</td>\n",
       "      <td>1.677842</td>\n",
       "      <td>10.242344</td>\n",
       "      <td>-0.042076</td>\n",
       "      <td>-7.235657</td>\n",
       "      <td>-0.002255</td>\n",
       "      <td>1.003390</td>\n",
       "      <td>-0.002251</td>\n",
       "      <td>1.739838</td>\n",
       "    </tr>\n",
       "    <tr>\n",
       "      <th>kurtosis</th>\n",
       "      <td>-1.200524</td>\n",
       "      <td>-1.246873</td>\n",
       "      <td>1.778375</td>\n",
       "      <td>7.091773</td>\n",
       "      <td>1.090723</td>\n",
       "      <td>-1.762018</td>\n",
       "      <td>0.815154</td>\n",
       "      <td>147.789712</td>\n",
       "      <td>-1.232607</td>\n",
       "      <td>124.071304</td>\n",
       "      <td>-1.999999</td>\n",
       "      <td>-0.498322</td>\n",
       "      <td>-1.999993</td>\n",
       "      <td>1.027039</td>\n",
       "    </tr>\n",
       "  </tbody>\n",
       "</table>\n",
       "</div>"
      ],
      "text/plain": [
       "                store  day_of_week         sales    customers      open  \\\n",
       "min          1.000000     1.000000      0.000000     0.000000  0.000000   \n",
       "max       1115.000000     7.000000  41551.000000  7388.000000  1.000000   \n",
       "range     1114.000000     6.000000  41551.000000  7388.000000  1.000000   \n",
       "mean       558.429727     3.998341   5773.818972   633.145946  0.830107   \n",
       "median     558.000000     4.000000   5744.000000   609.000000  1.000000   \n",
       "std        321.908493     1.997390   3849.924283   464.411506  0.375539   \n",
       "skew        -0.000955     0.001593      0.641460     1.598650 -1.758045   \n",
       "kurtosis    -1.200524    -1.246873      1.778375     7.091773  1.090723   \n",
       "\n",
       "             promo  school_holiday  competition_distance  \\\n",
       "min       0.000000        0.000000             20.000000   \n",
       "max       1.000000        1.000000         200000.000000   \n",
       "range     1.000000        1.000000         199980.000000   \n",
       "mean      0.381515        0.178647           5935.442677   \n",
       "median    0.000000        0.000000           2330.000000   \n",
       "std       0.485758        0.383056          12547.646829   \n",
       "skew      0.487838        1.677842             10.242344   \n",
       "kurtosis -1.762018        0.815154            147.789712   \n",
       "\n",
       "          competition_open_since_month  competition_open_since_year    promo2  \\\n",
       "min                           1.000000                  1900.000000  0.000000   \n",
       "max                          12.000000                  2015.000000  1.000000   \n",
       "range                        11.000000                   115.000000  1.000000   \n",
       "mean                          6.786849                  2010.324840  0.500564   \n",
       "median                        7.000000                  2012.000000  1.000000   \n",
       "std                           3.311085                     5.515591  0.500000   \n",
       "skew                         -0.042076                    -7.235657 -0.002255   \n",
       "kurtosis                     -1.232607                   124.071304 -1.999999   \n",
       "\n",
       "          promo2_since_week  promo2_since_year  is_promo  \n",
       "min                0.000000           0.000000  0.000000  \n",
       "max               50.000000        2015.000000  1.000000  \n",
       "range             50.000000        2015.000000  1.000000  \n",
       "mean              11.647665        1007.010608  0.171835  \n",
       "median             1.000000        2009.000000  0.000000  \n",
       "std               15.323921        1005.876436  0.377237  \n",
       "skew               1.003390          -0.002251  1.739838  \n",
       "kurtosis          -0.498322          -1.999993  1.027039  "
      ]
     },
     "execution_count": 17,
     "metadata": {},
     "output_type": "execute_result"
    }
   ],
   "source": [
    "# Descriptive statistics\n",
    "\n",
    "pd.DataFrame(data=[num_attrib.apply(np.min),\n",
    "          num_attrib.apply(np.max),\n",
    "          num_attrib.apply(lambda x: np.max(x) - np.min(x)),\n",
    "          num_attrib.apply(np.mean),\n",
    "          num_attrib.apply(np.median),\n",
    "          num_attrib.apply(np.std),\n",
    "          num_attrib.apply(lambda x: x.skew()),\n",
    "          num_attrib.apply(lambda x: x.kurtosis())],\n",
    "             \n",
    "             index=np.array(['min', 'max', 'range', 'mean', 'median', 'std', 'skew', 'kurtosis']))"
   ]
  },
  {
   "cell_type": "code",
   "execution_count": 18,
   "id": "5bfc7c2a",
   "metadata": {
    "ExecuteTime": {
     "end_time": "2021-12-18T01:52:47.495165Z",
     "start_time": "2021-12-18T01:52:45.175404Z"
    },
    "code_folding": [],
    "hidden": true
   },
   "outputs": [
    {
     "data": {
      "image/png": "[encoded data removed]",
      "text/plain": [
       "<Figure size 432x288 with 1 Axes>"
      ]
     },
     "metadata": {
      "needs_background": "light"
     },
     "output_type": "display_data"
    }
   ],
   "source": [
    "# Numeric atribute view:\n",
    "\n",
    "# Exploring 'competition_distance'\n",
    "\n",
    "sns.histplot(df.loc[df['competition_distance']<75000, 'competition_distance']);"
   ]
  },
  {
   "cell_type": "code",
   "execution_count": 19,
   "id": "49448d08",
   "metadata": {
    "ExecuteTime": {
     "end_time": "2021-12-18T01:52:49.721220Z",
     "start_time": "2021-12-18T01:52:47.498451Z"
    },
    "hidden": true
   },
   "outputs": [
    {
     "data": {
      "text/plain": [
       "<AxesSubplot:xlabel='sales', ylabel='Count'>"
      ]
     },
     "execution_count": 19,
     "metadata": {},
     "output_type": "execute_result"
    },
    {
     "data": {
      "image/png": "[encoded data removed]",
      "text/plain": [
       "<Figure size 432x288 with 1 Axes>"
      ]
     },
     "metadata": {
      "needs_background": "light"
     },
     "output_type": "display_data"
    }
   ],
   "source": [
    "# Numeric atribute view:\n",
    "\n",
    "# Exploring 'sales'\n",
    "\n",
    "sns.histplot(df['sales'])"
   ]
  },
  {
   "cell_type": "code",
   "execution_count": 20,
   "id": "cd639d40",
   "metadata": {
    "ExecuteTime": {
     "end_time": "2021-12-18T01:52:52.904851Z",
     "start_time": "2021-12-18T01:52:49.725187Z"
    },
    "hidden": true
   },
   "outputs": [
    {
     "data": {
      "text/plain": [
       "<AxesSubplot:xlabel='customers', ylabel='Count'>"
      ]
     },
     "execution_count": 20,
     "metadata": {},
     "output_type": "execute_result"
    },
    {
     "data": {
      "image/png": "[encoded data removed]",
      "text/plain": [
       "<Figure size 432x288 with 1 Axes>"
      ]
     },
     "metadata": {
      "needs_background": "light"
     },
     "output_type": "display_data"
    }
   ],
   "source": [
    "# Numeric atribute view:\n",
    "\n",
    "# Exploring 'customers'\n",
    "\n",
    "sns.histplot(df['customers'])"
   ]
  },
  {
   "cell_type": "code",
   "execution_count": 21,
   "id": "cb29db13",
   "metadata": {
    "ExecuteTime": {
     "end_time": "2021-12-18T01:52:59.541327Z",
     "start_time": "2021-12-18T01:52:52.907380Z"
    },
    "hidden": true
   },
   "outputs": [
    {
     "data": {
      "image/png": "[encoded data removed]",
      "text/plain": [
       "<Figure size 1080x720 with 6 Axes>"
      ]
     },
     "metadata": {
      "needs_background": "light"
     },
     "output_type": "display_data"
    }
   ],
   "source": [
    "# Categorical atribute view:\n",
    "\n",
    "plt.figure(figsize=(15,10))\n",
    "\n",
    "plt.subplot(2,3,1)\n",
    "sns.boxplot(x=df['store_type'], y=df['sales'], data=df)\n",
    "\n",
    "plt.subplot(2,3,2)\n",
    "sns.boxplot(x=df.loc[(df['state_holiday']!='0') & (df['sales']>0), 'state_holiday'], y=df['sales'], data=df)\n",
    "\n",
    "plt.subplot(2,3,3)\n",
    "sns.boxplot(x=df['assortment'], y=df['sales'], data=df)\n",
    "\n",
    "\n",
    "\n",
    "plt.subplot(2,3,4)\n",
    "sns.boxplot(x=df['store_type'], y=df['customers'], data=df)\n",
    "\n",
    "plt.subplot(2,3,5)\n",
    "sns.boxplot(x=df.loc[(df['state_holiday']!='0') & (df['customers']>0), 'state_holiday'], y=df['customers'], data=df)\n",
    "\n",
    "plt.subplot(2,3,6)\n",
    "sns.boxplot(x=df['assortment'], y=df['customers'], data=df)\n",
    "\n",
    "\n",
    "\n",
    "plt.tight_layout()\n"
   ]
  },
  {
   "cell_type": "code",
   "execution_count": null,
   "id": "91ebcf2c",
   "metadata": {
    "hidden": true
   },
   "outputs": [],
   "source": []
  },
  {
   "cell_type": "code",
   "execution_count": null,
   "id": "6ae896e2",
   "metadata": {
    "hidden": true
   },
   "outputs": [],
   "source": []
  },
  {
   "cell_type": "markdown",
   "id": "4001dc5b",
   "metadata": {
    "ExecuteTime": {
     "end_time": "2021-12-16T02:45:54.390168Z",
     "start_time": "2021-12-16T02:45:54.375280Z"
    },
    "heading_collapsed": true
   },
   "source": [
    "# Feature engeneering"
   ]
  },
  {
   "cell_type": "markdown",
   "id": "92493e7c",
   "metadata": {
    "heading_collapsed": true,
    "hidden": true
   },
   "source": [
    "## <font color=\"#808080\">mindmap de hipóteses</font>"
   ]
  },
  {
   "cell_type": "code",
   "execution_count": 22,
   "id": "4e3083a9",
   "metadata": {
    "ExecuteTime": {
     "end_time": "2021-12-18T01:52:59.574653Z",
     "start_time": "2021-12-18T01:52:59.544243Z"
    },
    "hidden": true,
    "scrolled": true
   },
   "outputs": [
    {
     "data": {
      "image/png": "[encoded data removed]",
      "text/plain": [
       "<IPython.core.display.Image object>"
      ]
     },
     "execution_count": 22,
     "metadata": {},
     "output_type": "execute_result"
    }
   ],
   "source": [
    "Image(filename='/home/gustavo/repos/Rossmann/Dailly_store_sales_mindmap.png')"
   ]
  },
  {
   "cell_type": "markdown",
   "id": "a597c2c9",
   "metadata": {
    "ExecuteTime": {
     "end_time": "2021-12-17T05:01:50.613721Z",
     "start_time": "2021-12-17T05:01:50.600188Z"
    },
    "heading_collapsed": true,
    "hidden": true
   },
   "source": [
    "## <font color=\"#808080\">hipóteses à serem validadas com os dados presentes no dataset</font>"
   ]
  },
  {
   "cell_type": "markdown",
   "id": "ce953ab0",
   "metadata": {
    "ExecuteTime": {
     "end_time": "2021-12-17T04:33:10.786041Z",
     "start_time": "2021-12-17T04:33:10.767811Z"
    },
    "hidden": true
   },
   "source": [
    " <br></br>\n",
    " Nessa parte o mapa mental de hipóteses acima deve ser observado. \n",
    " <br></br>\n",
    "\n",
    "A partir dos atributos de cada entidade devem ser levantadas as hipóteses que impactam no fenômeno a ser modelado.\n",
    "\n",
    "LÓGICA: Um aumento/diminuição no atributo x aumenta/diminui a quantidade de vendas.\n",
    "<br></br>\n",
    "\n",
    "As hipóteses levantadas são posteriormente validadas a partir dos dados disponíveis no dataset\n",
    "\n",
    "\n",
    "Dessa forma, baseado nos dados disponíveis no dataset foram levantadas as seguintes hipóteses:\n",
    "<br></br>\n",
    "\n",
    "Entidade <em>Loja</em>:\n",
    "\n",
    "\n",
    "**1.** Lojas com maior sortimentos deveriam vender mais.\n",
    "\n",
    "**2.** Lojas com competidores mais próximos deveriam vender menos.\n",
    "\n",
    "**3.** Lojas com competidores à mais tempo deveriam vendem mais.\n",
    "<br></br>\n",
    "\n",
    "Entidade <em>Produtos</em>:\n",
    "\n",
    "**4.** Lojas com promoções ativas por mais tempo deveriam vender mais.\n",
    "\n",
    "**5.** Lojas com mais dias de promoção deveriam vender mais.\n",
    "\n",
    "**7.** Lojas com mais promoções consecutivas deveriam vender mais.\n",
    "<br></br>\n",
    "\n",
    "Entidade <em>Temporal</em>:\n",
    "\n",
    "**8.** Lojas abertas durante o feriado de Natal deveriam vender mais.\n",
    "\n",
    "**9.** Lojas deveriam vender mais ao longo dos anos.\n",
    "\n",
    "**10.** Lojas deveriam vender mais no segundo semestre do ano.\n",
    "\n",
    "**11.** Lojas deveriam vender mais depois do dia 10 de cada mês.\n",
    "\n",
    "**12.** Lojas deveriam vender menos aos finais de semana.\n",
    "\n",
    "**13.** Lojas deveriam vender menos durante os feriados escolares."
   ]
  },
  {
   "cell_type": "code",
   "execution_count": 23,
   "id": "4b37f2c2",
   "metadata": {
    "ExecuteTime": {
     "end_time": "2021-12-18T01:52:59.763983Z",
     "start_time": "2021-12-18T01:52:59.577953Z"
    },
    "hidden": true
   },
   "outputs": [],
   "source": [
    "df_1 = df.copy()"
   ]
  },
  {
   "cell_type": "code",
   "execution_count": 24,
   "id": "5722b706",
   "metadata": {
    "ExecuteTime": {
     "end_time": "2021-12-18T01:53:00.295999Z",
     "start_time": "2021-12-18T01:52:59.766735Z"
    },
    "hidden": true
   },
   "outputs": [],
   "source": [
    "# Changing column 'assortment'\n",
    "\n",
    "df_1['assortment'] = df_1['assortment'].apply(lambda x:'basic' if x=='a' else 'extra' if x=='b' else 'extended')\n",
    "\n",
    "\n",
    "# Changing column 'state_holiday'\n",
    "\n",
    "df_1['state_holiday'] = df_1['state_holiday'].apply(lambda x:'Public holiday' if x=='a' else 'Easter' if x=='b' else 'Christmas' if x=='c' else 'regular day')\n"
   ]
  },
  {
   "cell_type": "code",
   "execution_count": 25,
   "id": "4d0030e7",
   "metadata": {
    "ExecuteTime": {
     "end_time": "2021-12-18T01:55:37.307123Z",
     "start_time": "2021-12-18T01:53:00.298480Z"
    },
    "hidden": true,
    "scrolled": true
   },
   "outputs": [
    {
     "name": "stderr",
     "output_type": "stream",
     "text": [
      "/tmp/ipykernel_15554/986586873.py:21: FutureWarning: Series.dt.weekofyear and Series.dt.week have been deprecated.  Please use Series.dt.isocalendar().week instead.\n",
      "  df_1['week_of_year'] = df_1['date'].dt.weekofyear\n",
      "/home/gustavo/.pyenv/versions/3.8.0/envs/Rossmann/lib/python3.8/site-packages/pandas/core/arrays/datetimelike.py:1187: PerformanceWarning: Adding/subtracting object-dtype array to DatetimeArray not vectorized\n",
      "  warnings.warn(\n"
     ]
    }
   ],
   "source": [
    "# Derivando novas variáveis:\n",
    "\n",
    "\n",
    "# year\n",
    "\n",
    "df_1['year'] = df_1['date'].dt.year\n",
    "\n",
    "\n",
    "# month\n",
    "\n",
    "df_1['month'] = df_1['date'].dt.month\n",
    "\n",
    "\n",
    "# day\n",
    "\n",
    "df_1['day'] = df_1['date'].dt.day\n",
    "\n",
    "\n",
    "# week of year\n",
    "\n",
    "df_1['week_of_year'] = df_1['date'].dt.weekofyear\n",
    "\n",
    "\n",
    "# year week\n",
    " \n",
    "df_1['year_week'] = df_1['date'].dt.strftime('%Y-%W') # esse comando apenas coleta a data da venda e muda a formatação\n",
    "\n",
    "\n",
    "\n",
    "\n",
    "# competition_since (quanto tempo desde o início da competição ate a data da compra)\n",
    "\n",
    "# 1o passo - juntar as colunas 'competition_open_since_month' com 'competition_open_since_year'\n",
    "\n",
    "df_1['competition_since'] = df_1[['competition_open_since_year','competition_open_since_month']].apply(lambda x: datetime.datetime(year= x['competition_open_since_year'], month=x['competition_open_since_month'], day=1), axis=1)\n",
    "\n",
    "# 2o passo - subtrair as datas de 'date' e 'competition_since' e dividir 30 (granularidade mês)\n",
    "df_1['competition_time_month'] = ((df_1['date'] - df_1['competition_since'])/ 30).apply(lambda x: x.days).astype(int)\n",
    "\n",
    "\n",
    "\n",
    "\n",
    "# promo2_since (quanto tempo desde a a promoção estar ativa até a data da compra)\n",
    "\n",
    "# 1° passo: juntar a coluna 'promo2_since_year' com a coluna 'promo2_since_week' e armazenar em uma nova coluna\n",
    "df_1['promo2_since'] = df_1.apply(lambda x: str(x['promo2_since_year']) + '-' + str(x['promo2_since_week']),axis=1)\n",
    "\n",
    "# 2° passo: converter 'promo_since' de string para data\n",
    "# OBSERVAÇÃO IMPORTANTE: tive que fazer uma adaptação no código.\n",
    "# no código original a atribuição é feita sobre todas as linhas da coluna 'promo_since', no entanto o lambda\n",
    "# não estava funcionando na coluna 'promo_since' nas linhas com valores zerados '0-0' (proveniente dos valores\n",
    "# NA's que foram substituídos por 0 na etapa de preenchimento de NA's) então tive que aplicar a função no df\n",
    "# filtrado (df_1['promo_since']!='0-0')\n",
    "df_1.loc[df_1['promo2_since']!='0-0','promo2_since'] = df_1.loc[df_1['promo2_since']!='0-0','promo2_since'].apply(lambda x: datetime.datetime.strptime(x+'-1', '%Y-%W-%w') - datetime.timedelta(days=7) )\n",
    "\n",
    "# 3° passo: subtrair a data da coluna 'date' da coluna 'promo_since' (criada no passo acima), mantendo o filtro\n",
    "# condicional de linhas (df_1['promo_since']!='0-0') a atribuindo a uma nova coluna 'promo_time_week' mantendo\n",
    "# o filtro de linhas\n",
    "df_1.loc[df_1['promo2_since']!='0-0','promo2_time_week'] = ((df_1.loc[df_1['promo2_since']!='0-0','date'] - df_1.loc[df_1['promo2_since']!='0-0','promo2_since']) / 7).apply(lambda x: x.days).astype(int)\n",
    "\n",
    "# 4° passo: os filtros de linha anteriores resultaram apenas em dados preenchidos nas linhas do filtro. As linhas\n",
    "# não pertencentes ao filtro foram preenchidas com NA's. Preencher esses valores com 0\n",
    "df_1['promo2_time_week'] = df_1['promo2_time_week'].fillna(0)\n",
    "\n"
   ]
  },
  {
   "cell_type": "code",
   "execution_count": null,
   "id": "e0407fb3",
   "metadata": {
    "hidden": true
   },
   "outputs": [],
   "source": []
  },
  {
   "cell_type": "markdown",
   "id": "718f8522",
   "metadata": {
    "ExecuteTime": {
     "end_time": "2021-12-16T02:45:54.390168Z",
     "start_time": "2021-12-16T02:45:54.375280Z"
    },
    "heading_collapsed": true
   },
   "source": [
    "# Variable filtering and variable selection"
   ]
  },
  {
   "cell_type": "markdown",
   "id": "a12e2e2c",
   "metadata": {
    "hidden": true
   },
   "source": [
    "<br></br>\n",
    "<center>Variable filtering x Variable selection</center>\n",
    "<br></br>\n",
    "\n",
    "<div align=\"justify\"><b>Variable filtering</b> - eliminação de variáveis baseada nas restrições do negócio.\n",
    "\n",
    "ex: variáveis que estão disponíveis no dataset de treino mas não estarão em produção, no momento da previsão.\n",
    "<br></br>\n",
    "\n",
    "<b>Variable selection</b> - eliminação de variáveis irrelevantes para o aprendizado.\n",
    "\n",
    "ex: nesse caso serão eliminadas as colunas auxiliares que foram criadas durante a manipulação dos dados</div>\n",
    "<br></br>\n",
    "<br></br>\n",
    "\n",
    "<center>Eliminação de linhas</center>\n",
    "<br></br>\n",
    "\n",
    "\n",
    "<div align=\"justify\">Também é importante eliminar as linhas irrelevantes no dataset.\n",
    "ex: para esse caso serão eliminadas as linhas onde o valor na coluna 'open' é 0 (loja fechada).\n",
    "As informações de venda nos dias em que a loja está fechada são irrelevantes.\n",
    "Após essa etapa a coluna 'open' será também eliminada pois ela terá valor constante, sendo irrelevante para o aprendizado de máquina.</div>\n",
    "\n"
   ]
  },
  {
   "cell_type": "markdown",
   "id": "6d0cb8a1",
   "metadata": {
    "heading_collapsed": true,
    "hidden": true
   },
   "source": [
    "## <font color=\"#808080\">Seleção das linhas</font>"
   ]
  },
  {
   "cell_type": "code",
   "execution_count": 48,
   "id": "609af087",
   "metadata": {
    "ExecuteTime": {
     "end_time": "2021-12-18T04:10:24.870926Z",
     "start_time": "2021-12-18T04:09:34.667933Z"
    },
    "hidden": true
   },
   "outputs": [],
   "source": [
    "df_2 = df_1.copy()"
   ]
  },
  {
   "cell_type": "code",
   "execution_count": 52,
   "id": "564db56e",
   "metadata": {
    "ExecuteTime": {
     "end_time": "2021-12-18T04:16:39.077729Z",
     "start_time": "2021-12-18T04:16:37.980158Z"
    },
    "hidden": true,
    "scrolled": true
   },
   "outputs": [],
   "source": [
    "# Quando a loja está fechada ('open'==0) a quantidade de vendas e clientes é 0. Eliminar essas linhas.\n",
    "# eliminar também as linhas onde não houve vendas (df_2['sales']==0)\n",
    "\n",
    "df_2 = df_2[(df_2['open']!=0) & (df_2['sales']>0)]"
   ]
  },
  {
   "cell_type": "markdown",
   "id": "bfbb3fb7",
   "metadata": {
    "heading_collapsed": true,
    "hidden": true
   },
   "source": [
    "## <font color=\"#808080\">Seleção das colunas</font>"
   ]
  },
  {
   "cell_type": "code",
   "execution_count": 53,
   "id": "08e291f2",
   "metadata": {
    "ExecuteTime": {
     "end_time": "2021-12-18T04:19:18.824638Z",
     "start_time": "2021-12-18T04:19:18.464719Z"
    },
    "hidden": true
   },
   "outputs": [],
   "source": [
    "# Eliminar a coluna 'customers' (no momento do modelo em produção a informação sobre a quantidade\n",
    "# de clientes na loja não estará disponível).\n",
    "# coluna 'open' estará com valor constante (1 - loja aberta)\n",
    "# demais colunas são auxiliares\n",
    "\n",
    "df_2 = df_2.drop(['customers','open','promo_interval','month_map'], axis=1)\n"
   ]
  }
 ],
 "metadata": {
  "kernelspec": {
   "display_name": "Python 3 (ipykernel)",
   "language": "python",
   "name": "python3"
  },
  "language_info": {
   "codemirror_mode": {
    "name": "ipython",
    "version": 3
   },
   "file_extension": ".py",
   "mimetype": "text/x-python",
   "name": "python",
   "nbconvert_exporter": "python",
   "pygments_lexer": "ipython3",
   "version": "3.8.0"
  }
 },
 "nbformat": 4,
 "nbformat_minor": 5
}
