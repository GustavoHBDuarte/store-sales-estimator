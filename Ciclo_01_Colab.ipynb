{
 "cells": [
  {
   "cell_type": "markdown",
   "id": "0c91f3a1",
   "metadata": {
    "heading_collapsed": true,
    "id": "0c91f3a1"
   },
   "source": [
    "# Library imports"
   ]
  },
  {
   "cell_type": "code",
   "execution_count": 15,
   "id": "1092f57a",
   "metadata": {
    "ExecuteTime": {
     "end_time": "2022-01-06T15:38:16.541148Z",
     "start_time": "2022-01-06T15:38:16.527689Z"
    },
    "hidden": true,
    "id": "1092f57a"
   },
   "outputs": [],
   "source": [
    "import pandas as pd\n",
    "import numpy as np\n",
    "import inflection\n",
    "import seaborn as sns\n",
    "import matplotlib.pyplot as plt\n",
    "import datetime\n",
    "import warnings\n",
    "import xgboost as xgb\n",
    "import random\n",
    "import pickle\n",
    "import requests\n",
    "import json\n",
    "\n",
    "from sklearn.preprocessing import MinMaxScaler, RobustScaler, LabelEncoder\n",
    "from sklearn.ensemble      import RandomForestRegressor\n",
    "from sklearn.linear_model  import LinearRegression, Lasso\n",
    "from sklearn.metrics       import mean_absolute_error, mean_absolute_percentage_error, mean_squared_error\n",
    "\n",
    "from pycorrcat.pycorrcat   import plot_corr, corr_matrix\n",
    "from tabulate              import tabulate\n",
    "from IPython.display       import Image\n",
    "from boruta                import BorutaPy\n"
   ]
  },
  {
   "cell_type": "markdown",
   "id": "f32daef0",
   "metadata": {
    "heading_collapsed": true,
    "id": "f32daef0"
   },
   "source": [
    "# Helper functions"
   ]
  },
  {
   "cell_type": "code",
   "execution_count": null,
   "id": "34ec2186",
   "metadata": {
    "ExecuteTime": {
     "end_time": "2022-01-03T21:56:00.881968Z",
     "start_time": "2022-01-03T21:56:00.845891Z"
    },
    "hidden": true,
    "id": "34ec2186"
   },
   "outputs": [],
   "source": [
    "def jupyter_settings():\n",
    "    \n",
    "    pd.options.display.max_columns = None   \n",
    "    \n",
    "\n",
    "\n",
    "warnings.filterwarnings(\"ignore\")\n",
    "jupyter_settings()\n",
    "\n",
    "\n",
    "\n",
    "def ml_error(model_name, y_test, y_predicted):\n",
    "    mae = mean_absolute_error(y_test, y_predicted)\n",
    "    mape = mean_absolute_percentage_error(y_test, y_predicted)\n",
    "    rmse = np.sqrt(mean_squared_error(y_test, y_predicted))\n",
    "    \n",
    "    return pd.DataFrame({'Model name': model_name,\n",
    "                         'MAE':mae,\n",
    "                         'MAPE':mape,\n",
    "                         'RMSE': rmse}, index=[0])\n",
    "    \n",
    "\n",
    "\n",
    "def mean_percentage_error(y_test, y_predicted):\n",
    "    return np.mean((y_test- y_predicted)/y_test)\n",
    "    \n",
    "    \n",
    "def cross_validation_Time_Series(k, X_train_CrossVal, y_train, instantiated_model, model_name, verbose=False):\n",
    "\n",
    "  mae_list = []\n",
    "  mape_list = []\n",
    "  rmse_list = []  \n",
    "\n",
    "\n",
    "  for k in reversed(range(1,(k+1))):  \n",
    "\n",
    "\n",
    "    # Filtros de datas para dividir os sets de treino e validação\n",
    "\n",
    "    validation_set_start_date = X_train_CrossVal['date'].max() - datetime.timedelta(days=k*6*7)\n",
    "\n",
    "    validation_set_end_date = X_train_CrossVal['date'].max() - datetime.timedelta(days=(k-1)*6*7)\n",
    "\n",
    "\n",
    "    # X de treino e validação\n",
    "\n",
    "    X_validation_CV = X_train_CrossVal[(X_train_CrossVal['date']>=validation_set_start_date) & (X_train_CrossVal['date']<validation_set_end_date)]\n",
    "\n",
    "    X_train_CV = X_train_CrossVal[X_train_CrossVal['date'] < validation_set_start_date]\n",
    "\n",
    "    X_validation_CV = X_validation_CV.drop(columns=['date']) #remover a coluna 'date'\n",
    "    X_train_CV = X_train_CV.drop(columns=['date']) #remover a coluna 'date'\n",
    "\n",
    "\n",
    "\n",
    "    # y de treino e validação (usei os índices das linhas do X_validation_CV e X_train_CV para filtrar o y)\n",
    "\n",
    "    y_validation_CV = y_train[X_validation_CV.index]\n",
    "\n",
    "    y_train_CV = y_train[X_train_CV.index]\n",
    "\n",
    "    \n",
    "    # Model training\n",
    "\n",
    "    model = instantiated_model.fit(X=X_train_CV, y=y_train_CV )\n",
    "\n",
    "    y_predicted_CV = model.predict(X_validation_CV)\n",
    "\n",
    "    model_error = ml_error(model_name, np.expm1(y_validation_CV), np.expm1(y_predicted_CV ))\n",
    "\n",
    "    if verbose:\n",
    "      print(model_error)\n",
    "\n",
    "    mae_list.append(model_error['MAE'])\n",
    "    mape_list.append(model_error['MAPE'])\n",
    "    rmse_list.append(model_error['RMSE'])\n",
    "\n",
    "    \n",
    "\n",
    "  return pd.DataFrame({'Model name': model_name,\n",
    "                            'MAE CV': str(np.round(np.mean(mae_list), 2)) + ' +/- ' + str(np.round(np.std(mae_list, ddof=(k-1)), 2)),\n",
    "                            'MAPE CV': str(np.round(np.mean(mape_list), 2)) + ' +/- ' + str(np.round(np.std(mape_list, ddof=(k-1)), 2)),\n",
    "                            'RMSE CV': str(np.round(np.mean(rmse_list), 2)) + ' +/- ' + str(np.round(np.std(rmse_list, ddof=(k-1)), 2))},\n",
    "                            index=[0])\n",
    "    "
   ]
  },
  {
   "cell_type": "markdown",
   "id": "c797d179",
   "metadata": {
    "ExecuteTime": {
     "end_time": "2021-12-16T02:45:54.390168Z",
     "start_time": "2021-12-16T02:45:54.375280Z"
    },
    "heading_collapsed": true,
    "id": "c797d179"
   },
   "source": [
    "# Data import and basic inspection"
   ]
  },
  {
   "cell_type": "markdown",
   "id": "7e00bfac",
   "metadata": {
    "heading_collapsed": true,
    "hidden": true,
    "id": "7e00bfac"
   },
   "source": [
    "##  <font color=\"#808080\">data loading and checking</font>"
   ]
  },
  {
   "cell_type": "code",
   "execution_count": null,
   "id": "66eb35c1",
   "metadata": {
    "ExecuteTime": {
     "end_time": "2022-01-03T21:56:03.840165Z",
     "start_time": "2022-01-03T21:56:00.885940Z"
    },
    "hidden": true,
    "id": "66eb35c1",
    "outputId": "6aebfcb3-bf64-4cc3-a8a4-78367fcb91f9"
   },
   "outputs": [],
   "source": [
    "df_train = pd.read_csv('/home/gustavo/repos/Rossmann/train.csv', low_memory=False)\n",
    "\n",
    "df_train.head()"
   ]
  },
  {
   "cell_type": "code",
   "execution_count": null,
   "id": "7151fbe3",
   "metadata": {
    "ExecuteTime": {
     "end_time": "2022-01-03T21:56:03.861548Z",
     "start_time": "2022-01-03T21:56:03.847587Z"
    },
    "colab": {
     "base_uri": "https://localhost:8080/"
    },
    "hidden": true,
    "id": "7151fbe3",
    "outputId": "cb949ef7-48a2-425d-df74-4d981533ead8"
   },
   "outputs": [],
   "source": [
    "# Checking data dimensions\n",
    "\n",
    "print('\\nData dimensions:\\n')\n",
    "print('Number of rows:{}'.format(df_train.shape[0]))\n",
    "print('Number of columns:{}'.format(df_train.shape[1]))"
   ]
  },
  {
   "cell_type": "code",
   "execution_count": null,
   "id": "66dbe8d4",
   "metadata": {
    "ExecuteTime": {
     "end_time": "2022-01-03T21:56:04.082277Z",
     "start_time": "2022-01-03T21:56:03.871058Z"
    },
    "hidden": true,
    "id": "66dbe8d4",
    "outputId": "e3cbbc40-3ede-4f89-e30c-8c73ad2a3e90",
    "scrolled": true
   },
   "outputs": [],
   "source": [
    "df_store = pd.read_csv('/home/gustavo/repos/Rossmann/store.csv', low_memory=False)\n",
    "\n",
    "df_store.head()"
   ]
  },
  {
   "cell_type": "code",
   "execution_count": null,
   "id": "4dd1ca0b",
   "metadata": {
    "ExecuteTime": {
     "end_time": "2022-01-03T21:56:04.154589Z",
     "start_time": "2022-01-03T21:56:04.090512Z"
    },
    "colab": {
     "base_uri": "https://localhost:8080/"
    },
    "hidden": true,
    "id": "4dd1ca0b",
    "outputId": "3ebe42b5-7c1c-493c-8334-e33c19a9d3eb"
   },
   "outputs": [],
   "source": [
    "# Checking data dimensions\n",
    "\n",
    "print('\\nData dimensions:\\n')\n",
    "print('Number of rows:{}'.format(df_store.shape[0]))\n",
    "print('Number of columns:{}'.format(df_store.shape[1]))"
   ]
  },
  {
   "cell_type": "code",
   "execution_count": null,
   "id": "83e463f1",
   "metadata": {
    "ExecuteTime": {
     "end_time": "2022-01-03T21:56:04.933484Z",
     "start_time": "2022-01-03T21:56:04.157442Z"
    },
    "colab": {
     "base_uri": "https://localhost:8080/",
     "height": 357
    },
    "hidden": true,
    "id": "83e463f1",
    "outputId": "f2ca943a-f54e-4e4d-cf1c-cdf60759219e",
    "scrolled": false
   },
   "outputs": [],
   "source": [
    "# Merging df's\n",
    "\n",
    "df = pd.merge(df_train, df_store, how='left', on='Store')\n",
    "\n",
    "df.head()"
   ]
  },
  {
   "cell_type": "code",
   "execution_count": null,
   "id": "35d247e2",
   "metadata": {
    "ExecuteTime": {
     "end_time": "2022-01-03T21:56:04.944700Z",
     "start_time": "2022-01-03T21:56:04.938340Z"
    },
    "colab": {
     "base_uri": "https://localhost:8080/"
    },
    "hidden": true,
    "id": "35d247e2",
    "outputId": "41da9a25-2db6-4d49-bb56-b43e6627230f"
   },
   "outputs": [],
   "source": [
    "# Checking data dimensions after merging\n",
    "\n",
    "print('\\nData dimensions:\\n')\n",
    "print('Number of rows:{}'.format(df.shape[0]))\n",
    "print('Number of columns:{}'.format(df.shape[1]))"
   ]
  },
  {
   "cell_type": "code",
   "execution_count": null,
   "id": "3194306d",
   "metadata": {
    "ExecuteTime": {
     "end_time": "2022-01-03T21:56:05.752466Z",
     "start_time": "2022-01-03T21:56:04.947273Z"
    },
    "colab": {
     "base_uri": "https://localhost:8080/"
    },
    "hidden": true,
    "id": "3194306d",
    "outputId": "11edba0a-0f85-4496-cafa-36f6b9ee43e0"
   },
   "outputs": [],
   "source": [
    "# Checking data types\n",
    "\n",
    "df.dtypes"
   ]
  },
  {
   "cell_type": "code",
   "execution_count": null,
   "id": "79bdedfd",
   "metadata": {
    "ExecuteTime": {
     "end_time": "2022-01-03T21:56:05.977535Z",
     "start_time": "2022-01-03T21:56:05.764952Z"
    },
    "hidden": true,
    "id": "79bdedfd"
   },
   "outputs": [],
   "source": [
    "# Changing column 'Date' to datetime\n",
    "\n",
    "df['Date'] = pd.to_datetime(df['Date'])"
   ]
  },
  {
   "cell_type": "code",
   "execution_count": null,
   "id": "04c81161",
   "metadata": {
    "ExecuteTime": {
     "end_time": "2022-01-03T21:56:06.008529Z",
     "start_time": "2022-01-03T21:56:05.979824Z"
    },
    "code_folding": [],
    "hidden": true,
    "id": "04c81161"
   },
   "outputs": [],
   "source": [
    "# Adjusting column names\n",
    "\n",
    "df.columns = list(map(lambda x: inflection.underscore(x), df.columns)) #changing to underscore + lower(snakecase)"
   ]
  },
  {
   "cell_type": "markdown",
   "id": "33141cf3",
   "metadata": {
    "heading_collapsed": true,
    "hidden": true,
    "id": "33141cf3"
   },
   "source": [
    "## <font color=\"#808080\">filling out NA's</font>"
   ]
  },
  {
   "cell_type": "code",
   "execution_count": null,
   "id": "6ddacfe5",
   "metadata": {
    "ExecuteTime": {
     "end_time": "2022-01-03T21:56:06.531794Z",
     "start_time": "2022-01-03T21:56:06.011012Z"
    },
    "colab": {
     "base_uri": "https://localhost:8080/"
    },
    "hidden": true,
    "id": "6ddacfe5",
    "outputId": "750636ea-e873-4707-8408-9d2de9d2ee92"
   },
   "outputs": [],
   "source": [
    "# Checking % of missing values\n",
    "\n",
    "df.isna().sum() / df.shape[0]"
   ]
  },
  {
   "cell_type": "code",
   "execution_count": null,
   "id": "1f5d1a12",
   "metadata": {
    "ExecuteTime": {
     "end_time": "2022-01-03T21:57:45.418717Z",
     "start_time": "2022-01-03T21:56:06.535285Z"
    },
    "hidden": true,
    "id": "1f5d1a12"
   },
   "outputs": [],
   "source": [
    "# Filling NA's on 'competition_distance' column ===========================================\n",
    "\n",
    "\n",
    "## LÓGICA USADA: se a distância está NA assumiu-se que a distância da loja concorrente é muita alta.\n",
    "### então foi feito o preenchimento por um valor acima da distância mais alta do dataset\n",
    "\n",
    "df['competition_distance'] = df['competition_distance'].apply(lambda x: 200000.0 if pd.isna(x) else x)\n",
    "\n",
    "\n",
    "\n",
    "# Filling NA's on 'competition_open_since_month' column ==================================\n",
    "\n",
    "\n",
    "## LÓGICA USADA: completou-se o valor NA usando o mês da coluna 'date' (data da venda) da respectiva linha\n",
    "\n",
    "df['competition_open_since_month'] = df[['date','competition_open_since_month']].apply(lambda x: x['date'].month if pd.isna(x['competition_open_since_month']) else x['competition_open_since_month'], axis=1)\n",
    "\n",
    "\n",
    "\n",
    "# Filling NA's on 'competition_open_since_year' column =====================================\n",
    "\n",
    "\n",
    "## LÓGICA USADA: completou-se o valor NA usando o ano da coluna 'date' (data da venda) da respectiva linha\n",
    "\n",
    "df['competition_open_since_year'] = df[['date','competition_open_since_year']].apply(lambda x: x['date'].year if pd.isna(x['competition_open_since_year']) else x['competition_open_since_year'], axis=1)\n",
    "\n",
    "\n",
    "\n",
    "# Filling NA's on 'promo2_since_week' column =================================================\n",
    "\n",
    "## LÓGICA USADA: todos os valores onde a coluna promo2 estavam 0 (não houve promoção na loja) a coluna\n",
    "### 'promo2_since_week' estava NA, então assumiu-se que não houve promoção nessa loja e preencheu-se com 0\n",
    "\n",
    "df['promo2_since_week'] = df['promo2_since_week'].fillna(0)\n",
    "\n",
    "\n",
    "\n",
    "# Filling NA's on 'promo2_since_year' column ===================================================\n",
    "\n",
    "## LÓGICA USADA: todos os valores onde a coluna promo2 estavam 0 (não houve promoção na loja) a coluna\n",
    "### 'promo2_since_year' estava NA, então assumiu-se que não houve promoção nessa loja e preencheu-se com 0\n",
    "\n",
    "df['promo2_since_year'] = df['promo2_since_year'].fillna(0)\n",
    "\n",
    "\n",
    "\n",
    "\n",
    "# Filling NA's on 'promo_interval' column ========================================================\n",
    "\n",
    "## LÓGICA USADA: todos os valores onde a coluna promo2 estavam 0 (não houve promoção na loja) a coluna\n",
    "### 'promo_interval' estava NA, então assumiu-se que não houve promoção nessa loja e preencheu-se com 0\n",
    "\n",
    "df['promo_interval'] = df['promo_interval'].fillna(0)\n",
    "\n",
    "\n",
    "\n",
    "# Abaixo será criado um dicionário que auxiliará na conversão dos meses de números em letras:\n",
    "\n",
    "# criando mapeamento dos meses\n",
    "month_map = {1:'Jan', 2:'Feb', 3:'Mar', 4:'Apr', 5:'May', 6:'Jun', 7:'Jul', 8:'Aug', 9:'Sept', 10:'Oct', 11:'Nov', 12:'Dec'}\n",
    "\n",
    "\n",
    "# criado a coluna 'month_map'\n",
    "## LÒGICA: extraíu-se o mês (em número) da coluna 'date' e converteu-se em mês (em palavra) colocando em uma nova\n",
    "### coluna\n",
    "\n",
    "df['month_map'] = df['date'].dt.month.map(month_map)\n",
    "\n",
    "\n",
    "# criando a coluna 'is_promo'\n",
    "# LÓGICA: Se o dia da venda (coluna 'data') estiver em um mês onde foi feita a promoção (coluna 'promo_interval')\n",
    "## então será atribuído 1 na nova coluna 'is_promo', se não tiver promoção ou a venda tiver sido feita em um mês\n",
    "## fora da promoção então o valor atribuído será 0\n",
    "\n",
    "df['is_promo'] = df[['month_map', 'promo_interval']].apply(lambda x: 0 if x['promo_interval']==0 else 1 if x['month_map'] in x['promo_interval'].split(',') else 0, axis=1)\n"
   ]
  },
  {
   "cell_type": "code",
   "execution_count": null,
   "id": "79d89ca3",
   "metadata": {
    "ExecuteTime": {
     "end_time": "2022-01-03T21:57:45.852987Z",
     "start_time": "2022-01-03T21:57:45.420900Z"
    },
    "colab": {
     "base_uri": "https://localhost:8080/"
    },
    "hidden": true,
    "id": "79d89ca3",
    "outputId": "e30268ef-e0de-4e06-9be3-6d6e15de6c3f"
   },
   "outputs": [],
   "source": [
    "# There is no more NA's in the dataset\n",
    "\n",
    "df.isna().sum() / df.shape[0]"
   ]
  },
  {
   "cell_type": "code",
   "execution_count": null,
   "id": "706f97c1",
   "metadata": {
    "ExecuteTime": {
     "end_time": "2022-01-03T21:57:46.513781Z",
     "start_time": "2022-01-03T21:57:45.855154Z"
    },
    "colab": {
     "base_uri": "https://localhost:8080/"
    },
    "hidden": true,
    "id": "706f97c1",
    "outputId": "315a1ff5-6ebb-4175-d47b-03c26a24b56d"
   },
   "outputs": [],
   "source": [
    "# Changing data types after previous columns creation\n",
    "\n",
    "## columns 'competition_open_since_month','competition_open_since_year','promo2_since_week','promo2_since_year'\n",
    "## need to be changed to int64\n",
    "\n",
    "df.dtypes"
   ]
  },
  {
   "cell_type": "code",
   "execution_count": null,
   "id": "c554e4fc",
   "metadata": {
    "ExecuteTime": {
     "end_time": "2022-01-03T21:57:46.763091Z",
     "start_time": "2022-01-03T21:57:46.519399Z"
    },
    "hidden": true,
    "id": "c554e4fc"
   },
   "outputs": [],
   "source": [
    "# Changing data types after previous columns creation\n",
    "\n",
    "df[['competition_open_since_month',\n",
    "    'competition_open_since_year',\n",
    "    'promo2_since_week',\n",
    "    'promo2_since_year']] = df[['competition_open_since_month',\n",
    "                                'competition_open_since_year',\n",
    "                                'promo2_since_week',\n",
    "                                'promo2_since_year']].astype(int)"
   ]
  },
  {
   "cell_type": "markdown",
   "id": "9157013b",
   "metadata": {
    "ExecuteTime": {
     "end_time": "2021-12-16T02:45:54.390168Z",
     "start_time": "2021-12-16T02:45:54.375280Z"
    },
    "heading_collapsed": true,
    "hidden": true,
    "id": "9157013b"
   },
   "source": [
    "## <font color=\"#808080\">descriptive statistics</font>"
   ]
  },
  {
   "cell_type": "code",
   "execution_count": null,
   "id": "08d353b5",
   "metadata": {
    "ExecuteTime": {
     "end_time": "2022-01-03T21:57:47.006680Z",
     "start_time": "2022-01-03T21:57:46.765134Z"
    },
    "hidden": true,
    "id": "08d353b5"
   },
   "outputs": [],
   "source": [
    "# Separando df com atributos númericos e categóricos\n",
    "\n",
    "num_attrib = df.select_dtypes(include=['float64','int64'])\n",
    "\n",
    "cat_attrib = df.select_dtypes(exclude=['float64','int64','datetime64[ns]'])"
   ]
  },
  {
   "cell_type": "code",
   "execution_count": null,
   "id": "b28341cb",
   "metadata": {
    "ExecuteTime": {
     "end_time": "2022-01-03T21:57:47.848295Z",
     "start_time": "2022-01-03T21:57:47.010784Z"
    },
    "colab": {
     "base_uri": "https://localhost:8080/",
     "height": 364
    },
    "hidden": true,
    "id": "b28341cb",
    "outputId": "92acb0de-6103-4177-a082-0fe695c78906",
    "scrolled": true
   },
   "outputs": [],
   "source": [
    "# Descriptive statistics\n",
    "\n",
    "pd.DataFrame(data=[num_attrib.apply(np.min),\n",
    "          num_attrib.apply(np.max),\n",
    "          num_attrib.apply(lambda x: np.max(x) - np.min(x)),\n",
    "          num_attrib.apply(np.mean),\n",
    "          num_attrib.apply(np.median),\n",
    "          num_attrib.apply(np.std),\n",
    "          num_attrib.apply(lambda x: x.skew()),\n",
    "          num_attrib.apply(lambda x: x.kurtosis())],\n",
    "             \n",
    "             index=np.array(['min', 'max', 'range', 'mean', 'median', 'std', 'skew', 'kurtosis']))"
   ]
  },
  {
   "cell_type": "code",
   "execution_count": null,
   "id": "5bfc7c2a",
   "metadata": {
    "ExecuteTime": {
     "end_time": "2022-01-03T21:57:51.297625Z",
     "start_time": "2022-01-03T21:57:47.850770Z"
    },
    "code_folding": [],
    "colab": {
     "base_uri": "https://localhost:8080/",
     "height": 280
    },
    "hidden": true,
    "id": "5bfc7c2a",
    "outputId": "57d2c75f-c744-4c46-c18f-9a9fcd640a3c"
   },
   "outputs": [],
   "source": [
    "# Numeric atribute view:\n",
    "\n",
    "# Exploring 'competition_distance'\n",
    "\n",
    "sns.histplot(df.loc[df['competition_distance']<75000, 'competition_distance']);"
   ]
  },
  {
   "cell_type": "code",
   "execution_count": null,
   "id": "49448d08",
   "metadata": {
    "ExecuteTime": {
     "end_time": "2022-01-03T21:57:53.542392Z",
     "start_time": "2022-01-03T21:57:51.303110Z"
    },
    "colab": {
     "base_uri": "https://localhost:8080/",
     "height": 296
    },
    "hidden": true,
    "id": "49448d08",
    "outputId": "4a24f47f-7e25-4b89-d55c-c6ebf8cd4ec9"
   },
   "outputs": [],
   "source": [
    "# Numeric atribute view:\n",
    "\n",
    "# Exploring 'sales'\n",
    "\n",
    "sns.histplot(df['sales'])"
   ]
  },
  {
   "cell_type": "code",
   "execution_count": null,
   "id": "cd639d40",
   "metadata": {
    "ExecuteTime": {
     "end_time": "2022-01-03T21:57:56.965147Z",
     "start_time": "2022-01-03T21:57:53.545646Z"
    },
    "colab": {
     "base_uri": "https://localhost:8080/",
     "height": 296
    },
    "hidden": true,
    "id": "cd639d40",
    "outputId": "aadbd669-e2d1-4f0f-bbdc-24b10a03c69e"
   },
   "outputs": [],
   "source": [
    "# Numeric atribute view:\n",
    "\n",
    "# Exploring 'customers'\n",
    "\n",
    "sns.histplot(df['customers'])"
   ]
  },
  {
   "cell_type": "code",
   "execution_count": null,
   "id": "cb29db13",
   "metadata": {
    "ExecuteTime": {
     "end_time": "2022-01-03T21:58:04.350931Z",
     "start_time": "2022-01-03T21:57:56.971846Z"
    },
    "colab": {
     "base_uri": "https://localhost:8080/",
     "height": 643
    },
    "hidden": true,
    "id": "cb29db13",
    "outputId": "956157a9-4f2c-4387-d936-005363b93adb"
   },
   "outputs": [],
   "source": [
    "# Categorical atribute view:\n",
    "\n",
    "plt.figure(figsize=(15,10))\n",
    "\n",
    "plt.subplot(2,3,1)\n",
    "sns.boxplot(x=df['store_type'], y=df['sales'], data=df)\n",
    "\n",
    "plt.subplot(2,3,2)\n",
    "sns.boxplot(x=df.loc[(df['state_holiday']!='0') & (df['sales']>0), 'state_holiday'], y=df['sales'], data=df)\n",
    "\n",
    "plt.subplot(2,3,3)\n",
    "sns.boxplot(x=df['assortment'], y=df['sales'], data=df)\n",
    "\n",
    "\n",
    "\n",
    "plt.subplot(2,3,4)\n",
    "sns.boxplot(x=df['store_type'], y=df['customers'], data=df)\n",
    "\n",
    "plt.subplot(2,3,5)\n",
    "sns.boxplot(x=df.loc[(df['state_holiday']!='0') & (df['customers']>0), 'state_holiday'], y=df['customers'], data=df)\n",
    "\n",
    "plt.subplot(2,3,6)\n",
    "sns.boxplot(x=df['assortment'], y=df['customers'], data=df)\n",
    "\n",
    "\n",
    "\n",
    "plt.tight_layout()\n"
   ]
  },
  {
   "cell_type": "markdown",
   "id": "4001dc5b",
   "metadata": {
    "ExecuteTime": {
     "end_time": "2021-12-16T02:45:54.390168Z",
     "start_time": "2021-12-16T02:45:54.375280Z"
    },
    "heading_collapsed": true,
    "id": "4001dc5b"
   },
   "source": [
    "# Feature engineering"
   ]
  },
  {
   "cell_type": "markdown",
   "id": "4fee2071",
   "metadata": {
    "heading_collapsed": true,
    "hidden": true,
    "id": "4fee2071"
   },
   "source": [
    "## <font color=\"#808080\">mindmap de hipóteses</font>"
   ]
  },
  {
   "cell_type": "code",
   "execution_count": null,
   "id": "4e3083a9",
   "metadata": {
    "ExecuteTime": {
     "end_time": "2022-01-03T21:58:04.980871Z",
     "start_time": "2022-01-03T21:58:04.359082Z"
    },
    "colab": {
     "base_uri": "https://localhost:8080/",
     "height": 328
    },
    "hidden": true,
    "id": "4e3083a9",
    "outputId": "c58de4b1-83ab-4a5c-e3a2-30a81227e21e",
    "scrolled": false
   },
   "outputs": [],
   "source": [
    "Image(filename='/home/gustavo/repos/Rossmann/Dailly_store_sales_mindmap.png')"
   ]
  },
  {
   "cell_type": "markdown",
   "id": "a597c2c9",
   "metadata": {
    "ExecuteTime": {
     "end_time": "2021-12-17T05:01:50.613721Z",
     "start_time": "2021-12-17T05:01:50.600188Z"
    },
    "hidden": true,
    "id": "a597c2c9"
   },
   "source": [
    "## <font color=\"#808080\">hipóteses à serem validadas com os dados presentes no dataset</font>"
   ]
  },
  {
   "cell_type": "markdown",
   "id": "ce953ab0",
   "metadata": {
    "ExecuteTime": {
     "end_time": "2021-12-17T04:33:10.786041Z",
     "start_time": "2021-12-17T04:33:10.767811Z"
    },
    "hidden": true,
    "id": "ce953ab0"
   },
   "source": [
    " <br></br>\n",
    " Nessa parte o mapa mental de hipóteses acima deve ser observado. \n",
    " <br></br>\n",
    "\n",
    "A partir dos atributos de cada entidade devem ser levantadas as hipóteses que impactam no fenômeno a ser modelado.\n",
    "\n",
    "LÓGICA: Um aumento/diminuição no atributo x aumenta/diminui a quantidade de vendas.\n",
    "<br></br>\n",
    "\n",
    "As hipóteses levantadas são posteriormente validadas a partir dos dados disponíveis no dataset\n",
    "\n",
    "\n",
    "Dessa forma, baseado nos dados disponíveis no dataset foram levantadas as seguintes hipóteses:\n",
    "<br></br>\n",
    "\n",
    "Entidade <em>Loja</em>:\n",
    "\n",
    "\n",
    "**1.** Lojas com maior sortimentos deveriam vender mais.\n",
    "\n",
    "**2.** Lojas com competidores mais próximos deveriam vender menos.\n",
    "\n",
    "**3.** Lojas com competidores à mais tempo deveriam vendem mais.\n",
    "<br></br>\n",
    "\n",
    "Entidade <em>Produtos</em>:\n",
    "\n",
    "**4.** Lojas com promoções ativas por mais tempo deveriam vender mais.\n",
    "\n",
    "**5.** Lojas com mais dias de promoção deveriam vender mais.\n",
    "\n",
    "**6.** Lojas com mais promoções consecutivas deveriam vender mais.\n",
    "<br></br>\n",
    "\n",
    "Entidade <em>Temporal</em>:\n",
    "\n",
    "**7.** Lojas abertas durante o feriado de Natal deveriam vender mais.\n",
    "\n",
    "**8.** Lojas deveriam vender mais ao longo dos anos.\n",
    "\n",
    "**9.** Lojas deveriam vender mais no segundo semestre do ano.\n",
    "\n",
    "**10.** Lojas deveriam vender mais depois do dia 10 de cada mês.\n",
    "\n",
    "**11.** Lojas deveriam vender menos aos finais de semana.\n",
    "\n",
    "**12.** Lojas deveriam vender menos durante os feriados escolares."
   ]
  },
  {
   "cell_type": "code",
   "execution_count": null,
   "id": "7f732541",
   "metadata": {
    "ExecuteTime": {
     "end_time": "2022-01-03T21:58:05.118469Z",
     "start_time": "2022-01-03T21:58:04.985330Z"
    },
    "hidden": true,
    "id": "7f732541"
   },
   "outputs": [],
   "source": [
    "df_1 = df.copy()"
   ]
  },
  {
   "cell_type": "code",
   "execution_count": null,
   "id": "5722b706",
   "metadata": {
    "ExecuteTime": {
     "end_time": "2022-01-03T21:58:05.628355Z",
     "start_time": "2022-01-03T21:58:05.120478Z"
    },
    "hidden": true,
    "id": "5722b706"
   },
   "outputs": [],
   "source": [
    "# Changing column 'assortment'\n",
    "\n",
    "df_1['assortment'] = df_1['assortment'].apply(lambda x:'basic' if x=='a' else 'extra' if x=='b' else 'extended')\n",
    "\n",
    "\n",
    "# Changing column 'state_holiday'\n",
    "\n",
    "df_1['state_holiday'] = df_1['state_holiday'].apply(lambda x:'Public holiday' if x=='a' else 'Easter' if x=='b' else 'Christmas' if x=='c' else 'regular day')\n"
   ]
  },
  {
   "cell_type": "code",
   "execution_count": null,
   "id": "4d0030e7",
   "metadata": {
    "ExecuteTime": {
     "end_time": "2022-01-03T22:00:52.767770Z",
     "start_time": "2022-01-03T21:58:05.632019Z"
    },
    "hidden": true,
    "id": "4d0030e7",
    "scrolled": true
   },
   "outputs": [],
   "source": [
    "# Derivando novas variáveis:\n",
    "\n",
    "\n",
    "# year\n",
    "\n",
    "df_1['year'] = df_1['date'].dt.year\n",
    "\n",
    "\n",
    "# month\n",
    "\n",
    "df_1['month'] = df_1['date'].dt.month\n",
    "\n",
    "\n",
    "# day\n",
    "\n",
    "df_1['day'] = df_1['date'].dt.day\n",
    "\n",
    "\n",
    "# week of year\n",
    "\n",
    "df_1['week_of_year'] = df_1['date'].dt.weekofyear\n",
    "\n",
    "\n",
    "# year week\n",
    " \n",
    "df_1['year_week'] = df_1['date'].dt.strftime('%Y-%W') # esse comando apenas coleta a data da venda e muda a formatação\n",
    "\n",
    "\n",
    "\n",
    "\n",
    "# competition_since (quanto tempo desde o início da competição ate a data da compra)\n",
    "\n",
    "# 1o passo - juntar as colunas 'competition_open_since_month' com 'competition_open_since_year'\n",
    "\n",
    "df_1['competition_since'] = df_1[['competition_open_since_year','competition_open_since_month']].apply(lambda x: datetime.datetime(year= x['competition_open_since_year'], month=x['competition_open_since_month'], day=1), axis=1)\n",
    "\n",
    "# 2o passo - subtrair as datas de 'date' e 'competition_since' e dividir 30 (granularidade mês)\n",
    "df_1['competition_time_month'] = ((df_1['date'] - df_1['competition_since'])/ 30).apply(lambda x: x.days).astype(int)\n",
    "\n",
    "\n",
    "\n",
    "\n",
    "# promo2_since (quanto tempo desde a a promoção estar ativa até a data da compra)\n",
    "\n",
    "# 1° passo: juntar a coluna 'promo2_since_year' com a coluna 'promo2_since_week' e armazenar em uma nova coluna\n",
    "df_1['promo2_since'] = df_1.apply(lambda x: str(x['promo2_since_year']) + '-' + str(x['promo2_since_week']),axis=1)\n",
    "\n",
    "# 2° passo: converter 'promo_since' de string para data\n",
    "# OBSERVAÇÃO IMPORTANTE: tive que fazer uma adaptação no código.\n",
    "# no código original a atribuição é feita sobre todas as linhas da coluna 'promo_since', no entanto o lambda\n",
    "# não estava funcionando na coluna 'promo_since' nas linhas com valores zerados '0-0' (proveniente dos valores\n",
    "# NA's que foram substituídos por 0 na etapa de preenchimento de NA's) então tive que aplicar a função no df\n",
    "# filtrado (df_1['promo_since']!='0-0')\n",
    "df_1.loc[df_1['promo2_since']!='0-0','promo2_since'] = df_1.loc[df_1['promo2_since']!='0-0','promo2_since'].apply(lambda x: datetime.datetime.strptime(x+'-1', '%Y-%W-%w') - datetime.timedelta(days=7) )\n",
    "\n",
    "# 3° passo: subtrair a data da coluna 'date' da coluna 'promo_since' (criada no passo acima), mantendo o filtro\n",
    "# condicional de linhas (df_1['promo_since']!='0-0') a atribuindo a uma nova coluna 'promo_time_week' mantendo\n",
    "# o filtro de linhas\n",
    "df_1.loc[df_1['promo2_since']!='0-0','promo2_time_week'] = ((df_1.loc[df_1['promo2_since']!='0-0','date'] - df_1.loc[df_1['promo2_since']!='0-0','promo2_since']) / 7).apply(lambda x: x.days).astype(int)\n",
    "\n",
    "# 4° passo: os filtros de linha anteriores resultaram apenas em dados preenchidos nas linhas do filtro. As linhas\n",
    "# não pertencentes ao filtro foram preenchidas com NA's. Preencher esses valores com 0\n",
    "df_1['promo2_time_week'] = df_1['promo2_time_week'].fillna(0)\n",
    "\n"
   ]
  },
  {
   "cell_type": "markdown",
   "id": "fbbf0894",
   "metadata": {
    "ExecuteTime": {
     "end_time": "2021-12-16T02:45:54.390168Z",
     "start_time": "2021-12-16T02:45:54.375280Z"
    },
    "heading_collapsed": true,
    "id": "fbbf0894"
   },
   "source": [
    "# Variable filtering and variable selection"
   ]
  },
  {
   "cell_type": "markdown",
   "id": "50717e93",
   "metadata": {
    "hidden": true,
    "id": "50717e93"
   },
   "source": [
    "<br></br>\n",
    "<center>Variable filtering x Variable selection</center>\n",
    "<br></br>\n",
    "\n",
    "<div align=\"justify\"><b>Variable filtering</b> - eliminação de variáveis baseada nas restrições do negócio.\n",
    "\n",
    "ex: variáveis que estão disponíveis no dataset de treino mas não estarão em produção, no momento da previsão.\n",
    "<br></br>\n",
    "\n",
    "<b>Variable selection</b> - eliminação de variáveis irrelevantes para o aprendizado.\n",
    "\n",
    "ex: nesse caso serão eliminadas as colunas auxiliares que foram criadas durante a manipulação dos dados</div>\n",
    "<br></br>\n",
    "<br></br>\n",
    "\n",
    "<center>Eliminação de linhas</center>\n",
    "<br></br>\n",
    "\n",
    "\n",
    "<div align=\"justify\">Também é importante eliminar as linhas irrelevantes no dataset.\n",
    "ex: para esse caso serão eliminadas as linhas onde o valor na coluna 'open' é 0 (loja fechada).\n",
    "As informações de venda nos dias em que a loja está fechada são irrelevantes.\n",
    "Após essa etapa a coluna 'open' será também eliminada pois ela terá valor constante, sendo irrelevante para o aprendizado de máquina.</div>\n",
    "\n"
   ]
  },
  {
   "cell_type": "markdown",
   "id": "a0ba9901",
   "metadata": {
    "heading_collapsed": true,
    "hidden": true,
    "id": "a0ba9901"
   },
   "source": [
    "## <font color=\"#808080\">Seleção das linhas</font>"
   ]
  },
  {
   "cell_type": "code",
   "execution_count": null,
   "id": "385227cf",
   "metadata": {
    "ExecuteTime": {
     "end_time": "2022-01-03T22:00:53.547465Z",
     "start_time": "2022-01-03T22:00:52.778639Z"
    },
    "hidden": true,
    "id": "385227cf"
   },
   "outputs": [],
   "source": [
    "df_2 = df_1.copy()"
   ]
  },
  {
   "cell_type": "code",
   "execution_count": null,
   "id": "e459751d",
   "metadata": {
    "ExecuteTime": {
     "end_time": "2022-01-03T22:00:54.823621Z",
     "start_time": "2022-01-03T22:00:53.562257Z"
    },
    "hidden": true,
    "id": "e459751d",
    "scrolled": true
   },
   "outputs": [],
   "source": [
    "# Quando a loja está fechada ('open'==0) a quantidade de vendas e clientes é 0. Eliminar essas linhas.\n",
    "# eliminar também as linhas onde não houve vendas (df_2['sales']==0)\n",
    "\n",
    "df_2 = df_2[(df_2['open']!=0) & (df_2['sales']>0)]"
   ]
  },
  {
   "cell_type": "markdown",
   "id": "c9ecf94d",
   "metadata": {
    "heading_collapsed": true,
    "hidden": true,
    "id": "c9ecf94d"
   },
   "source": [
    "## <font color=\"#808080\">Seleção das colunas</font>"
   ]
  },
  {
   "cell_type": "code",
   "execution_count": null,
   "id": "11d782c8",
   "metadata": {
    "ExecuteTime": {
     "end_time": "2022-01-03T22:00:55.408434Z",
     "start_time": "2022-01-03T22:00:54.825911Z"
    },
    "hidden": true,
    "id": "11d782c8"
   },
   "outputs": [],
   "source": [
    "# Eliminar a coluna 'customers' (no momento do modelo em produção a informação sobre a quantidade\n",
    "# de clientes na loja não estará disponível).\n",
    "# coluna 'open' estará com valor constante (1 - loja aberta)\n",
    "# demais colunas são auxiliares\n",
    "\n",
    "df_2 = df_2.drop(['customers','open','promo_interval','month_map'], axis=1)\n"
   ]
  },
  {
   "cell_type": "markdown",
   "id": "c4d2a749",
   "metadata": {
    "ExecuteTime": {
     "end_time": "2021-12-16T02:45:54.390168Z",
     "start_time": "2021-12-16T02:45:54.375280Z"
    },
    "heading_collapsed": true,
    "id": "c4d2a749"
   },
   "source": [
    "# EDA"
   ]
  },
  {
   "cell_type": "markdown",
   "id": "7328a9ff",
   "metadata": {
    "heading_collapsed": true,
    "hidden": true,
    "id": "7328a9ff"
   },
   "source": [
    "## <font color=\"#808080\">Análise univariada</font>"
   ]
  },
  {
   "cell_type": "markdown",
   "id": "b47725e3",
   "metadata": {
    "heading_collapsed": true,
    "hidden": true,
    "id": "b47725e3"
   },
   "source": [
    "### <font color=\"#808080\">Numerical attributes</font>"
   ]
  },
  {
   "cell_type": "code",
   "execution_count": null,
   "id": "641d4400",
   "metadata": {
    "ExecuteTime": {
     "end_time": "2022-01-03T22:00:56.335118Z",
     "start_time": "2022-01-03T22:00:55.411552Z"
    },
    "colab": {
     "base_uri": "https://localhost:8080/",
     "height": 0
    },
    "hidden": true,
    "hide_input": true,
    "id": "641d4400",
    "outputId": "3baa1776-dd4a-457d-ca16-6287bd93f2a1",
    "scrolled": true
   },
   "outputs": [],
   "source": [
    "# Numerical variables\n",
    "\n",
    "df_2.select_dtypes(include=['float64','int64']).head()"
   ]
  },
  {
   "cell_type": "markdown",
   "id": "c3747586",
   "metadata": {
    "hidden": true,
    "id": "c3747586"
   },
   "source": [
    " <br></br>\n",
    " <font size=\"+2\">Histogram: Response variable</font>\n",
    " <br></br>"
   ]
  },
  {
   "cell_type": "code",
   "execution_count": null,
   "id": "560323b7",
   "metadata": {
    "ExecuteTime": {
     "end_time": "2022-01-03T22:01:02.992725Z",
     "start_time": "2022-01-03T22:00:56.341114Z"
    },
    "colab": {
     "base_uri": "https://localhost:8080/",
     "height": 0
    },
    "hidden": true,
    "hide_input": true,
    "id": "560323b7",
    "outputId": "15174f16-20bf-4940-8c9d-6228bc18d841",
    "scrolled": false
   },
   "outputs": [],
   "source": [
    "# Response variable distribution\n",
    "\n",
    "plt.figure(figsize=(10,5))\n",
    "sns.distplot(df_2['sales']);"
   ]
  },
  {
   "cell_type": "markdown",
   "id": "e48a2ab5",
   "metadata": {
    "hidden": true,
    "id": "e48a2ab5"
   },
   "source": [
    "<br></br>\n",
    "<font size=\"+2\">Histogram: numeric attributes</font>\n",
    "<br></br>"
   ]
  },
  {
   "cell_type": "code",
   "execution_count": null,
   "id": "c4bd3fb6",
   "metadata": {
    "ExecuteTime": {
     "end_time": "2022-01-03T22:01:08.048539Z",
     "start_time": "2022-01-03T22:01:02.998710Z"
    },
    "colab": {
     "base_uri": "https://localhost:8080/",
     "height": 0
    },
    "hidden": true,
    "hide_input": true,
    "id": "c4bd3fb6",
    "outputId": "a18e1d9f-62c7-4d12-b302-610e71089cf6",
    "scrolled": false
   },
   "outputs": [],
   "source": [
    "# Numerical attributes distribution\n",
    "\n",
    "df_2.select_dtypes(include=['float64','int64']).hist(figsize=(15,10), color='grey', bins=25)\n",
    "plt.tight_layout();"
   ]
  },
  {
   "cell_type": "markdown",
   "id": "0713de6b",
   "metadata": {
    "hidden": true,
    "id": "0713de6b"
   },
   "source": [
    "* 'store', 'promo_2' são praticamente constantes não apresentando valores/informação relevante\n",
    "\n",
    "* 'competition_distance' a maioria dos valores são próximos de zero, indicando que as lojas jão bastante próximas de seus competidores.\n",
    "\n",
    "* 'day' observa-se picos em intervalos regulares. Possívelmente finais de semana"
   ]
  },
  {
   "cell_type": "markdown",
   "id": "296c95ee",
   "metadata": {
    "heading_collapsed": true,
    "hidden": true,
    "id": "296c95ee"
   },
   "source": [
    "### <font color=\"#808080\">Categorical attributes</font>"
   ]
  },
  {
   "cell_type": "code",
   "execution_count": null,
   "id": "89c7db9a",
   "metadata": {
    "ExecuteTime": {
     "end_time": "2022-01-03T22:01:08.147312Z",
     "start_time": "2022-01-03T22:01:08.052393Z"
    },
    "colab": {
     "base_uri": "https://localhost:8080/",
     "height": 0
    },
    "hidden": true,
    "hide_input": true,
    "id": "89c7db9a",
    "outputId": "da8633f8-49df-4d82-c1ad-2ae03c6b37f3"
   },
   "outputs": [],
   "source": [
    "# Selecionando atributos categóricos\n",
    "\n",
    "df_2.select_dtypes(exclude=['float64','int64','datetime64[ns]']).head()"
   ]
  },
  {
   "cell_type": "markdown",
   "id": "c31615ea",
   "metadata": {
    "hidden": true,
    "hide_input": true,
    "id": "c31615ea"
   },
   "source": [
    " <br></br>\n",
    " <font size=\"+2\">Countplot and Kde plots:</font>\n",
    " <br></br>"
   ]
  },
  {
   "cell_type": "code",
   "execution_count": null,
   "id": "c6f1c882",
   "metadata": {
    "ExecuteTime": {
     "end_time": "2022-01-03T22:01:22.960321Z",
     "start_time": "2022-01-03T22:01:08.150714Z"
    },
    "colab": {
     "base_uri": "https://localhost:8080/",
     "height": 0
    },
    "hidden": true,
    "hide_input": true,
    "id": "c6f1c882",
    "outputId": "ccf1e1b1-2ec3-4ec2-92c6-3b29b3f4264f",
    "scrolled": false
   },
   "outputs": [],
   "source": [
    "# Countplot\n",
    "\n",
    "\n",
    "# 'state_holiday'\n",
    "\n",
    "# nesse plot removi as vendas da categoria 'regular day' pq as vendas eram bem maiores que os demais dias e\n",
    "## não estava dando para visualizar as vendas dos feriados\n",
    "\n",
    "plt.figure(figsize=(15,8))\n",
    "\n",
    "plt.subplot(2,3,1)\n",
    "sns.countplot(df_2.select_dtypes(exclude=['float64','int64','datetime64[ns]'])['state_holiday'][df_2.select_dtypes(exclude=['float64','int64','datetime64[ns]'])['state_holiday']!='regular day'],\n",
    "             order = df_2.select_dtypes(exclude=['float64','int64','datetime64[ns]'])['state_holiday'][df_2.select_dtypes(exclude=['float64','int64','datetime64[ns]'])['state_holiday']!='regular day'].value_counts().index[::-1])\n",
    "\n",
    "\n",
    "# assortment\n",
    "\n",
    "plt.subplot(2,3,2)\n",
    "sns.countplot(df_2.select_dtypes(exclude=['float64','int64','datetime64[ns]'])['assortment'],\n",
    "             order = df_2.select_dtypes(exclude=['float64','int64','datetime64[ns]'])['assortment'].value_counts().index[::-1])\n",
    "\n",
    "\n",
    "# store_type\n",
    "\n",
    "plt.subplot(2,3,3)\n",
    "sns.countplot(df_2.select_dtypes(exclude=['float64','int64','datetime64[ns]'])['store_type'],\n",
    "             order = df_2.select_dtypes(exclude=['float64','int64','datetime64[ns]'])['store_type'].value_counts().index[::-1])\n",
    "\n",
    "\n",
    "\n",
    "# Kde plot\n",
    "\n",
    "# Receita de vendas ('sales') em cada 'state_holiday'\n",
    "\n",
    "plt.subplot(2,3,4)\n",
    "sns.kdeplot(df_2[df_2['state_holiday']=='Public holiday']['sales'], \n",
    "            label='Public holiday', \n",
    "            data = df_2,\n",
    "            shade=True)\n",
    "\n",
    "sns.kdeplot(df_2[df_2['state_holiday']=='Easter']['sales'],\n",
    "            label='Easter',\n",
    "            data = df_2,\n",
    "            shade=True)\n",
    "\n",
    "sns.kdeplot(df_2[df_2['state_holiday']=='Christmas']['sales'],\n",
    "            label='Christmas',\n",
    "            data = df_2,\n",
    "            shade=True)\n",
    "\n",
    "plt.legend().set_title('state_holiday')\n",
    "\n",
    "\n",
    "# Receita de vendas ('sales') em cada 'assortment'\n",
    "\n",
    "plt.subplot(2,3,5)\n",
    "sns.kdeplot(df_2[df_2['assortment']=='extra']['sales'], \n",
    "            label='extra', \n",
    "            data = df_2,\n",
    "            shade=True)\n",
    "\n",
    "sns.kdeplot(df_2[df_2['assortment']=='extended']['sales'],\n",
    "            label='extended',\n",
    "            data = df_2,\n",
    "            shade=True)\n",
    "\n",
    "sns.kdeplot(df_2[df_2['assortment']=='basic']['sales'],\n",
    "            label='basic',\n",
    "            data = df_2,\n",
    "            shade=True)\n",
    "\n",
    "plt.legend().set_title('assortment')\n",
    "\n",
    "\n",
    "# Receita de vendas ('sales') em cada 'store_type'\n",
    "\n",
    "plt.subplot(2,3,6)\n",
    "sns.kdeplot(df_2[df_2['store_type']=='a']['sales'], \n",
    "            label='a', \n",
    "            data = df_2,\n",
    "            shade=True)\n",
    "\n",
    "sns.kdeplot(df_2[df_2['store_type']=='b']['sales'],\n",
    "            label='b',\n",
    "            data = df_2,\n",
    "            shade=True)\n",
    "\n",
    "sns.kdeplot(df_2[df_2['store_type']=='c']['sales'],\n",
    "            label='c',\n",
    "            data = df_2,\n",
    "            shade=True)\n",
    "\n",
    "sns.kdeplot(df_2[df_2['store_type']=='d']['sales'],\n",
    "            label='d',\n",
    "            data = df_2,\n",
    "            shade=True)\n",
    "\n",
    "plt.legend().set_title('store_type')\n",
    "\n",
    "plt.tight_layout()"
   ]
  },
  {
   "cell_type": "code",
   "execution_count": null,
   "id": "9d14e99f",
   "metadata": {
    "hidden": true,
    "hide_input": true,
    "id": "9d14e99f"
   },
   "outputs": [],
   "source": []
  },
  {
   "cell_type": "markdown",
   "id": "7fda4f5d",
   "metadata": {
    "heading_collapsed": true,
    "hidden": true,
    "id": "7fda4f5d"
   },
   "source": [
    "## <font color=\"#808080\">Análise bivariada</font>"
   ]
  },
  {
   "cell_type": "markdown",
   "id": "cfbe2e93",
   "metadata": {
    "hidden": true,
    "id": "cfbe2e93"
   },
   "source": [
    "<br></br>\n",
    " <font size=\"+2\">Validação das hipóteses levantadas :</font>\n",
    " <br></br>"
   ]
  },
  {
   "cell_type": "markdown",
   "id": "cb2c7673",
   "metadata": {
    "ExecuteTime": {
     "end_time": "2021-12-20T00:41:02.388984Z",
     "start_time": "2021-12-20T00:41:02.346454Z"
    },
    "hidden": true,
    "id": "cb2c7673"
   },
   "source": [
    "<font size=\"+2\">- Entidade <i>Loja</i> :</font>"
   ]
  },
  {
   "cell_type": "markdown",
   "id": "bcc672f9",
   "metadata": {
    "hidden": true,
    "id": "bcc672f9"
   },
   "source": [
    "<font size=\"+1\">Hipótese 1:</font>\n",
    "\n",
    "<b><i>Lojas com maior sortimentos deveriam vender mais.</i></b>\n",
    "\n",
    "Análise abaixo mostra que a loja com maior sortimento (extra) é a que vende menos enquanto que a loja de sortimento básico é a que vende mais.\n",
    "\n",
    "Portanto essa afirmação é <font color=\"red\"><b>falsa</b></font>.\n",
    "\n",
    "Relevância: Relevante.\n",
    "\n"
   ]
  },
  {
   "cell_type": "code",
   "execution_count": null,
   "id": "f06915e6",
   "metadata": {
    "ExecuteTime": {
     "end_time": "2022-01-03T22:01:23.493344Z",
     "start_time": "2022-01-03T22:01:22.964581Z"
    },
    "colab": {
     "base_uri": "https://localhost:8080/",
     "height": 0
    },
    "hidden": true,
    "hide_input": true,
    "id": "f06915e6",
    "outputId": "44d7694c-0745-424f-ab00-af62e7a8fc0a",
    "scrolled": false
   },
   "outputs": [],
   "source": [
    "#**1.** Lojas com maior sortimentos deveriam vender mais.\n",
    "\n",
    "\n",
    "# Barplot soma de vendas\n",
    "\n",
    "aux1 = df_2[['assortment','sales']].groupby('assortment').sum().reset_index()\n",
    "\n",
    "plt.figure(figsize=(15,8))\n",
    "\n",
    "\n",
    "sns.barplot(x=aux1['assortment'],y=aux1['sales'],data=aux1,\n",
    "           order= df_2[['assortment','sales']].groupby('assortment').sum().sort_values(by='sales').index);\n",
    "\n"
   ]
  },
  {
   "cell_type": "markdown",
   "id": "aebf54ea",
   "metadata": {
    "hidden": true,
    "id": "aebf54ea"
   },
   "source": [
    "<b><i>As vendas baixas do sortimento 'extra' estariam associados a algum período em específico?</i></b>\n",
    "\n",
    "O gráfico de linhas abaixo mostra vendas para o sortimento 'extra' abaixo dos demais durante todo o período amostrado.\n",
    "\n",
    "Uma expansão na região do sortimento 'extra' mostra que embora as vendas sejam menores elas seguem a mesma tendência dos demais sortimentos."
   ]
  },
  {
   "cell_type": "code",
   "execution_count": null,
   "id": "6a28a0d4",
   "metadata": {
    "ExecuteTime": {
     "end_time": "2022-01-03T22:01:24.559967Z",
     "start_time": "2022-01-03T22:01:23.495463Z"
    },
    "colab": {
     "base_uri": "https://localhost:8080/",
     "height": 0
    },
    "hidden": true,
    "hide_input": true,
    "id": "6a28a0d4",
    "outputId": "2e9c6756-c910-41fc-fce1-36e79fdbb46d",
    "scrolled": false
   },
   "outputs": [],
   "source": [
    "# Será que as vendas baixas do assortimento estão associados a alguma época em específico?\n",
    "\n",
    "# df_2[['sales','assortment','year_week']].groupby(['year_week','assortment']).sum().reset_index()\n",
    "\n",
    "\n",
    "# Plot soma de vendas ao longo das semanas do ano por tipo de sortimento\n",
    "\n",
    "fig, axes = plt.subplots(2,1, figsize=(15,10))\n",
    "\n",
    "df_2[['sales',\n",
    "      'assortment',\n",
    "      'year_week']].groupby(['year_week',\n",
    "                             'assortment']).sum().reset_index().pivot(index='year_week', \n",
    "                                                                      columns='assortment',\n",
    "                                                                      values='sales').plot(\n",
    "                                                                                          ax=axes[0])\n",
    "\n",
    "\n",
    "# Plot soma de vendas ao longo das semanas do ano apenas para tipo de sortimento 'extra'\n",
    "\n",
    "\n",
    "df_2[['sales',\n",
    "      'assortment',\n",
    "      'year_week']].groupby(['year_week',\n",
    "                             'assortment']).sum().reset_index().pivot(index='year_week', \n",
    "                                                                      columns='assortment',\n",
    "                                                                      values='sales')['extra'].plot(color='green',\n",
    "                                                                                                   ax=axes[1]);\n"
   ]
  },
  {
   "cell_type": "markdown",
   "id": "9bce10f2",
   "metadata": {
    "hidden": true,
    "id": "9bce10f2"
   },
   "source": [
    "<font size=\"+1\">Hipótese 2:</font>\n",
    "\n",
    "<b><i>Lojas com competidores mais próximos deveriam vender menos.</i></b>\n",
    "\n",
    "Análise abaixo (esquerda) mostra que as maiores quantidades de vendas estão associadas a lojas com competidores mais próximos e a medida em que a distância para o competidor mais próximo aumenta as vendas diminuem. A figura a direta do painel sugere uma correlação negativa entre distância e vendas.\n",
    "\n",
    "Portanto essa afirmação é <font color=\"red\"><b>falsa</b></font>.\n",
    "\n",
    "Relevância: Media.\n",
    "\n"
   ]
  },
  {
   "cell_type": "code",
   "execution_count": null,
   "id": "43bc5b63",
   "metadata": {
    "ExecuteTime": {
     "end_time": "2022-01-03T22:01:28.709723Z",
     "start_time": "2022-01-03T22:01:24.562208Z"
    },
    "code_folding": [],
    "colab": {
     "base_uri": "https://localhost:8080/",
     "height": 0
    },
    "hidden": true,
    "hide_input": true,
    "id": "43bc5b63",
    "outputId": "9dca21b7-0102-4684-e284-6afc9cdb35a1",
    "scrolled": false
   },
   "outputs": [],
   "source": [
    "#**2.** Lojas com competidores mais próximos deveriam vender menos.\n",
    "\n",
    "\n",
    "plt.figure(figsize=(15,6))\n",
    "\n",
    "\n",
    "# Scatterplot distância competidor X vendas\n",
    "\n",
    "plt.subplot(1,2,1)\n",
    "sns.scatterplot(x=df_2['competition_distance'],y=df_2['sales'], color='grey');\n",
    "\n",
    "# Heatmap de correlação\n",
    "\n",
    "plt.subplot(1,2,2)\n",
    "sns.heatmap(df_2[['competition_distance','sales']].corr(), annot=True);"
   ]
  },
  {
   "cell_type": "markdown",
   "id": "5d574999",
   "metadata": {
    "hidden": true,
    "id": "5d574999"
   },
   "source": [
    "<font size=\"+1\">Hipótese 3:</font>\n",
    "\n",
    "<b><i>Lojas com competidores à mais tempo deveriam vender mais.</i></b>\n",
    "\n",
    "A figura abaixo mostra que as competições mais recentes em tempo estão associadas a quantidade de vendas maiores e a medida que o tempo avança a quantidade de vendas diminui.\n",
    "\n",
    "Portanto essa afirmação é <font color=\"red\"><b>falsa</b></font>.\n",
    "\n",
    "Relevância: media.\n",
    "\n"
   ]
  },
  {
   "cell_type": "code",
   "execution_count": null,
   "id": "123fb5ca",
   "metadata": {
    "ExecuteTime": {
     "end_time": "2022-01-03T22:01:29.105164Z",
     "start_time": "2022-01-03T22:01:28.712089Z"
    },
    "colab": {
     "base_uri": "https://localhost:8080/",
     "height": 0
    },
    "hidden": true,
    "hide_input": true,
    "id": "123fb5ca",
    "outputId": "ff0ce4ad-344d-4234-867e-8f241a60c250",
    "scrolled": true
   },
   "outputs": [],
   "source": [
    "# Vendas em função do tempo de concorrência\n",
    "\n",
    "df_2[['competition_time_month','sales']].groupby('competition_time_month').sum().reset_index()[(df_2[['competition_time_month','sales']].groupby('competition_time_month').sum().reset_index()['competition_time_month']<50) & (df_2[['competition_time_month','sales']].groupby('competition_time_month').sum().reset_index()['competition_time_month']>-50)].set_index('competition_time_month').plot(figsize=(15,5));"
   ]
  },
  {
   "cell_type": "markdown",
   "id": "40fd3ecb",
   "metadata": {
    "hidden": true,
    "id": "40fd3ecb"
   },
   "source": [
    "Correlação entre as vendas com o tempo de abertura de uma loja concorrente"
   ]
  },
  {
   "cell_type": "code",
   "execution_count": null,
   "id": "4e68346b",
   "metadata": {
    "ExecuteTime": {
     "end_time": "2022-01-03T22:01:29.512866Z",
     "start_time": "2022-01-03T22:01:29.107870Z"
    },
    "colab": {
     "base_uri": "https://localhost:8080/",
     "height": 0
    },
    "hidden": true,
    "hide_input": true,
    "id": "4e68346b",
    "outputId": "691c4bf5-5e14-432b-b4e0-17279f70d0df",
    "scrolled": true
   },
   "outputs": [],
   "source": [
    "# Correlação entre as vendas com o tempo de abertura de uma loja concorrente\n",
    "\n",
    "sns.heatmap(df_2[['competition_time_month','sales']].groupby('competition_time_month').sum().reset_index()[df_2[['competition_time_month','sales']].groupby('competition_time_month').sum().reset_index()['competition_time_month']<0].corr(),\n",
    "           annot=True);"
   ]
  },
  {
   "cell_type": "markdown",
   "id": "6778ceef",
   "metadata": {
    "hidden": true,
    "id": "6778ceef"
   },
   "source": [
    "Correlação entre as vendas com o tempo de concorrencia com um concorrente já existente no mercado"
   ]
  },
  {
   "cell_type": "code",
   "execution_count": null,
   "id": "00fcb563",
   "metadata": {
    "ExecuteTime": {
     "end_time": "2022-01-03T22:01:29.893622Z",
     "start_time": "2022-01-03T22:01:29.515083Z"
    },
    "colab": {
     "base_uri": "https://localhost:8080/",
     "height": 0
    },
    "hidden": true,
    "hide_input": true,
    "id": "00fcb563",
    "outputId": "fd3a6e2f-091b-4aa9-b161-011edf26967f"
   },
   "outputs": [],
   "source": [
    "# Correlação entre as vendas com o tempo de concorrencia com um concorrente já existente no mercado\n",
    "\n",
    "sns.heatmap(df_2[['competition_time_month','sales']].groupby('competition_time_month').sum().reset_index()[df_2[['competition_time_month','sales']].groupby('competition_time_month').sum().reset_index()['competition_time_month']>0].corr(),\n",
    "           annot=True);"
   ]
  },
  {
   "cell_type": "markdown",
   "id": "1bc2e878",
   "metadata": {
    "ExecuteTime": {
     "end_time": "2021-12-20T00:41:02.388984Z",
     "start_time": "2021-12-20T00:41:02.346454Z"
    },
    "hidden": true,
    "id": "1bc2e878"
   },
   "source": [
    "<font size=\"+2\">- Entidade <i>Produtos</i> :</font>"
   ]
  },
  {
   "cell_type": "markdown",
   "id": "f95f00b0",
   "metadata": {
    "hidden": true,
    "id": "f95f00b0"
   },
   "source": [
    "<font size=\"+1\">Hipótese 4:</font>\n",
    "\n",
    "<b><i>Lojas com promoções ativas por mais tempo deveriam vender mais.</i></b>\n",
    "\n",
    "Análise abaixo mostra que as vendas são maiores quanto mais próximos do período da promoção extendida elas se encontram.\n",
    "no gráfico a esquerda (antes da promoção) nota-se que a medida que a data do início da promoção se aproxima a quantidade de vendas aumenta enquanto que no gráfico da direita mostra uma queda de vendas após um certo tempo do início da promoção.\n",
    "\n",
    "Portanto essa afirmação é <font color=\"red\"><b>falsa</b></font>.\n",
    "\n",
    "Relevância: Não relevante.\n",
    "\n"
   ]
  },
  {
   "cell_type": "code",
   "execution_count": null,
   "id": "18666c40",
   "metadata": {
    "ExecuteTime": {
     "end_time": "2022-01-03T22:01:36.287171Z",
     "start_time": "2022-01-03T22:01:29.895782Z"
    },
    "colab": {
     "base_uri": "https://localhost:8080/",
     "height": 0
    },
    "hidden": true,
    "hide_input": true,
    "id": "18666c40",
    "outputId": "e527d226-792a-415e-b5a6-f89a41526cec",
    "scrolled": false
   },
   "outputs": [],
   "source": [
    "fig, axis = plt.subplots(1,2)\n",
    "\n",
    "\n",
    "# Antes de a promoção começar\n",
    "\n",
    "df_2[['promo2_time_week','sales']].groupby('promo2_time_week').sum().reset_index()[df_2[['promo2_time_week','sales']].groupby('promo2_time_week').sum().reset_index()['promo2_time_week']<0].set_index('promo2_time_week').plot(kind='bar',\n",
    "figsize=(15,5), color='grey', rot=90, ax=axis[0], title='before promo');\n",
    "\n",
    "# Depois que a promoção começou\n",
    "\n",
    "df_2[['promo2_time_week','sales']].groupby('promo2_time_week').sum().reset_index()[df_2[['promo2_time_week','sales']].groupby('promo2_time_week').sum().reset_index()['promo2_time_week']>0].set_index('promo2_time_week').plot(kind='bar',\n",
    "figsize=(15,5), color='black', rot=90, ax=axis[1], title='after promo');\n",
    "\n",
    "\n"
   ]
  },
  {
   "cell_type": "code",
   "execution_count": null,
   "id": "c2465b14",
   "metadata": {
    "ExecuteTime": {
     "end_time": "2022-01-03T22:01:37.132362Z",
     "start_time": "2022-01-03T22:01:36.291569Z"
    },
    "colab": {
     "base_uri": "https://localhost:8080/",
     "height": 0
    },
    "hidden": true,
    "hide_input": true,
    "id": "c2465b14",
    "outputId": "89203e84-b3b3-46d3-ebee-3ac56983f1ee",
    "scrolled": true
   },
   "outputs": [],
   "source": [
    "# Antes de a promoção começar - correlação\n",
    "\n",
    "plt.figure(figsize=(15,5))\n",
    "\n",
    "plt.subplot(1,2,1)\n",
    "sns.heatmap(df_2[['promo2_time_week','sales']].groupby('promo2_time_week').sum().reset_index()[df_2[['promo2_time_week','sales']].groupby('promo2_time_week').sum().reset_index()['promo2_time_week']<0].corr(),\n",
    "           annot=True);\n",
    "\n",
    "plt.subplot(1,2,2)\n",
    "# Depois que a promoção começou - correlação\n",
    "\n",
    "sns.heatmap(df_2[['promo2_time_week','sales']].groupby('promo2_time_week').sum().reset_index()[df_2[['promo2_time_week','sales']].groupby('promo2_time_week').sum().reset_index()['promo2_time_week']>0].corr(),\n",
    "           annot=True);\n",
    "\n",
    "plt.tight_layout()"
   ]
  },
  {
   "cell_type": "markdown",
   "id": "a4115869",
   "metadata": {
    "hidden": true,
    "id": "a4115869"
   },
   "source": [
    "<font size=\"+1\">Hipótese 5:</font>\n",
    "\n",
    "<s><b><i>Lojas com mais dias de promoção deveriam vender mais.</i></b></s>\n",
    "\n",
    "Essa hipótese será validada no próximo ciclo do CRISP desse projeto.\n",
    "\n"
   ]
  },
  {
   "cell_type": "markdown",
   "id": "ab08ec41",
   "metadata": {
    "hidden": true,
    "id": "ab08ec41"
   },
   "source": [
    "<font size=\"+1\">Hipótese 6:</font>\n",
    "\n",
    "<b><i>Lojas com mais promoções consecutivas deveriam vender mais.</i></b>\n",
    "\n",
    "Análise do gráfico de barras abaixo mostra que o maior volume de vendas é correspondente a promo, sem que acha uma continuidade com promo2. O gráfico de linhas abaixo mostra que ao longo do tempo tanto o perfil quanto a quantidade de vendas da promo é semelhante as vendas de promo+promo2\n",
    "\n",
    "Portanto essa afirmação é <font color=\"red\"><b>falsa</b></font>.\n",
    "\n",
    "Relevância: pouco relevante.\n",
    "\n"
   ]
  },
  {
   "cell_type": "code",
   "execution_count": null,
   "id": "6d987056",
   "metadata": {
    "ExecuteTime": {
     "end_time": "2022-01-03T22:01:37.455944Z",
     "start_time": "2022-01-03T22:01:37.135687Z"
    },
    "colab": {
     "base_uri": "https://localhost:8080/",
     "height": 0
    },
    "hidden": true,
    "hide_input": true,
    "id": "6d987056",
    "outputId": "bf020eba-4c3e-4c53-c1cf-d21acdcb5e61",
    "scrolled": false
   },
   "outputs": [],
   "source": [
    "df_2.loc[:,['promo','promo2','sales']].groupby(['promo','promo2']).sum().plot(kind='bar', figsize=(15,5));"
   ]
  },
  {
   "cell_type": "code",
   "execution_count": null,
   "id": "509c6845",
   "metadata": {
    "ExecuteTime": {
     "end_time": "2022-01-03T22:01:39.889390Z",
     "start_time": "2022-01-03T22:01:37.460928Z"
    },
    "colab": {
     "base_uri": "https://localhost:8080/",
     "height": 0
    },
    "hidden": true,
    "hide_input": true,
    "id": "509c6845",
    "outputId": "77e80d80-7b58-4d06-a4fa-77f3fc1fc2ac",
    "scrolled": false
   },
   "outputs": [],
   "source": [
    "# Comparação efeito nas vendas da segunda promoção quando se faz ou não a primeira\n",
    "\n",
    "\n",
    "plt.figure(figsize=(15,5))\n",
    "\n",
    "#Somente promo2 (0,1)\n",
    "sns.lineplot(\n",
    "    data=df_2[(df_2['promo']==0) & (df_2['promo2']==1)][['year_week','sales']].groupby('year_week').sum().reset_index(),\n",
    "    y='sales',\n",
    "    x='year_week')\n",
    "\n",
    "\n",
    "# promo2 seguida da promo (1,1)\n",
    "sns.lineplot(\n",
    "    data=df_2[(df_2['promo']==1) & (df_2['promo2']==1)][['year_week','sales']].groupby('year_week').sum().reset_index(),\n",
    "    y='sales',\n",
    "    x='year_week')\n",
    "\n",
    "\n",
    "# promo sem promo2 (1,0)\n",
    "sns.lineplot(\n",
    "    data=df_2[(df_2['promo']==1) & (df_2['promo2']==0)][['year_week','sales']].groupby('year_week').sum().reset_index(),\n",
    "    y='sales',\n",
    "    x='year_week')\n",
    "\n",
    "plt.xticks(rotation=90)\n",
    "\n",
    "\n",
    "plt.legend(labels=['Somente promo2','promo2 com promo','somente promo']);"
   ]
  },
  {
   "cell_type": "markdown",
   "id": "61e74ad0",
   "metadata": {
    "ExecuteTime": {
     "end_time": "2021-12-20T00:41:02.388984Z",
     "start_time": "2021-12-20T00:41:02.346454Z"
    },
    "hidden": true,
    "id": "61e74ad0"
   },
   "source": [
    "<font size=\"+2\">- Entidade <i>Temporal</i> :</font>"
   ]
  },
  {
   "cell_type": "markdown",
   "id": "d4a60db7",
   "metadata": {
    "hidden": true,
    "id": "d4a60db7"
   },
   "source": [
    "<font size=\"+1\">Hipótese 7:</font>\n",
    "\n",
    "<b><i>Lojas abertas durante o feriado de Natal deveriam vender mais..</i></b>\n",
    "\n",
    "Análise abaixo mostra que, na primeira figura do painel, no geral a a soma de vendas de feriados públicos é maior. Esse comportamento é razoável pois essas vendas são referentes a todos os feriados (que não são Páscoa e nem Natal) somados. O segundo painel mostra que esse comportamento se mantém ao longo dos anos avaliados. O Natal de 2015 não foi incluído porque o ano ainda não estava fechado no dataset avaliado.\n",
    "\n",
    "Já o terceiro painel mostra a média de vendas. Embora o valor absoluto de vendas no Natal seja menor, o Natal é o feriado que possui a maior média de vendas dentro do período avaliado\n",
    "\n",
    "Portanto essa afirmação é <font color=\"red\"><b>falsa</b></font>.\n",
    "\n",
    "Relevância: Relevante.\n",
    "\n"
   ]
  },
  {
   "cell_type": "code",
   "execution_count": null,
   "id": "cadb7174",
   "metadata": {
    "ExecuteTime": {
     "end_time": "2022-01-03T22:01:40.988767Z",
     "start_time": "2022-01-03T22:01:39.891834Z"
    },
    "colab": {
     "base_uri": "https://localhost:8080/",
     "height": 0
    },
    "hidden": true,
    "hide_input": true,
    "id": "cadb7174",
    "outputId": "9b35a6e6-d894-4fb1-83e9-cd9cc78120fe",
    "scrolled": false
   },
   "outputs": [],
   "source": [
    "\n",
    "# Vendas nos feriados (foi removido 'regular_day' para facilitar a comparação)\n",
    "\n",
    "plt.figure(figsize=(15,15))\n",
    "\n",
    "plt.subplot(3,1,1)\n",
    "sns.barplot(data=df_2.loc[df_2['state_holiday']!='regular day',['state_holiday','sales']].groupby('state_holiday').sum().reset_index(),\n",
    "           x='state_holiday',\n",
    "           y='sales');\n",
    "\n",
    "\n",
    "# Vendas nos feriados ao longo dos anos\n",
    "\n",
    "plt.subplot(3,1,2)\n",
    "sns.barplot(data=df_2.loc[df_2['state_holiday']!='regular day',['state_holiday','year','sales']].groupby(['year','state_holiday']).sum().reset_index(),\n",
    "           x='year',\n",
    "           y='sales', hue='state_holiday');\n",
    "\n",
    "\n",
    "# Média de Vendas nos feriados ao longo dos anos\n",
    "\n",
    "plt.subplot(3,1,3)\n",
    "sns.barplot(data=df_2.loc[df_2['state_holiday']!='regular day',['state_holiday','year','sales']].groupby(['year','state_holiday']).mean().reset_index(),\n",
    "           x='year',\n",
    "           y='sales', hue='state_holiday');"
   ]
  },
  {
   "cell_type": "markdown",
   "id": "48302b3b",
   "metadata": {
    "hidden": true,
    "id": "48302b3b"
   },
   "source": [
    "<font size=\"+1\">Hipótese 8:</font>\n",
    "\n",
    "<b><i>Lojas deveriam vender mais ao longo dos anos.</i></b>\n",
    "\n",
    "Análise abaixo mostra que, para o período avaliado houve uma tendência de queda das vendas. Embora o ano de 2015 não seja um ano fechado, a observação leva a crer que a tendência será mantida no fechamento do ano.\n",
    "\n",
    "Portanto essa afirmação é <font color=\"red\"><b>falsa</b></font>.\n",
    "\n",
    "Relevância: Relevante.\n",
    "\n"
   ]
  },
  {
   "cell_type": "code",
   "execution_count": null,
   "id": "1d7d8426",
   "metadata": {
    "ExecuteTime": {
     "end_time": "2022-01-03T22:01:41.306034Z",
     "start_time": "2022-01-03T22:01:40.992425Z"
    },
    "colab": {
     "base_uri": "https://localhost:8080/",
     "height": 0
    },
    "hidden": true,
    "hide_input": true,
    "id": "1d7d8426",
    "outputId": "5f122e89-c30c-40a9-c056-2dc870f85564",
    "scrolled": true
   },
   "outputs": [],
   "source": [
    "plt.figure(figsize=(15,5))\n",
    "\n",
    "sns.barplot(data=df_2[['year','sales']].groupby('year').sum().reset_index(),\n",
    "            x='year',\n",
    "            y='sales');"
   ]
  },
  {
   "cell_type": "markdown",
   "id": "f4369cef",
   "metadata": {
    "hidden": true,
    "id": "f4369cef"
   },
   "source": [
    "<font size=\"+1\">Hipótese 9:</font>\n",
    "\n",
    "<b><i>Lojas deveriam vender mais no segundo semestre do ano.</i></b>\n",
    "\n",
    "Análise abaixo mostra que, do sexto mês do ano em diante existe uma tendência de queda nas vendas (painel da esquerda). A análise de correlação (painel direita) mostra um valor de -0.75 sugerindo uma correlação forte entre o aumento dos meses com a queda das vendas.\n",
    "\n",
    "O painel abaixo mostra os meses para cada ano, entretanto não foi possível obter um padrão evidente.\n",
    "\n",
    "Portanto essa afirmação é <font color=\"red\"><b>falsa</b></font>.\n",
    "\n",
    "Relevância: Relevante.\n",
    "\n"
   ]
  },
  {
   "cell_type": "code",
   "execution_count": null,
   "id": "7952a8a2",
   "metadata": {
    "ExecuteTime": {
     "end_time": "2022-01-03T22:01:42.796949Z",
     "start_time": "2022-01-03T22:01:41.316190Z"
    },
    "colab": {
     "base_uri": "https://localhost:8080/",
     "height": 0
    },
    "hidden": true,
    "hide_input": true,
    "id": "7952a8a2",
    "outputId": "3c955676-8cd7-4ea4-82bf-911f685fce39",
    "scrolled": false
   },
   "outputs": [],
   "source": [
    "plt.figure(figsize=(15,10))\n",
    "\n",
    "plt.subplot(2,2,1)\n",
    "sns.barplot(data=df_2[['month','sales']].groupby(['month']).sum().reset_index(),\n",
    "            x='month',\n",
    "            y='sales');\n",
    "\n",
    "plt.subplot(2,2,2)\n",
    "sns.heatmap(data=df_2[['month','sales']].groupby(['month']).sum().reset_index().corr(),\n",
    "           annot=True);\n",
    "\n",
    "plt.subplot(2,1,2)\n",
    "sns.barplot(data=df_2[['month','year','sales']].groupby(['month','year']).sum().reset_index(),\n",
    "            x='month',\n",
    "            y='sales',\n",
    "           hue='year');"
   ]
  },
  {
   "cell_type": "markdown",
   "id": "8fa8b8f2",
   "metadata": {
    "hidden": true,
    "id": "8fa8b8f2"
   },
   "source": [
    "<font size=\"+1\">Hipótese 10:</font>\n",
    "\n",
    "<b><i>Lojas deveriam vender mais depois do dia 10 de cada mês.</i></b>\n",
    "\n",
    "Análise abaixo mostra que, o total de vendas depois do dia 10 é maior do que o total de vendas antes do dia 10 (painel superior).\n",
    "\n",
    "Ao desmembrar as velas antes e depois do dia 10 por cada ano avaliado o comportamento se mantém embora a diferença seja mais sutil.\n",
    "\n",
    "Portanto essa afirmação é <font color=\"red\"><b>falsa</b></font>.\n",
    "\n",
    "Relevância: Relevante.\n",
    "\n"
   ]
  },
  {
   "cell_type": "code",
   "execution_count": null,
   "id": "ad64b151",
   "metadata": {
    "ExecuteTime": {
     "end_time": "2022-01-03T22:01:43.233111Z",
     "start_time": "2022-01-03T22:01:42.800556Z"
    },
    "colab": {
     "base_uri": "https://localhost:8080/",
     "height": 0
    },
    "hidden": true,
    "hide_input": true,
    "id": "ad64b151",
    "outputId": "d063d38d-ae73-4762-8eef-fcad4d510ad2",
    "scrolled": false
   },
   "outputs": [],
   "source": [
    "aux = df_2[['day','sales']].groupby(['day']).sum().reset_index()\n",
    "\n",
    "aux['before_after'] = aux['day'].apply(lambda x:'before_10th' if x<10 else 'after_10th')\n",
    "\n",
    "aux_1 = df_2[['day','year','sales']].groupby(['day','year']).sum().reset_index()\n",
    "\n",
    "aux_1['before_after'] = aux_1['day'].apply(lambda x:'before_10th' if x<10 else 'after_10th')\n",
    "\n",
    "plt.figure(figsize=(15,10))\n",
    "\n",
    "\n",
    "\n",
    "sns.barplot(data=aux[['before_after','sales']].groupby('before_after').sum().reset_index(),\n",
    "            x='before_after',\n",
    "            y='sales',\n",
    "           order=aux[['before_after','sales']].groupby('before_after').sum().reset_index().sort_values(by='sales')['before_after']);\n"
   ]
  },
  {
   "cell_type": "markdown",
   "id": "939b70ea",
   "metadata": {
    "hidden": true,
    "id": "939b70ea"
   },
   "source": [
    "<font size=\"+1\">Hipótese 11:</font>\n",
    "\n",
    "<b><i>Lojas deveriam vender menos aos finais de semana.</i></b>\n",
    "\n",
    "Análise abaixo mostra que, aos finais de semana a quantidade de vendas diminui.\n",
    "\n",
    "Portanto essa afirmação é <font color=\"green\"><b>verdadeira</b></font>.\n",
    "\n",
    "Relevância: Relevante.\n",
    "\n"
   ]
  },
  {
   "cell_type": "code",
   "execution_count": null,
   "id": "1e91aa86",
   "metadata": {
    "ExecuteTime": {
     "end_time": "2022-01-03T22:01:43.672977Z",
     "start_time": "2022-01-03T22:01:43.236523Z"
    },
    "colab": {
     "base_uri": "https://localhost:8080/",
     "height": 0
    },
    "hidden": true,
    "hide_input": true,
    "id": "1e91aa86",
    "outputId": "ee247b00-7cb9-4ceb-a0ba-d407cafd5ce9",
    "scrolled": true
   },
   "outputs": [],
   "source": [
    "\n",
    "plt.figure(figsize=(15,5))\n",
    "\n",
    "plt.subplot(1,2,1)\n",
    "sns.barplot(data=df_2[['day_of_week','sales']].groupby('day_of_week').sum().reset_index(),\n",
    "            x='day_of_week',\n",
    "            y='sales');\n",
    "\n",
    "\n",
    "aux = df_2[['day_of_week','sales']].groupby('day_of_week').sum().reset_index()\n",
    "\n",
    "aux['weekday'] = aux['day_of_week'].apply(lambda x: 'weekdays' if x<6 else 'weekends')\n",
    "\n",
    "plt.subplot(1,2,2)\n",
    "sns.barplot(data=aux[['weekday','sales']].groupby('weekday').sum().reset_index(),\n",
    "            x='weekday',\n",
    "            y='sales');"
   ]
  },
  {
   "cell_type": "markdown",
   "id": "5f3cf65c",
   "metadata": {
    "hidden": true,
    "id": "5f3cf65c"
   },
   "source": [
    "<font size=\"+1\">Hipótese 12:</font>\n",
    "\n",
    "<b><i>Lojas deveriam vender menos durante os feriados escolares..</i></b>\n",
    "\n",
    "Análise abaixo mostra que, no geral, nos feriados escolares a venda é menor quando comparada a períodos sem feriados escolares. Uma ressalva fica para a análise mês a mês (painel da direita) que mostra uma crescente nas vendas no mês 7 e no mês 8 as vendas nos dias de feriado escolar superando os demais dias, possívelmente o comportamento destoante desses meses é explicado pelo período de férias escolares.\n",
    "\n",
    "Portanto essa afirmação é <font color=\"green\"><b>verdadeira</b></font>.\n",
    "\n",
    "Relevância: Relevante.\n",
    "\n"
   ]
  },
  {
   "cell_type": "code",
   "execution_count": null,
   "id": "2aeba852",
   "metadata": {
    "ExecuteTime": {
     "end_time": "2022-01-03T22:01:44.644571Z",
     "start_time": "2022-01-03T22:01:43.679464Z"
    },
    "colab": {
     "base_uri": "https://localhost:8080/",
     "height": 0
    },
    "hidden": true,
    "hide_input": true,
    "id": "2aeba852",
    "outputId": "57a9897f-9890-44ce-ee72-43cd49863a2c",
    "scrolled": false
   },
   "outputs": [],
   "source": [
    "plt.figure(figsize=(15,7))\n",
    "\n",
    "\n",
    "plt.subplot(2,2,1)\n",
    "sns.barplot(data=df_2[['school_holiday', 'sales']].groupby('school_holiday').sum().reset_index(),\n",
    "            x='school_holiday',\n",
    "            y='sales');\n",
    "\n",
    "plt.subplot(2,2,3)\n",
    "sns.barplot(data=df_2[['school_holiday', 'year', 'sales']].groupby(['school_holiday','year']).sum().reset_index(),\n",
    "            x='year',\n",
    "            y='sales', hue='school_holiday');\n",
    "\n",
    "plt.subplot(1,2,2)\n",
    "sns.barplot(data=df_2[['school_holiday', 'month', 'sales']].groupby(['school_holiday','month']).sum().reset_index(),\n",
    "            x='month',\n",
    "            y='sales', hue='school_holiday');"
   ]
  },
  {
   "cell_type": "code",
   "execution_count": null,
   "id": "5a8db500",
   "metadata": {
    "ExecuteTime": {
     "end_time": "2022-01-03T22:01:44.662869Z",
     "start_time": "2022-01-03T22:01:44.648803Z"
    },
    "colab": {
     "base_uri": "https://localhost:8080/"
    },
    "hidden": true,
    "id": "5a8db500",
    "outputId": "a6330bef-f042-44a8-b798-f6d203f51c85"
   },
   "outputs": [],
   "source": [
    "# Conclusões\n",
    "\n",
    "tab = [['Hipótese', 'Conclusão', 'Relevância'],\n",
    "      ['H1', 'False','Baixa'],\n",
    "      ['H2', 'False','Relevante'],\n",
    "      ['H3', 'False','Relevante'],\n",
    "      ['H4', 'False','Não relevante'],\n",
    "      ['H5', '-','-'],\n",
    "      ['H6', 'False','Pouco relevante'],\n",
    "      ['H7', 'False','Relevante'],\n",
    "      ['H8', 'False','Relevante'],\n",
    "      ['H9', 'False','Relevante'],\n",
    "      ['H10', 'Verdadeira','Relevante'],\n",
    "      ['H11', 'Verdadeira','Relevante'],\n",
    "      ['H12', 'Verdadeira','Relevante'],]\n",
    "\n",
    "print(tabulate(tab, headers='firstrow'))"
   ]
  },
  {
   "cell_type": "markdown",
   "id": "d4d5a394",
   "metadata": {
    "heading_collapsed": true,
    "hidden": true,
    "id": "d4d5a394"
   },
   "source": [
    "## <font color=\"#808080\">Análise multivariada</font>"
   ]
  },
  {
   "cell_type": "markdown",
   "id": "7ef95439",
   "metadata": {
    "hidden": true,
    "id": "7ef95439"
   },
   "source": [
    "* Heatmap de correlação das variáveis numéricas (dataset com os features derivados):"
   ]
  },
  {
   "cell_type": "code",
   "execution_count": null,
   "id": "b4f6c6ff",
   "metadata": {
    "ExecuteTime": {
     "end_time": "2022-01-03T22:01:48.005314Z",
     "start_time": "2022-01-03T22:01:44.666453Z"
    },
    "colab": {
     "base_uri": "https://localhost:8080/",
     "height": 0
    },
    "hidden": true,
    "hide_input": true,
    "id": "b4f6c6ff",
    "outputId": "8634acb6-63a7-4136-ca7d-cf6ed8f854aa",
    "scrolled": false
   },
   "outputs": [],
   "source": [
    "# Heatmap de correlação das variáveis numéricas (dataset com os features derivados)\n",
    "\n",
    "\n",
    "plt.figure(figsize=(20,15))\n",
    "\n",
    "sns.heatmap(df_2.select_dtypes(include=['float64','int64']).corr(), annot=True);"
   ]
  },
  {
   "cell_type": "markdown",
   "id": "51f43c4b",
   "metadata": {
    "hidden": true,
    "id": "51f43c4b"
   },
   "source": [
    "* Heatmap de correlação das variáveis numéricas (dataset original):"
   ]
  },
  {
   "cell_type": "code",
   "execution_count": null,
   "id": "e024f869",
   "metadata": {
    "ExecuteTime": {
     "end_time": "2022-01-03T22:01:50.223323Z",
     "start_time": "2022-01-03T22:01:48.007753Z"
    },
    "colab": {
     "base_uri": "https://localhost:8080/",
     "height": 0
    },
    "hidden": true,
    "hide_input": true,
    "id": "e024f869",
    "outputId": "6074bbb7-d7e1-4e77-8e71-e3afd819122b"
   },
   "outputs": [],
   "source": [
    "# Heatmap de correlação das variáveis numéricas (dataset original)\n",
    "\n",
    "plt.figure(figsize=(20,15))\n",
    "\n",
    "sns.heatmap(num_attrib.corr(), annot=True);"
   ]
  },
  {
   "cell_type": "markdown",
   "id": "a778776b",
   "metadata": {
    "hidden": true,
    "id": "a778776b"
   },
   "source": [
    "* Heatmap de correlação das variáveis categóricas:"
   ]
  },
  {
   "cell_type": "code",
   "execution_count": null,
   "id": "a856ccf7",
   "metadata": {
    "ExecuteTime": {
     "end_time": "2022-01-03T22:01:53.912394Z",
     "start_time": "2022-01-03T22:01:50.225590Z"
    },
    "colab": {
     "base_uri": "https://localhost:8080/",
     "height": 0
    },
    "hidden": true,
    "hide_input": true,
    "id": "a856ccf7",
    "outputId": "21a8e85f-890d-4d19-d2ae-72006083e1f8"
   },
   "outputs": [],
   "source": [
    "# Heatmap de correlação das variáveis categóricas\n",
    "\n",
    "plt.figure(figsize=(15,5))\n",
    "plot_corr(df_2, ['state_holiday','store_type','assortment'] );"
   ]
  },
  {
   "cell_type": "markdown",
   "id": "1564974e",
   "metadata": {
    "ExecuteTime": {
     "end_time": "2021-12-16T02:45:54.390168Z",
     "start_time": "2021-12-16T02:45:54.375280Z"
    },
    "heading_collapsed": true,
    "id": "1564974e"
   },
   "source": [
    "# Data preparation"
   ]
  },
  {
   "cell_type": "markdown",
   "id": "d851a8ee",
   "metadata": {
    "heading_collapsed": true,
    "hidden": true,
    "id": "d851a8ee"
   },
   "source": [
    "## <font color=\"#808080\">Train/Test split</font>"
   ]
  },
  {
   "cell_type": "markdown",
   "id": "22ab29d3",
   "metadata": {
    "hidden": true,
    "id": "22ab29d3"
   },
   "source": [
    "O split deve ser feito antes da preparação dos dados para evitar data leekage."
   ]
  },
  {
   "cell_type": "code",
   "execution_count": null,
   "id": "926f623e",
   "metadata": {
    "ExecuteTime": {
     "end_time": "2022-01-03T23:01:52.580007Z",
     "start_time": "2022-01-03T23:01:52.333102Z"
    },
    "hidden": true,
    "id": "926f623e"
   },
   "outputs": [],
   "source": [
    "df_3 = df_2.copy()"
   ]
  },
  {
   "cell_type": "code",
   "execution_count": null,
   "id": "de389265",
   "metadata": {
    "ExecuteTime": {
     "end_time": "2022-01-03T23:01:53.773233Z",
     "start_time": "2022-01-03T23:01:53.188618Z"
    },
    "colab": {
     "base_uri": "https://localhost:8080/",
     "height": 0
    },
    "hidden": true,
    "id": "de389265",
    "outputId": "a0d4ecf6-6579-4474-ba33-23b0b1cd40c8"
   },
   "outputs": [],
   "source": [
    "# Train test split\n",
    "\n",
    "# Dados temporais: split é feito em passado (treino) futuro (teste)\n",
    "# como o modelo será construído para fazer previsão de 6 dias o conjunto será dividido com os 6\n",
    "# semanas dias do dataset\n",
    "\n",
    "df_3[['store','date']].groupby('store').min() # verificando a menor data para cada store no dataset\n",
    "\n",
    "df_3[['store', 'date']].groupby('store').max() # verificando a menor data para cada store no dataset"
   ]
  },
  {
   "cell_type": "code",
   "execution_count": null,
   "id": "46cd6331",
   "metadata": {
    "ExecuteTime": {
     "end_time": "2022-01-03T23:01:54.171191Z",
     "start_time": "2022-01-03T23:01:54.024389Z"
    },
    "colab": {
     "base_uri": "https://localhost:8080/"
    },
    "hidden": true,
    "id": "46cd6331",
    "outputId": "a914fb7d-5d1a-47cd-8035-4f6ab3efa772"
   },
   "outputs": [],
   "source": [
    "df_3[['store', 'date']].groupby('store').max().reset_index()['date'][0] # Obtendo o primeiro valor da maior data\n",
    "\n",
    "\n",
    "# Subtrair 6 semanas da maior data (método datetime.timedelta)\n",
    "\n",
    "df_3[['store', 'date']].groupby('store').max().reset_index()['date'][0] - datetime.timedelta(days=7*6)"
   ]
  },
  {
   "cell_type": "code",
   "execution_count": null,
   "id": "2c906e38",
   "metadata": {
    "ExecuteTime": {
     "end_time": "2022-01-03T23:01:56.352555Z",
     "start_time": "2022-01-03T23:01:55.429177Z"
    },
    "hidden": true,
    "id": "2c906e38",
    "scrolled": false
   },
   "outputs": [],
   "source": [
    "# Separando em treino/teste\n",
    "\n",
    "#train\n",
    "X_train = df_3.loc[df_3['date']<'2015-06-19 00:00:00', df_3.columns!='sales']\n",
    "y_train = df_3.loc[df_3['date']<'2015-06-19 00:00:00', 'sales']\n",
    "\n",
    "#test\n",
    "X_test = df_3.loc[df_3['date']>='2015-06-19 00:00:00', df_3.columns!='sales']\n",
    "y_test = df_3.loc[df_3['date']>='2015-06-19 00:00:00', 'sales']"
   ]
  },
  {
   "cell_type": "code",
   "execution_count": null,
   "id": "e9943dc7",
   "metadata": {
    "ExecuteTime": {
     "end_time": "2022-01-03T23:01:56.786685Z",
     "start_time": "2022-01-03T23:01:56.673687Z"
    },
    "colab": {
     "base_uri": "https://localhost:8080/"
    },
    "hidden": true,
    "id": "e9943dc7",
    "outputId": "7534004d-6d20-49bf-d236-ebdc300b058f"
   },
   "outputs": [],
   "source": [
    "\n",
    "print('\\nInformações dos dados:\\n')\n",
    "print('Mínimo conjunto treino: {0}'.format(X_train['date'].min()))\n",
    "print('Máximo conjunto treino: {0}'.format(X_train['date'].max()))\n",
    "print('\\n')\n",
    "print('Mínimo conjunto teste: {0}'.format(X_test['date'].min()))\n",
    "print('Máximo conjunto teste: {0}'.format(X_test['date'].max()))\n"
   ]
  },
  {
   "cell_type": "markdown",
   "id": "2d24f123",
   "metadata": {
    "heading_collapsed": true,
    "hidden": true,
    "id": "2d24f123"
   },
   "source": [
    "## <font color=\"#808080\">Scaling - variáveis numéricas</font>"
   ]
  },
  {
   "cell_type": "code",
   "execution_count": null,
   "id": "e24c1ea1",
   "metadata": {
    "ExecuteTime": {
     "end_time": "2022-01-03T23:02:00.875119Z",
     "start_time": "2022-01-03T23:02:00.464694Z"
    },
    "colab": {
     "base_uri": "https://localhost:8080/",
     "height": 0
    },
    "hidden": true,
    "id": "e24c1ea1",
    "outputId": "621aef6f-c7d7-4da2-e089-8a62768224ed"
   },
   "outputs": [],
   "source": [
    "X_train.select_dtypes(include=['float64','int64']).head()"
   ]
  },
  {
   "cell_type": "code",
   "execution_count": null,
   "id": "201e61ed",
   "metadata": {
    "ExecuteTime": {
     "end_time": "2022-01-03T23:02:02.499017Z",
     "start_time": "2022-01-03T23:02:02.490547Z"
    },
    "hidden": true,
    "id": "201e61ed"
   },
   "outputs": [],
   "source": [
    "# Atributos numéricos escolhidos para o scaling:\n",
    "\n",
    "\n",
    "# competition_distance (Robust Scaler)\n",
    " \n",
    "# year (MinMax Scaler)\n",
    "\n",
    "# competition_time_month (Robust Scaler)\n",
    " \n",
    "# promo2_time_week (MinMax Scaler)"
   ]
  },
  {
   "cell_type": "code",
   "execution_count": null,
   "id": "dfabbe61",
   "metadata": {
    "ExecuteTime": {
     "end_time": "2022-01-03T23:02:08.625445Z",
     "start_time": "2022-01-03T23:02:06.553754Z"
    },
    "hidden": true,
    "id": "dfabbe61"
   },
   "outputs": [],
   "source": [
    "\n",
    "# Para decidir entre MinMaxScaler e RobustScaler os boxplots das variáveis foram inspecionados.\n",
    "# para variáveis com outiliers escolheu-se o Robust Scaler e para as demais o MinMax Scaler\n",
    "\n",
    "\n",
    "# Scaling com Robust Scaler ('competition_distance' e 'competition_time_month')\n",
    "\n",
    "# 'competition_distance'\n",
    "\n",
    "rs = RobustScaler()\n",
    "\n",
    "X_train['competition_distance'] = rs.fit_transform(X_train[['competition_distance']].values)\n",
    "\n",
    "pickle.dump(rs, open('/home/gustavo/repos/Rossmann/competion_distance_scaler.pkl', 'wb')) # Saving scalers\n",
    "\n",
    "# 'competition_time_month'\n",
    "\n",
    "rs = RobustScaler()\n",
    "\n",
    "X_train['competition_time_month'] = rs.fit_transform(X_train[['competition_time_month']].values)\n",
    "\n",
    "pickle.dump(rs, open('/home/gustavo/repos/Rossmann/competition_time_month_scaler.pkl', 'wb')) # Saving scalers\n",
    "\n",
    "\n",
    "\n",
    "\n",
    "# Scaling com MinMax Scaler ('year' e 'promo2_time_week')\n",
    "\n",
    "# 'year'\n",
    "\n",
    "mms = MinMaxScaler()\n",
    "\n",
    "X_train['year'] = mms.fit_transform(X_train[['year']].values)\n",
    "\n",
    "pickle.dump(mms, open('/home/gustavo/repos/Rossmann/year_scaler.pkl', 'wb')) # Saving scalers\n",
    "\n",
    "# 'promo2_time_week'\n",
    "\n",
    "mms = MinMaxScaler()\n",
    "\n",
    "X_train['promo2_time_week'] = mms.fit_transform(X_train[['promo2_time_week']].values)\n",
    "\n",
    "pickle.dump(mms, open('/home/gustavo/repos/Rossmann/promo2_time_week_scaler.pkl', 'wb')) # Saving scalers"
   ]
  },
  {
   "cell_type": "code",
   "execution_count": null,
   "id": "9bec58b6",
   "metadata": {
    "ExecuteTime": {
     "end_time": "2022-01-03T23:04:57.108421Z",
     "start_time": "2022-01-03T23:04:57.039248Z"
    },
    "hidden": true,
    "id": "9bec58b6"
   },
   "outputs": [],
   "source": [
    "# Fazendo o scaling para o X_test\n",
    "\n",
    "# Scaling com Robust Scaler ('competition_distance' e 'competition_time_month')\n",
    "\n",
    "X_test['competition_distance'], X_test['competition_time_month'] = [RobustScaler().fit_transform(X_test[[i]].values) for i in ['competition_distance', 'competition_time_month']]\n",
    "\n",
    "\n",
    "# Scaling com MinMax Scaler ('year' e 'promo2_time_week')\n",
    "\n",
    "X_test['year'], X_test['promo2_time_week'] = [MinMaxScaler().fit_transform(X_test[[i]].values) for i in ['year', 'promo2_time_week']]"
   ]
  },
  {
   "cell_type": "markdown",
   "id": "d50fe3a9",
   "metadata": {
    "heading_collapsed": true,
    "hidden": true,
    "id": "d50fe3a9"
   },
   "source": [
    "## <font color=\"#808080\">Encoding - variáveis categóricas</font>"
   ]
  },
  {
   "cell_type": "code",
   "execution_count": null,
   "id": "3795ea73",
   "metadata": {
    "ExecuteTime": {
     "end_time": "2022-01-03T23:05:54.150025Z",
     "start_time": "2022-01-03T23:05:54.073277Z"
    },
    "colab": {
     "base_uri": "https://localhost:8080/",
     "height": 0
    },
    "hidden": true,
    "id": "3795ea73",
    "outputId": "6efe32bf-eac4-4466-e607-a789e1ebcd21",
    "scrolled": true
   },
   "outputs": [],
   "source": [
    "X_train.select_dtypes(exclude=['float64','int64','datetime64[ns]']).head()"
   ]
  },
  {
   "cell_type": "code",
   "execution_count": null,
   "id": "a88ad155",
   "metadata": {
    "ExecuteTime": {
     "end_time": "2022-01-03T23:06:01.444189Z",
     "start_time": "2022-01-03T23:05:59.242868Z"
    },
    "hidden": true,
    "id": "a88ad155"
   },
   "outputs": [],
   "source": [
    "# state_holiday (One-Hot encoding)\n",
    "\n",
    "X_train = pd.get_dummies(data=X_train, columns=['state_holiday'], prefix=['state_holiday'])\n",
    "\n",
    "\n",
    "\n",
    "\n",
    "# store_type (Label encoder)\n",
    "\n",
    "le = LabelEncoder()\n",
    "\n",
    "X_train['store_type'] = le.fit_transform(X_train['store_type'])\n",
    "\n",
    "pickle.dump(le, open('/home/gustavo/repos/Rossmann/store_type_encoder.pkl', 'wb')) # Saving encoders\n",
    "\n",
    "\n",
    "\n",
    "# assortment (Ordinal Encoder)\n",
    "\n",
    "assortment_encoding_map = {'basic': 1, 'extended':2, 'extra':3}\n",
    "\n",
    "X_train['assortment'] = X_train['assortment'].map(assortment_encoding_map)"
   ]
  },
  {
   "cell_type": "code",
   "execution_count": null,
   "id": "3f07a110",
   "metadata": {
    "ExecuteTime": {
     "end_time": "2022-01-03T22:02:34.627759Z",
     "start_time": "2022-01-03T22:02:30.239198Z"
    },
    "colab": {
     "base_uri": "https://localhost:8080/",
     "height": 0
    },
    "hidden": true,
    "id": "3f07a110",
    "outputId": "876b621c-e9ff-49b2-81ff-c2974671edec"
   },
   "outputs": [],
   "source": [
    "X_train.head()"
   ]
  },
  {
   "cell_type": "code",
   "execution_count": null,
   "id": "7260e4cc",
   "metadata": {
    "ExecuteTime": {
     "end_time": "2022-01-03T22:02:36.591452Z",
     "start_time": "2022-01-03T22:02:34.631556Z"
    },
    "hidden": true,
    "id": "7260e4cc"
   },
   "outputs": [],
   "source": [
    "# Encoding do conjunto teste\n",
    "\n",
    "# state_holiday (One-Hot encoding)\n",
    "\n",
    "X_test = pd.get_dummies(data=X_test, columns=['state_holiday'], prefix=['state_holiday'])\n",
    "\n",
    "\n",
    "\n",
    "\n",
    "# store_type (Label encoder)\n",
    "\n",
    "\n",
    "X_test['store_type'] = LabelEncoder().fit_transform(X_test['store_type'])\n",
    "\n",
    "\n",
    "\n",
    "# assortment (Ordinal Encoder)\n",
    "\n",
    "assortment_encoding_map = {'basic': 1, 'extended':2, 'extra':3}\n",
    "\n",
    "X_test['assortment'] = X_test['assortment'].map(assortment_encoding_map)"
   ]
  },
  {
   "cell_type": "code",
   "execution_count": null,
   "id": "a180de14",
   "metadata": {
    "ExecuteTime": {
     "end_time": "2022-01-03T22:02:39.822477Z",
     "start_time": "2022-01-03T22:02:36.596092Z"
    },
    "colab": {
     "base_uri": "https://localhost:8080/",
     "height": 0
    },
    "hidden": true,
    "id": "a180de14",
    "outputId": "60bc1868-6007-4b98-a814-542140d419c6"
   },
   "outputs": [],
   "source": [
    "X_test.head()"
   ]
  },
  {
   "cell_type": "markdown",
   "id": "86e0fe6b",
   "metadata": {
    "heading_collapsed": true,
    "hidden": true,
    "id": "86e0fe6b"
   },
   "source": [
    "## <font color=\"#808080\">Transformação - variável alvo</font>"
   ]
  },
  {
   "cell_type": "code",
   "execution_count": null,
   "id": "b3870d0c",
   "metadata": {
    "ExecuteTime": {
     "end_time": "2022-01-03T22:02:56.541709Z",
     "start_time": "2022-01-03T22:02:39.826090Z"
    },
    "colab": {
     "base_uri": "https://localhost:8080/",
     "height": 0
    },
    "hidden": true,
    "id": "b3870d0c",
    "outputId": "0068a0a2-0e3a-41b6-89d9-c499f12e5203"
   },
   "outputs": [],
   "source": [
    "# Distribuição da variável alvo antes da transformação\n",
    "\n",
    "sns.distplot(y_train)"
   ]
  },
  {
   "cell_type": "code",
   "execution_count": null,
   "id": "b6305a58",
   "metadata": {
    "ExecuteTime": {
     "end_time": "2022-01-03T22:02:56.701808Z",
     "start_time": "2022-01-03T22:02:56.545758Z"
    },
    "hidden": true,
    "id": "b6305a58"
   },
   "outputs": [],
   "source": [
    "# Transformação log da variável alvo\n",
    "\n",
    "y_train = np.log1p(y_train)"
   ]
  },
  {
   "cell_type": "code",
   "execution_count": null,
   "id": "ad0176bb",
   "metadata": {
    "ExecuteTime": {
     "end_time": "2022-01-03T22:03:02.152944Z",
     "start_time": "2022-01-03T22:02:56.705815Z"
    },
    "colab": {
     "base_uri": "https://localhost:8080/",
     "height": 0
    },
    "hidden": true,
    "id": "ad0176bb",
    "outputId": "ddd63879-54f1-4b2f-ed45-ce0784d75f01",
    "scrolled": true
   },
   "outputs": [],
   "source": [
    "# Distribuição da variável alvo depois da transformação\n",
    "\n",
    "sns.distplot(y_train)"
   ]
  },
  {
   "cell_type": "code",
   "execution_count": null,
   "id": "cff3240b",
   "metadata": {
    "ExecuteTime": {
     "end_time": "2022-01-03T22:03:02.849227Z",
     "start_time": "2022-01-03T22:03:02.157658Z"
    },
    "colab": {
     "base_uri": "https://localhost:8080/",
     "height": 0
    },
    "hidden": true,
    "id": "cff3240b",
    "outputId": "5ad16abc-edd6-4dd8-b8bd-34805c7798ac"
   },
   "outputs": [],
   "source": [
    "# Conjunto teste antes da transformação\n",
    "\n",
    "sns.distplot(y_test)"
   ]
  },
  {
   "cell_type": "code",
   "execution_count": null,
   "id": "8121285e",
   "metadata": {
    "ExecuteTime": {
     "end_time": "2022-01-03T22:03:05.971455Z",
     "start_time": "2022-01-03T22:03:02.853901Z"
    },
    "hidden": true,
    "id": "8121285e"
   },
   "outputs": [],
   "source": [
    "# Transformação log da variável alvo - Conjunto teste\n",
    "\n",
    "y_test = np.log1p(y_test)"
   ]
  },
  {
   "cell_type": "code",
   "execution_count": null,
   "id": "6f5ff92a",
   "metadata": {
    "ExecuteTime": {
     "end_time": "2022-01-03T22:03:07.986448Z",
     "start_time": "2022-01-03T22:03:05.975721Z"
    },
    "colab": {
     "base_uri": "https://localhost:8080/",
     "height": 0
    },
    "hidden": true,
    "id": "6f5ff92a",
    "outputId": "1433ca18-cb63-40a4-9167-44976eb8dfe2"
   },
   "outputs": [],
   "source": [
    "# Distribuição da variável alvo depois da transformação - Conjunto teste\n",
    "\n",
    "sns.distplot(y_test)"
   ]
  },
  {
   "cell_type": "markdown",
   "id": "fc892be9",
   "metadata": {
    "heading_collapsed": true,
    "hidden": true,
    "id": "fc892be9"
   },
   "source": [
    "## <font color=\"#808080\">Transformação de natureza - variáveis de natureza cíclica</font>"
   ]
  },
  {
   "cell_type": "code",
   "execution_count": null,
   "id": "b67c5619",
   "metadata": {
    "ExecuteTime": {
     "end_time": "2022-01-03T22:03:08.893078Z",
     "start_time": "2022-01-03T22:03:07.989074Z"
    },
    "hidden": true,
    "id": "b67c5619"
   },
   "outputs": [],
   "source": [
    "# Atributos de natureza cíclica:\n",
    "\n",
    "# day_of_week\n",
    "\n",
    "# month\n",
    "\n",
    "# day\n",
    "\n",
    "# week_of_year"
   ]
  },
  {
   "cell_type": "code",
   "execution_count": null,
   "id": "e194596e",
   "metadata": {
    "ExecuteTime": {
     "end_time": "2022-01-03T22:03:27.542632Z",
     "start_time": "2022-01-03T22:03:08.899657Z"
    },
    "hidden": true,
    "id": "e194596e"
   },
   "outputs": [],
   "source": [
    "# Transformando os atributos\n",
    "\n",
    "# day\n",
    "\n",
    "X_train['day_sin'] = X_train['day'].apply(lambda x: np.sin(x*(2.*np.pi/30))) \n",
    "X_train['day_cos'] = X_train['day'].apply(lambda x: np.cos(x*(2.*np.pi/30)))\n",
    "\n",
    "# day_of_week\n",
    "\n",
    "X_train['day_of_week_sin'] = X_train['day_of_week'].apply(lambda x: np.sin(x*(2.*np.pi/7)))\n",
    "X_train['day_of_week_cos'] = X_train['day_of_week'].apply(lambda x: np.cos(x*(2.*np.pi/7)))\n",
    "\n",
    "\n",
    "# month\n",
    "\n",
    "X_train['month_sin'] = X_train['month'].apply(lambda x: np.sin(x*(2.*np.pi/12)))\n",
    "X_train['month_cos'] = X_train['month'].apply(lambda x: np.cos(x*(2.*np.pi/12)))\n",
    "\n",
    "\n",
    "# week_of_year\n",
    "\n",
    "X_train['week_of_year_sin'] = X_train['week_of_year'].apply(lambda x: np.sin(x*(2.*np.pi/52)))\n",
    "X_train['week_of_year_cos'] = X_train['week_of_year'].apply(lambda x: np.cos(x*(2.*np.pi/52)))"
   ]
  },
  {
   "cell_type": "code",
   "execution_count": null,
   "id": "8fe34b25",
   "metadata": {
    "ExecuteTime": {
     "end_time": "2022-01-03T22:03:27.809076Z",
     "start_time": "2022-01-03T22:03:27.544577Z"
    },
    "colab": {
     "base_uri": "https://localhost:8080/",
     "height": 0
    },
    "hidden": true,
    "id": "8fe34b25",
    "outputId": "5eec907d-3d64-417d-e0d6-cab803eef776",
    "scrolled": true
   },
   "outputs": [],
   "source": [
    "X_train.head()"
   ]
  },
  {
   "cell_type": "code",
   "execution_count": null,
   "id": "5567b90c",
   "metadata": {
    "ExecuteTime": {
     "end_time": "2022-01-03T22:03:29.481640Z",
     "start_time": "2022-01-03T22:03:27.811381Z"
    },
    "hidden": true,
    "id": "5567b90c"
   },
   "outputs": [],
   "source": [
    "# Transformando os atributos - Conjunto teste\n",
    "\n",
    "# day\n",
    "\n",
    "X_test['day_sin'] = X_test['day'].apply(lambda x: np.sin(x*(2.*np.pi/30))) \n",
    "X_test['day_cos'] = X_test['day'].apply(lambda x: np.cos(x*(2.*np.pi/30)))\n",
    "\n",
    "# day_of_week\n",
    "\n",
    "X_test['day_of_week_sin'] = X_test['day_of_week'].apply(lambda x: np.sin(x*(2.*np.pi/7)))\n",
    "X_test['day_of_week_cos'] = X_test['day_of_week'].apply(lambda x: np.cos(x*(2.*np.pi/7)))\n",
    "\n",
    "\n",
    "# month\n",
    "\n",
    "X_test['month_sin'] = X_test['month'].apply(lambda x: np.sin(x*(2.*np.pi/12)))\n",
    "X_test['month_cos'] = X_test['month'].apply(lambda x: np.cos(x*(2.*np.pi/12)))\n",
    "\n",
    "\n",
    "# week_of_year\n",
    "\n",
    "X_test['week_of_year_sin'] = X_test['week_of_year'].apply(lambda x: np.sin(x*(2.*np.pi/52)))\n",
    "X_test['week_of_year_cos'] = X_test['week_of_year'].apply(lambda x: np.cos(x*(2.*np.pi/52)))"
   ]
  },
  {
   "cell_type": "code",
   "execution_count": null,
   "id": "db68d5f0",
   "metadata": {
    "ExecuteTime": {
     "end_time": "2022-01-03T22:03:29.535035Z",
     "start_time": "2022-01-03T22:03:29.484266Z"
    },
    "colab": {
     "base_uri": "https://localhost:8080/",
     "height": 0
    },
    "hidden": true,
    "id": "db68d5f0",
    "outputId": "16fd52af-bba9-425d-b7a2-eebf45599e79",
    "scrolled": false
   },
   "outputs": [],
   "source": [
    "X_test.head()"
   ]
  },
  {
   "cell_type": "markdown",
   "id": "45f558d8",
   "metadata": {
    "ExecuteTime": {
     "end_time": "2021-12-16T02:45:54.390168Z",
     "start_time": "2021-12-16T02:45:54.375280Z"
    },
    "heading_collapsed": true,
    "id": "45f558d8"
   },
   "source": [
    "# Feature selection"
   ]
  },
  {
   "cell_type": "code",
   "execution_count": null,
   "id": "05a21839",
   "metadata": {
    "ExecuteTime": {
     "end_time": "2022-01-03T22:03:43.000451Z",
     "start_time": "2022-01-03T22:03:29.537110Z"
    },
    "hidden": true,
    "id": "05a21839"
   },
   "outputs": [],
   "source": [
    "# Train\n",
    "\n",
    "X_train_1 = X_train.copy()\n",
    "\n",
    "y_train_1 = y_train.copy()\n",
    "\n",
    "\n",
    "# Test\n",
    "\n",
    "X_test_1 = X_test.copy()\n",
    "\n",
    "y_test_1 = y_test.copy()"
   ]
  },
  {
   "cell_type": "code",
   "execution_count": null,
   "id": "043a612b",
   "metadata": {
    "ExecuteTime": {
     "end_time": "2022-01-03T22:03:47.939542Z",
     "start_time": "2022-01-03T22:03:43.861564Z"
    },
    "hidden": true,
    "id": "043a612b"
   },
   "outputs": [],
   "source": [
    "# Deletar variáveis que foram utilizadas para derivar outras variáveis à partir delas\n",
    "\n",
    "X_train_1 = X_train_1.drop(columns=['week_of_year',\n",
    "                                    'month',\n",
    "                                    'day_of_week',\n",
    "                                    'day',\n",
    "                                    'promo2_since',\n",
    "                                    'competition_since',\n",
    "                                    'year_week'])\n",
    "\n",
    "X_test_1 = X_test_1.drop(columns=['week_of_year',\n",
    "                                    'month',\n",
    "                                    'day_of_week',\n",
    "                                    'day',\n",
    "                                    'promo2_since',\n",
    "                                    'competition_since',\n",
    "                                    'year_week'])\n",
    "\n"
   ]
  },
  {
   "cell_type": "markdown",
   "id": "e2c84825",
   "metadata": {
    "heading_collapsed": true,
    "hidden": true,
    "id": "e2c84825"
   },
   "source": [
    "## <font color=\"#808080\">Algoritmo Boruta</font>"
   ]
  },
  {
   "cell_type": "code",
   "execution_count": null,
   "id": "6a8b89dd",
   "metadata": {
    "ExecuteTime": {
     "start_time": "2021-12-23T05:06:44.651Z"
    },
    "colab": {
     "base_uri": "https://localhost:8080/"
    },
    "hidden": true,
    "id": "6a8b89dd",
    "outputId": "61ea87ba-3b93-43e7-f1c9-ea4d19c18d4f"
   },
   "outputs": [],
   "source": [
    "# Converting X and y train to np array\n",
    "\n",
    "X_train_1_np = X_train_1.drop(columns=['date']).values\n",
    "y_train_1_np = y_train_1.values\n",
    "\n",
    "\n",
    "# Instantiating Boruta\n",
    "\n",
    "boruta = BorutaPy(RandomForestRegressor(n_jobs=-1),\n",
    "                  n_estimators='auto',\n",
    "                  verbose=2,random_state=42).fit(X_train_1_np, y_train_1_np)\n"
   ]
  },
  {
   "cell_type": "code",
   "execution_count": null,
   "id": "vHB9eUrK0xGR",
   "metadata": {
    "colab": {
     "base_uri": "https://localhost:8080/"
    },
    "hidden": true,
    "id": "vHB9eUrK0xGR",
    "outputId": "28fd4532-17e7-4f0b-da8c-9c01471768b4",
    "scrolled": false
   },
   "outputs": [],
   "source": [
    "boruta.support_.tolist()"
   ]
  },
  {
   "cell_type": "markdown",
   "id": "bb8c475e",
   "metadata": {
    "heading_collapsed": true,
    "hidden": true,
    "id": "bb8c475e"
   },
   "source": [
    "## <font color=\"#808080\">Columns selected by Boruta</font>"
   ]
  },
  {
   "cell_type": "code",
   "execution_count": null,
   "id": "kjuhfnjQOUlE",
   "metadata": {
    "ExecuteTime": {
     "end_time": "2021-12-30T18:05:28.596716Z",
     "start_time": "2021-12-30T18:05:28.130226Z"
    },
    "hidden": true,
    "id": "kjuhfnjQOUlE"
   },
   "outputs": [],
   "source": [
    "cols_to_select = [True,\n",
    "                  True,\n",
    "                  False,\n",
    "                  True,\n",
    "                  True,\n",
    "                  True,\n",
    "                  True,\n",
    "                  True,\n",
    "                  False,\n",
    "                  True,\n",
    "                  True,\n",
    "                  False,\n",
    "                  False,\n",
    "                  True,\n",
    "                  True,\n",
    "                  False,\n",
    "                  False,\n",
    "                  False,\n",
    "                  False,\n",
    "                  True,\n",
    "                  True,\n",
    "                  True,\n",
    "                  True,\n",
    "                  False,\n",
    "                  True,\n",
    "                  False,\n",
    "                  True]"
   ]
  },
  {
   "cell_type": "code",
   "execution_count": null,
   "id": "svqj-WJEOftz",
   "metadata": {
    "ExecuteTime": {
     "end_time": "2021-12-30T18:05:28.903513Z",
     "start_time": "2021-12-30T18:05:28.603528Z"
    },
    "colab": {
     "base_uri": "https://localhost:8080/"
    },
    "hidden": true,
    "id": "svqj-WJEOftz",
    "outputId": "d9c101ef-9b45-4649-a272-de0bbfc27114"
   },
   "outputs": [],
   "source": [
    "# X Train with Boruta selected features\n",
    "\n",
    "X_train_1_boruta = X_train_1.drop(columns=['date'])\n",
    "\n",
    "cols_selected_boruta = X_train_1_boruta.loc[:,cols_to_select].columns\n",
    "\n",
    "print('\\nColumns selected by Boruta:\\n{x}\\n'.format(x=list(cols_selected_boruta)))\n",
    "\n",
    "\n",
    "print('\\nColumns not selected by Boruta:\\n{x}'.format(x=list(set(X_train_1.drop(columns=['date']).columns).difference(set(cols_selected_boruta)))))\n"
   ]
  },
  {
   "cell_type": "code",
   "execution_count": null,
   "id": "OTqg3daCUxxx",
   "metadata": {
    "ExecuteTime": {
     "end_time": "2021-12-30T18:05:28.911636Z",
     "start_time": "2021-12-30T18:05:28.906215Z"
    },
    "hidden": true,
    "id": "OTqg3daCUxxx"
   },
   "outputs": [],
   "source": [
    "# Columns selected for further analysis\n",
    "\n",
    "cols_selected = ['store', \n",
    "                 'promo', \n",
    "                 'store_type', \n",
    "                 'assortment', \n",
    "                 'competition_distance', \n",
    "                 'competition_open_since_month', \n",
    "                 'competition_open_since_year', \n",
    "                 'promo2_since_week', \n",
    "                 'promo2_since_year', \n",
    "                 'competition_time_month', \n",
    "                 'promo2_time_week', \n",
    "                 'day_sin', \n",
    "                 'day_cos', \n",
    "                 'day_of_week_sin', \n",
    "                 'day_of_week_cos',\n",
    "                 'month_sin',\n",
    "                 'month_cos',\n",
    "                 'week_of_year_sin',\n",
    "                 'week_of_year_cos']\n",
    "\n"
   ]
  },
  {
   "cell_type": "markdown",
   "id": "82323bb1",
   "metadata": {
    "ExecuteTime": {
     "end_time": "2021-12-16T02:45:54.390168Z",
     "start_time": "2021-12-16T02:45:54.375280Z"
    },
    "heading_collapsed": true,
    "id": "82323bb1"
   },
   "source": [
    "# Machine learning"
   ]
  },
  {
   "cell_type": "code",
   "execution_count": null,
   "id": "4c00b699",
   "metadata": {
    "ExecuteTime": {
     "end_time": "2021-12-30T18:05:29.171865Z",
     "start_time": "2021-12-30T18:05:28.914038Z"
    },
    "hidden": true,
    "id": "4c00b699"
   },
   "outputs": [],
   "source": [
    "# defining datasets with selected features\n",
    "\n",
    "#train\n",
    "X_train_boruta = X_train_1[cols_selected].copy()\n",
    "\n",
    "#test\n",
    "\n",
    "X_test_boruta = X_test_1[cols_selected].copy()\n"
   ]
  },
  {
   "cell_type": "markdown",
   "id": "24d3fdb2",
   "metadata": {
    "heading_collapsed": true,
    "hidden": true,
    "id": "24d3fdb2"
   },
   "source": [
    "## <font color=\"#808080\">Average model</font>"
   ]
  },
  {
   "cell_type": "code",
   "execution_count": null,
   "id": "f360c8c4",
   "metadata": {
    "ExecuteTime": {
     "end_time": "2021-12-29T21:23:21.771162Z",
     "start_time": "2021-12-29T21:23:19.448713Z"
    },
    "colab": {
     "base_uri": "https://localhost:8080/",
     "height": 0
    },
    "hidden": true,
    "id": "f360c8c4",
    "outputId": "9c360d08-c680-4873-c1df-1bb7ee407f16"
   },
   "outputs": [],
   "source": [
    "aux = X_train_boruta.copy()\n",
    "aux2= X_test_boruta.copy()\n",
    "aux['sales'] = y_train_1\n",
    "aux2['sales'] = y_test_1\n",
    "\n",
    "# predictions (médias foram obtidas com os dados do conjunto de treino)\n",
    "aux1 = aux[['store','sales']].groupby('store').mean().reset_index().rename(columns={'sales':'predictions'})\n",
    "\n",
    "aux = pd.merge(aux2, aux1, on='store', how='left') # merging predictions with original dataset\n",
    "\n",
    "\n",
    "# performance (comparação: médias obtidas do conjunto de treino com o y do conjunto de teste)\n",
    "\n",
    "avg_metrics = ml_error( 'Average model', np.expm1(y_test_1), np.expm1(aux['predictions']))\n",
    "\n",
    "avg_metrics"
   ]
  },
  {
   "cell_type": "markdown",
   "id": "4e499065",
   "metadata": {
    "heading_collapsed": true,
    "hidden": true,
    "id": "4e499065"
   },
   "source": [
    "## <font color=\"#808080\">Linear regression model</font>"
   ]
  },
  {
   "cell_type": "code",
   "execution_count": null,
   "id": "79df528b",
   "metadata": {
    "ExecuteTime": {
     "end_time": "2021-12-29T21:23:34.046498Z",
     "start_time": "2021-12-29T21:23:32.057813Z"
    },
    "colab": {
     "base_uri": "https://localhost:8080/",
     "height": 0
    },
    "hidden": true,
    "id": "79df528b",
    "outputId": "90ccaead-96a5-47ed-a835-dd9bd4f42290"
   },
   "outputs": [],
   "source": [
    "# Instantiating the model and making predictions\n",
    "\n",
    "lr = LinearRegression().fit(X=X_train_boruta, y=y_train_1)\n",
    "\n",
    "y_pred_lr = lr.predict(X_test_boruta)\n",
    "\n",
    "# performance\n",
    "\n",
    "lr_metrics = ml_error( 'Linear Regression model', np.expm1(y_test_1), np.expm1(y_pred_lr))\n",
    "\n",
    "lr_metrics"
   ]
  },
  {
   "cell_type": "markdown",
   "id": "8994c3f9",
   "metadata": {
    "heading_collapsed": true,
    "hidden": true,
    "id": "8994c3f9"
   },
   "source": [
    "## <font color=\"#808080\">Lasso model</font>"
   ]
  },
  {
   "cell_type": "code",
   "execution_count": null,
   "id": "f9b1f873",
   "metadata": {
    "ExecuteTime": {
     "end_time": "2021-12-29T21:23:49.841191Z",
     "start_time": "2021-12-29T21:23:49.067805Z"
    },
    "colab": {
     "base_uri": "https://localhost:8080/",
     "height": 0
    },
    "hidden": true,
    "id": "f9b1f873",
    "outputId": "27b4fd51-f0b0-49cd-bfd8-fdcf7f75348e"
   },
   "outputs": [],
   "source": [
    "lasso = Lasso().fit(X=X_train_boruta, y=y_train_1)\n",
    "\n",
    "y_predict_lasso = lasso.predict(X_test_boruta)\n",
    "\n",
    "lasso_metrics = ml_error('Lasso model', np.expm1(y_test_1),np.expm1(y_predict_lasso))\n",
    "\n",
    "lasso_metrics"
   ]
  },
  {
   "cell_type": "markdown",
   "id": "fd284827",
   "metadata": {
    "heading_collapsed": true,
    "hidden": true,
    "id": "fd284827"
   },
   "source": [
    "## <font color=\"#808080\">Random Forest</font>"
   ]
  },
  {
   "cell_type": "code",
   "execution_count": null,
   "id": "536bd891",
   "metadata": {
    "ExecuteTime": {
     "start_time": "2021-12-26T17:03:16.143Z"
    },
    "colab": {
     "base_uri": "https://localhost:8080/",
     "height": 81
    },
    "hidden": true,
    "id": "536bd891",
    "outputId": "3440f919-ee44-4cc4-b4d5-51c07ae4edb9"
   },
   "outputs": [],
   "source": [
    "rf = RandomForestRegressor(n_jobs=-1, random_state=42).fit(X=X_train_boruta, y=y_train_1)\n",
    "\n",
    "y_predict_rf = rf.predict(X_test_boruta)\n",
    "\n",
    "rf_metrics = ml_error('Random Forest model', np.expm1(y_test_1),np.expm1(y_predict_rf))\n",
    "\n",
    "rf_metrics"
   ]
  },
  {
   "cell_type": "markdown",
   "id": "M-1V4mnJ3q1i",
   "metadata": {
    "heading_collapsed": true,
    "hidden": true,
    "id": "M-1V4mnJ3q1i"
   },
   "source": [
    "## <font color=\"#808080\">XG Boost</font>"
   ]
  },
  {
   "cell_type": "code",
   "execution_count": null,
   "id": "ZsKYXqYt3ufe",
   "metadata": {
    "colab": {
     "base_uri": "https://localhost:8080/",
     "height": 81
    },
    "hidden": true,
    "id": "ZsKYXqYt3ufe",
    "outputId": "e0f8bb9f-beb0-4671-a2c5-b64af19b8fdc"
   },
   "outputs": [],
   "source": [
    "xg_boost = xgb.XGBRegressor(objective='reg:squarederror',\n",
    "                            n_estimators=100,\n",
    "                            eta=0.01,\n",
    "                            max_depth=10,\n",
    "                            subsample=0.7,\n",
    "                            colsample_bytree=0.9).fit(X=X_train_boruta, y=y_train_1)\n",
    "\n",
    "y_predict_xg_boost = xg_boost.predict(X_test_boruta)\n",
    "\n",
    "xg_boost_metrics = ml_error('XGboost model', np.expm1(y_test_1),np.expm1(y_predict_xg_boost))\n",
    "\n",
    "xg_boost_metrics                            "
   ]
  },
  {
   "cell_type": "markdown",
   "id": "shUoTPAD60dY",
   "metadata": {
    "heading_collapsed": true,
    "hidden": true,
    "id": "shUoTPAD60dY"
   },
   "source": [
    "## <font color=\"#808080\">Comparing metrics</font>"
   ]
  },
  {
   "cell_type": "code",
   "execution_count": null,
   "id": "QwtLagCa647d",
   "metadata": {
    "colab": {
     "base_uri": "https://localhost:8080/",
     "height": 206
    },
    "hidden": true,
    "id": "QwtLagCa647d",
    "outputId": "af838106-1bf9-49f7-9c5f-b3aac10396fb"
   },
   "outputs": [],
   "source": [
    "model_results = pd.concat([avg_metrics, lr_metrics, lasso_metrics, rf_metrics, xg_boost_metrics]).sort_values('RMSE')\n",
    "model_results.index = range(len(model_results))\n",
    "\n",
    "model_results"
   ]
  },
  {
   "cell_type": "markdown",
   "id": "BXBt1COyqi5U",
   "metadata": {
    "heading_collapsed": true,
    "hidden": true,
    "id": "BXBt1COyqi5U"
   },
   "source": [
    "## <font color=\"#808080\">Cross Validation</font>"
   ]
  },
  {
   "cell_type": "code",
   "execution_count": null,
   "id": "cvmKwYgBqnq1",
   "metadata": {
    "ExecuteTime": {
     "end_time": "2021-12-30T18:05:29.242799Z",
     "start_time": "2021-12-30T18:05:29.174294Z"
    },
    "hidden": true,
    "id": "cvmKwYgBqnq1"
   },
   "outputs": [],
   "source": [
    "# Columns to select for date separation in cross validation\n",
    "\n",
    "cols_selected = ['store', \n",
    "                 'promo', \n",
    "                 'store_type', \n",
    "                 'assortment', \n",
    "                 'competition_distance', \n",
    "                 'competition_open_since_month', \n",
    "                 'competition_open_since_year', \n",
    "                 'promo2_since_week', \n",
    "                 'promo2_since_year', \n",
    "                 'competition_time_month', \n",
    "                 'promo2_time_week', \n",
    "                 'day_sin', \n",
    "                 'day_cos', \n",
    "                 'day_of_week_sin', \n",
    "                 'day_of_week_cos',\n",
    "                 'month_sin',\n",
    "                 'month_cos',\n",
    "                 'week_of_year_sin',\n",
    "                 'week_of_year_cos']\n",
    "\n",
    "# add 'date' and 'sales'\n",
    "columns_to_add = ['date']\n",
    "\n",
    "\n",
    "# final coluns\n",
    "cols_total = cols_selected.copy()\n",
    "cols_total.extend(columns_to_add)\n",
    "\n",
    "\n",
    "# X train for Cross Validation\n",
    "X_train_CrossVal = X_train_1[cols_total]\n"
   ]
  },
  {
   "cell_type": "code",
   "execution_count": null,
   "id": "Qli7ETXT4PZq",
   "metadata": {
    "ExecuteTime": {
     "end_time": "2021-12-29T06:29:39.975223Z",
     "start_time": "2021-12-29T06:29:32.896518Z"
    },
    "colab": {
     "base_uri": "https://localhost:8080/",
     "height": 81
    },
    "hidden": true,
    "id": "Qli7ETXT4PZq",
    "outputId": "dabceacd-e9a1-44c5-aefa-03d1ddaf7e98"
   },
   "outputs": [],
   "source": [
    "# Linear Regression - Cross Validation Metrics\n",
    "\n",
    "lr_CV_metrics = cross_validation_Time_Series(5, X_train_CrossVal, y_train, \n",
    "                                             LinearRegression(), 'Linear Regression')\n",
    "\n",
    "lr_CV_metrics"
   ]
  },
  {
   "cell_type": "code",
   "execution_count": null,
   "id": "ETWIJMCU4fv6",
   "metadata": {
    "ExecuteTime": {
     "end_time": "2021-12-29T06:29:53.055188Z",
     "start_time": "2021-12-29T06:29:50.092842Z"
    },
    "colab": {
     "base_uri": "https://localhost:8080/",
     "height": 81
    },
    "hidden": true,
    "id": "ETWIJMCU4fv6",
    "outputId": "a982b906-961d-435b-f59e-d3f6d7dc8afa"
   },
   "outputs": [],
   "source": [
    "# Lasso - Cross Validation Metrics\n",
    "\n",
    "lasso_CV_metrics = cross_validation_Time_Series(5, X_train_CrossVal, y_train,\n",
    "                                                Lasso(), 'Lasso')\n",
    "\n",
    "lasso_CV_metrics"
   ]
  },
  {
   "cell_type": "code",
   "execution_count": null,
   "id": "ywUP26IlkgtD",
   "metadata": {
    "colab": {
     "base_uri": "https://localhost:8080/",
     "height": 254
    },
    "hidden": true,
    "id": "ywUP26IlkgtD",
    "outputId": "b2d5315a-cdb4-4c01-aabe-c2ee7d2c475b"
   },
   "outputs": [],
   "source": [
    "# Random Forest - Cross Validation Metrics\n",
    "\n",
    "rf_CV_metrics = cross_validation_Time_Series(5, X_train_CrossVal, y_train, \n",
    "                                             RandomForestRegressor(n_jobs=-1, random_state=42), \n",
    "                                             'Random Forest',\n",
    "                                             verbose=True)\n",
    "\n",
    "rf_CV_metrics"
   ]
  },
  {
   "cell_type": "code",
   "execution_count": null,
   "id": "2T6PM04skisI",
   "metadata": {
    "colab": {
     "base_uri": "https://localhost:8080/",
     "height": 254
    },
    "hidden": true,
    "id": "2T6PM04skisI",
    "outputId": "bb133670-ca32-4225-dda6-fd17c0f647ab"
   },
   "outputs": [],
   "source": [
    "# XGBoost - Cross Validation Metrics\n",
    "\n",
    "xgboost_CV_metrics = cross_validation_Time_Series(5, X_train_CrossVal, y_train, \n",
    "                                             xgb.XGBRegressor(objective='reg:squarederror', n_estimators=100,  eta=0.01, max_depth=10, subsample=0.7, colsample_bytree=0.9), \n",
    "                                             'XGBoost',\n",
    "                                             verbose=True)\n",
    "\n",
    "xgboost_CV_metrics"
   ]
  },
  {
   "cell_type": "code",
   "execution_count": null,
   "id": "6gN6h6PIki06",
   "metadata": {
    "colab": {
     "base_uri": "https://localhost:8080/",
     "height": 175
    },
    "hidden": true,
    "id": "6gN6h6PIki06",
    "outputId": "45767c3b-575f-4a82-8dd6-1fbc3f86b443"
   },
   "outputs": [],
   "source": [
    "# Comparing results\n",
    "\n",
    "cv_results = pd.concat([lr_CV_metrics,lasso_CV_metrics, rf_CV_metrics, xgboost_CV_metrics]).sort_values('RMSE CV')\n",
    "\n",
    "cv_results.index = range(len(cv_results))\n",
    "\n",
    "cv_results"
   ]
  },
  {
   "cell_type": "markdown",
   "id": "7Eyi63s966rY",
   "metadata": {
    "ExecuteTime": {
     "end_time": "2021-12-16T02:45:54.390168Z",
     "start_time": "2021-12-16T02:45:54.375280Z"
    },
    "heading_collapsed": true,
    "id": "7Eyi63s966rY"
   },
   "source": [
    "# Hiperparameter fine tuning"
   ]
  },
  {
   "cell_type": "markdown",
   "id": "LttexUtnJX0e",
   "metadata": {
    "heading_collapsed": true,
    "hidden": true,
    "id": "LttexUtnJX0e"
   },
   "source": [
    "## <font color=\"#808080\">Random Search</font>"
   ]
  },
  {
   "cell_type": "code",
   "execution_count": null,
   "id": "OhcaedBcki_4",
   "metadata": {
    "hidden": true,
    "id": "OhcaedBcki_4"
   },
   "outputs": [],
   "source": [
    "# Random search implementation for XGBoost\n",
    "\n",
    "parameters = {'n_estimators':[1500, 1700, 2500, 3000, 3500],\n",
    "              'eta':[0.01, 0.03],\n",
    "              'max_depth':[3, 5, 9],\n",
    "              'subsample':[0.1, 0.5, 0.7],\n",
    "              'colsample_bytree':[0.3, 0.7, 0.9],\n",
    "              'min_child_weight':[3, 8, 15]} # choosing the interval values to evaluate \n",
    "\n",
    "max_evaluation = 10 # choosing the number o experiments to perform\n",
    "\n",
    "k_fold = 5 # chosing k-fold for cross-validation"
   ]
  },
  {
   "cell_type": "code",
   "execution_count": null,
   "id": "U0OfCcBM-na9",
   "metadata": {
    "colab": {
     "base_uri": "https://localhost:8080/"
    },
    "hidden": true,
    "id": "U0OfCcBM-na9",
    "outputId": "dded0e4f-71bb-4ec4-e246-ca2e0b5a73d5"
   },
   "outputs": [],
   "source": [
    "# Implementing Random Search\n",
    "\n",
    "df_metrics_hp = pd.DataFrame()\n",
    "\n",
    "for i in range(max_evaluation):\n",
    "\n",
    "  hp = {k: random.sample(v,1)[0] for k, v in parameters.items()} # choosing fixed key and random values\n",
    "\n",
    "  print(hp)\n",
    "\n",
    "  xg_boost = xgb.XGBRegressor(objective='reg:squarederror',\n",
    "                              n_estimators=hp['n_estimators'],\n",
    "                              eta=hp['eta'],\n",
    "                              max_depth=hp['max_depth'],\n",
    "                              subsample=hp['subsample'],\n",
    "                              colsample_bytree=hp['colsample_bytree'],\n",
    "                              min_child_weight=hp['min_child_weight'],\n",
    "                              n_jobs=100)\n",
    "\n",
    "  xgboost_hp_cv_metrics = cross_validation_Time_Series(k_fold, \n",
    "                                                       X_train_CrossVal, \n",
    "                                                       y_train, \n",
    "                                                       xg_boost, \n",
    "                                                       'XGBoost', \n",
    "                                                       verbose=True)\n",
    "  \n",
    "  df_metrics_hp = pd.concat([df_metrics_hp, xgboost_hp_cv_metrics ])\n",
    "\n",
    "  print(df_metrics_hp)\n",
    "\n",
    "df_metrics_hp  "
   ]
  },
  {
   "cell_type": "markdown",
   "id": "p4VN4Bu_Jj2i",
   "metadata": {
    "heading_collapsed": true,
    "hidden": true,
    "id": "p4VN4Bu_Jj2i"
   },
   "source": [
    "## <font color=\"#808080\">Final model</font>"
   ]
  },
  {
   "cell_type": "code",
   "execution_count": null,
   "id": "yHBsKDaFPoPe",
   "metadata": {
    "ExecuteTime": {
     "end_time": "2021-12-30T18:05:34.822223Z",
     "start_time": "2021-12-30T18:05:29.246556Z"
    },
    "hidden": true,
    "id": "yHBsKDaFPoPe"
   },
   "outputs": [],
   "source": [
    "# Setting parameters\n",
    "\n",
    "best_parameters = {'n_estimators': 1700, \n",
    "                   'eta': 0.03, \n",
    "                   'max_depth': 9, \n",
    "                   'subsample': 0.7, \n",
    "                   'colsample_bytree': 0.7, \n",
    "                   'min_child_weight': 3}"
   ]
  },
  {
   "cell_type": "code",
   "execution_count": null,
   "id": "RJM3tIvW7MVc",
   "metadata": {
    "ExecuteTime": {
     "end_time": "2021-12-30T18:42:21.705005Z",
     "start_time": "2021-12-30T18:05:34.828231Z"
    },
    "hidden": true,
    "id": "RJM3tIvW7MVc"
   },
   "outputs": [],
   "source": [
    "# Training the model\n",
    "\n",
    "xg_boost = xgb.XGBRegressor(objective='reg:squarederror',\n",
    "                            n_estimators=best_parameters['n_estimators'],\n",
    "                            eta=best_parameters['eta'],\n",
    "                            max_depth=best_parameters['max_depth'],\n",
    "                            subsample=best_parameters['subsample'],\n",
    "                            colsample_bytree=best_parameters['colsample_bytree'],\n",
    "                            min_child_weight=best_parameters['min_child_weight']).fit(X=X_train_boruta,\n",
    "                                                                                      y=y_train_1)\n",
    "\n",
    "y_predict_xg_boost = xg_boost.predict(X_test_boruta) #predictions on test dataset\n",
    "\n",
    "xg_boost_metrics = ml_error('XGboost model', np.expm1(y_test_1),np.expm1(y_predict_xg_boost))\n",
    "\n",
    "xg_boost_metrics  "
   ]
  },
  {
   "cell_type": "code",
   "execution_count": null,
   "id": "be2dd38f",
   "metadata": {
    "ExecuteTime": {
     "end_time": "2021-12-30T18:42:31.498854Z",
     "start_time": "2021-12-30T18:42:28.093610Z"
    },
    "hidden": true
   },
   "outputs": [],
   "source": [
    "# Calculating MPE (Mean Percentage Error)\n",
    "\n",
    "xg_boost_metrics['MPE'] = mean_percentage_error(np.expm1(y_test_1), np.expm1(y_predict_xg_boost))\n",
    "\n",
    "xg_boost_metrics"
   ]
  },
  {
   "cell_type": "code",
   "execution_count": null,
   "id": "aU4iv9tc7MKo",
   "metadata": {
    "ExecuteTime": {
     "end_time": "2021-12-29T06:18:25.970982Z",
     "start_time": "2021-12-29T06:18:18.783671Z"
    },
    "hidden": true,
    "id": "aU4iv9tc7MKo"
   },
   "outputs": [],
   "source": [
    "# Saving trained model\n",
    "\n",
    "pickle.dump(xg_boost, open('/home/gustavo/repos/Rossmann/model_XGBoost_tuned.pkl', 'wb'))"
   ]
  },
  {
   "cell_type": "markdown",
   "id": "857ea69a",
   "metadata": {
    "ExecuteTime": {
     "end_time": "2021-12-16T02:45:54.390168Z",
     "start_time": "2021-12-16T02:45:54.375280Z"
    },
    "heading_collapsed": true,
    "id": "7Eyi63s966rY"
   },
   "source": [
    "# Error interpretation"
   ]
  },
  {
   "cell_type": "markdown",
   "id": "ed11ed3a",
   "metadata": {
    "heading_collapsed": true,
    "hidden": true,
    "id": "p4VN4Bu_Jj2i"
   },
   "source": [
    "## <font color=\"#808080\">Main</font>"
   ]
  },
  {
   "cell_type": "code",
   "execution_count": null,
   "id": "8a5990a4",
   "metadata": {
    "ExecuteTime": {
     "end_time": "2021-12-30T20:38:28.991618Z",
     "start_time": "2021-12-30T20:38:28.441328Z"
    },
    "hidden": true
   },
   "outputs": [],
   "source": [
    "df_4 = X_test_1[cols_total].copy()\n",
    "\n",
    "df_4.head()"
   ]
  },
  {
   "cell_type": "code",
   "execution_count": null,
   "id": "158b8f7d",
   "metadata": {
    "ExecuteTime": {
     "end_time": "2021-12-30T20:38:29.193264Z",
     "start_time": "2021-12-30T20:38:29.155380Z"
    },
    "hidden": true
   },
   "outputs": [],
   "source": [
    "# Adding 'sales' column to df_4\n",
    "\n",
    "df_4 = pd.concat([df_4,y_test], axis=1)\n",
    "\n",
    "df_4.head(3)"
   ]
  },
  {
   "cell_type": "code",
   "execution_count": null,
   "id": "1f8250bd",
   "metadata": {
    "ExecuteTime": {
     "end_time": "2021-12-30T20:38:30.757858Z",
     "start_time": "2021-12-30T20:38:30.723410Z"
    },
    "hidden": true
   },
   "outputs": [],
   "source": [
    "# Adding 'predictions' column\n",
    "\n",
    "df_4['predictions'] = y_predict_xg_boost\n",
    "\n",
    "df_4.head(3)"
   ]
  },
  {
   "cell_type": "code",
   "execution_count": null,
   "id": "3280e629",
   "metadata": {
    "ExecuteTime": {
     "end_time": "2021-12-30T20:38:31.806056Z",
     "start_time": "2021-12-30T20:38:31.739909Z"
    },
    "hidden": true
   },
   "outputs": [],
   "source": [
    "# Rescaling 'sales' and 'predictions' columns to the original values\n",
    "\n",
    "df_4[['sales','predictions']] = df_4[['sales','predictions']].apply(lambda x: np.expm1(x))\n",
    "\n",
    "df_5 = df_4.copy()\n",
    "\n",
    "df_4.head(3)"
   ]
  },
  {
   "cell_type": "markdown",
   "id": "cd9c07c4",
   "metadata": {
    "heading_collapsed": true,
    "hidden": true,
    "id": "p4VN4Bu_Jj2i"
   },
   "source": [
    "## <font color=\"#808080\">Business performance</font>"
   ]
  },
  {
   "cell_type": "code",
   "execution_count": null,
   "id": "2e2092a2",
   "metadata": {
    "ExecuteTime": {
     "end_time": "2021-12-30T20:38:34.307602Z",
     "start_time": "2021-12-30T20:38:34.072595Z"
    },
    "hidden": true
   },
   "outputs": [],
   "source": [
    "# Total sum of 'sales' and 'predictions' by store\n",
    "\n",
    "df_4 = df_4[['store','sales','predictions']].groupby('store').sum().reset_index()\n",
    "\n",
    "print(df_4.shape)\n",
    "\n",
    "df_4.head(5)"
   ]
  },
  {
   "cell_type": "code",
   "execution_count": null,
   "id": "5e25f2b6",
   "metadata": {
    "ExecuteTime": {
     "end_time": "2021-12-30T20:38:36.818752Z",
     "start_time": "2021-12-30T20:38:35.479930Z"
    },
    "hidden": true,
    "scrolled": true
   },
   "outputs": [],
   "source": [
    "# MAE \n",
    "\n",
    "df_4_MAE = df_4[['store','sales','predictions']].groupby('store').apply(lambda x: mean_absolute_error(x['sales'], x['predictions']))\n",
    "\n",
    "# MAPE \n",
    "\n",
    "df_4_MAPE = df_4[['store','sales','predictions']].groupby('store').apply(lambda x: mean_absolute_percentage_error(x['sales'], x['predictions']))\n",
    "\n",
    "\n",
    "# Concat df_4_MAE and df_4_MAPE\n",
    "\n",
    "df_aux = pd.concat([df_4_MAE,df_4_MAPE], axis=1).reset_index().rename(columns={0:'MAE', 1:'MAPE'})\n",
    "\n",
    "\n",
    "# Merging df_4 and df_aux\n",
    "\n",
    "df_4 = pd.merge(df_4, df_aux, how='inner', on='store')\n",
    "\n",
    "\n",
    "\n",
    "print(df_4.shape)\n",
    "\n",
    "df_4.head(4)"
   ]
  },
  {
   "cell_type": "code",
   "execution_count": null,
   "id": "e0115937",
   "metadata": {
    "ExecuteTime": {
     "end_time": "2021-12-30T20:38:37.031750Z",
     "start_time": "2021-12-30T20:38:36.996727Z"
    },
    "hidden": true
   },
   "outputs": [],
   "source": [
    "# Creating 'worst_scenario' and 'best_scenario' columns\n",
    "\n",
    "# 'worst_scenario' (predictions - MAE)\n",
    "\n",
    "df_4['worst_scenario'] = df_4['predictions'] - df_4['MAE']\n",
    "\n",
    "# 'best_scenario' (predictions + MAE)\n",
    "\n",
    "df_4['best_scenario'] = df_4['predictions'] + df_4['MAE']\n",
    "\n",
    "df_4[['store', 'predictions', 'worst_scenario', 'best_scenario', 'MAE', 'MAPE']]"
   ]
  },
  {
   "cell_type": "code",
   "execution_count": null,
   "id": "07515674",
   "metadata": {
    "ExecuteTime": {
     "end_time": "2021-12-30T20:38:37.928508Z",
     "start_time": "2021-12-30T20:38:37.891414Z"
    },
    "code_folding": [],
    "hidden": true,
    "scrolled": false
   },
   "outputs": [],
   "source": [
    "# Worst performing predictions by store\n",
    "\n",
    "df_4[['store', 'predictions', 'worst_scenario', 'best_scenario', 'MAE', 'MAPE']].sort_values('MAPE', ascending=False)"
   ]
  },
  {
   "cell_type": "code",
   "execution_count": null,
   "id": "d4e16056",
   "metadata": {
    "ExecuteTime": {
     "end_time": "2021-12-31T01:47:53.023943Z",
     "start_time": "2021-12-31T01:47:52.653233Z"
    },
    "hidden": true,
    "scrolled": false
   },
   "outputs": [],
   "source": [
    "# MAPE by store number\n",
    "\n",
    "plt.figure(figsize=(15,6))\n",
    "sns.scatterplot(x='store', y='MAPE', data=df_4);"
   ]
  },
  {
   "cell_type": "code",
   "execution_count": null,
   "id": "ed3131fc",
   "metadata": {
    "ExecuteTime": {
     "end_time": "2021-12-31T01:31:33.760680Z",
     "start_time": "2021-12-31T01:31:33.680488Z"
    },
    "hidden": true
   },
   "outputs": [],
   "source": [
    "# Agrupando as vendas por data e loja (para incluir 'best' and 'worst scenario' ao longo do tempo)\n",
    "\n",
    "\n",
    "df_5_aux = df_5[['date','store', 'sales','predictions']].groupby(['date','store']).sum()\n",
    "\n",
    "df_5_aux"
   ]
  },
  {
   "cell_type": "code",
   "execution_count": null,
   "id": "ab9251c0",
   "metadata": {
    "ExecuteTime": {
     "end_time": "2021-12-31T01:32:30.097853Z",
     "start_time": "2021-12-31T01:32:02.322417Z"
    },
    "hidden": true,
    "scrolled": false
   },
   "outputs": [],
   "source": [
    "df_5_aux_1 = pd.DataFrame(df_5[['date','store', 'sales','predictions']].groupby(['date','store']).apply(lambda x: mean_absolute_error(x['sales'],x['predictions'])))\n",
    "\n",
    "\n",
    "df_5_aux_1\n"
   ]
  },
  {
   "cell_type": "code",
   "execution_count": null,
   "id": "cb916dec",
   "metadata": {
    "ExecuteTime": {
     "end_time": "2021-12-31T01:33:28.654529Z",
     "start_time": "2021-12-31T01:33:28.613052Z"
    },
    "hidden": true,
    "scrolled": false
   },
   "outputs": [],
   "source": [
    "df_5_aux_2 = pd.concat([df_5_aux, df_5_aux_1], axis=1).rename(columns={0:'MAE'})\n",
    "\n",
    "df_5_aux_2"
   ]
  },
  {
   "cell_type": "code",
   "execution_count": null,
   "id": "bcecd33d",
   "metadata": {
    "ExecuteTime": {
     "end_time": "2021-12-31T01:35:00.645995Z",
     "start_time": "2021-12-31T01:34:31.830318Z"
    },
    "hidden": true
   },
   "outputs": [],
   "source": [
    "df_5_aux_a = pd.DataFrame(df_5[['date','store', 'sales','predictions']].groupby(['date','store']).apply(lambda x: mean_absolute_percentage_error(x['sales'],x['predictions'])))\n",
    "\n",
    "\n",
    "df_5_aux_a"
   ]
  },
  {
   "cell_type": "code",
   "execution_count": null,
   "id": "e0f4570f",
   "metadata": {
    "ExecuteTime": {
     "end_time": "2021-12-31T01:35:37.450209Z",
     "start_time": "2021-12-31T01:35:37.390645Z"
    },
    "hidden": true
   },
   "outputs": [],
   "source": [
    "df_5_aux_2 = pd.concat([df_5_aux_2, df_5_aux_a], axis=1).rename(columns={0:'MAPE'}).reset_index()\n",
    "\n",
    "df_5_aux_2"
   ]
  },
  {
   "cell_type": "code",
   "execution_count": null,
   "id": "79f24139",
   "metadata": {
    "ExecuteTime": {
     "end_time": "2021-12-31T01:36:29.010291Z",
     "start_time": "2021-12-31T01:36:28.967261Z"
    },
    "hidden": true,
    "scrolled": false
   },
   "outputs": [],
   "source": [
    "# Creating best_scenario and worst_scenario columns:\n",
    "\n",
    "df_5_aux_2['best_scenario'] = df_5_aux_2['predictions'] + df_5_aux_2['MAE']\n",
    "\n",
    "df_5_aux_2['worst_scenario'] = df_5_aux_2['predictions'] - df_5_aux_2['MAE']\n",
    "\n",
    "df_5_aux_2"
   ]
  },
  {
   "cell_type": "code",
   "execution_count": null,
   "id": "ca237733",
   "metadata": {
    "ExecuteTime": {
     "end_time": "2021-12-31T01:44:54.450799Z",
     "start_time": "2021-12-31T01:44:54.403601Z"
    },
    "hidden": true
   },
   "outputs": [],
   "source": [
    "df_5_aux_2[['date', 'store','predictions', 'best_scenario', 'worst_scenario', 'MAE', 'MAPE']]"
   ]
  },
  {
   "cell_type": "markdown",
   "id": "9c01d09c",
   "metadata": {
    "heading_collapsed": true,
    "hidden": true,
    "id": "p4VN4Bu_Jj2i"
   },
   "source": [
    "## <font color=\"#808080\">Total performance</font>"
   ]
  },
  {
   "cell_type": "code",
   "execution_count": null,
   "id": "8a791853",
   "metadata": {
    "ExecuteTime": {
     "end_time": "2021-12-30T20:38:46.822742Z",
     "start_time": "2021-12-30T20:38:46.803408Z"
    },
    "hidden": true
   },
   "outputs": [],
   "source": [
    "# Performance for all stores\n",
    "\n",
    "pd.DataFrame(pd.DataFrame(df_4[['predictions', 'worst_scenario', 'best_scenario', 'MAE']].sum()).apply(lambda x: '$ %.2f' % x, axis=1)).rename(columns={0:'Total'})\n"
   ]
  },
  {
   "cell_type": "markdown",
   "id": "150c66c7",
   "metadata": {
    "heading_collapsed": true,
    "hidden": true,
    "hide_input": true,
    "id": "p4VN4Bu_Jj2i"
   },
   "source": [
    "## <font color=\"#808080\">Machine learning performance</font>"
   ]
  },
  {
   "cell_type": "code",
   "execution_count": null,
   "id": "d6b70f29",
   "metadata": {
    "ExecuteTime": {
     "end_time": "2021-12-31T03:34:10.755977Z",
     "start_time": "2021-12-31T03:33:44.649950Z"
    },
    "hidden": true,
    "hide_input": true,
    "scrolled": false
   },
   "outputs": [],
   "source": [
    "plt.figure(figsize=(15,6))\n",
    "\n",
    "plt.subplot(2,2,1)\n",
    "sns.lineplot(x='date', y='sales', data=df_5, label='Sales')\n",
    "sns.lineplot(x='date', y='predictions', data=df_5, color='orange', label='Predictions')\n",
    "plt.xticks(rotation=45)\n",
    "\n",
    "plt.subplot(2,2,3)\n",
    "sns.lineplot(x='date', y='predictions', data=df_5_aux_2, color='orange', label='Predictions')\n",
    "sns.lineplot(x='date', y='best_scenario', data=df_5_aux_2, color='black', linestyle='--', label='MAE Upper and lower limits')\n",
    "sns.lineplot(x='date', y='worst_scenario', data=df_5_aux_2, color='black', linestyle='--')\n",
    "plt.xticks(rotation=45)\n",
    "\n",
    "plt.subplot(2,2,2)\n",
    "sns.distplot(y_test_1 - y_predict_xg_boost, color='orange')\n",
    "plt.xlabel('Residuals')\n",
    "\n",
    "plt.subplot(2,4,7)\n",
    "sns.regplot(x=df_5['predictions'], y=df_5['sales'], \n",
    "            ci=95, \n",
    "            scatter_kws={\"color\": \"grey\"}, line_kws={\"color\": \"black\"})\n",
    "\n",
    "\n",
    "plt.subplot(2,4,8)\n",
    "sns.regplot(x=df_5['predictions'], y=(df_5['sales'] - df_5['predictions']), \n",
    "            ci=95, \n",
    "            scatter_kws={\"color\": \"orange\"}, line_kws={\"color\": \"black\"})\n",
    "\n",
    "plt.ylabel('Residuals')\n",
    "\n",
    "plt.tight_layout();"
   ]
  },
  {
   "cell_type": "markdown",
   "id": "149d9eeb",
   "metadata": {
    "ExecuteTime": {
     "end_time": "2021-12-16T02:45:54.390168Z",
     "start_time": "2021-12-16T02:45:54.375280Z"
    },
    "id": "7Eyi63s966rY"
   },
   "source": [
    "# Model deployment"
   ]
  },
  {
   "cell_type": "markdown",
   "id": "84417309",
   "metadata": {
    "id": "e2c84825"
   },
   "source": [
    "## <font color=\"#808080\">Class Rossmann - Data_prep.py</font> "
   ]
  },
  {
   "cell_type": "markdown",
   "id": "789ddd67",
   "metadata": {},
   "source": [
    "O código abaixo deverá ser posteriormente colocado em um script .py\n",
    "\n",
    "A classe criada abaixo será responsável por fazer a limpeza dos dados.\n",
    "\n",
    "Apagar do código abaixo tudo relacionado a:'sales', 'costumer', pois esses dados não estarão disponíveis em produção. Lembrar também de colocar no início do código o import de todas as bibliotecas necessárias."
   ]
  },
  {
   "cell_type": "code",
   "execution_count": 26,
   "id": "d3b2d613",
   "metadata": {
    "ExecuteTime": {
     "end_time": "2022-01-06T19:49:21.756439Z",
     "start_time": "2022-01-06T19:49:20.189938Z"
    },
    "id": "7e00bfac"
   },
   "outputs": [],
   "source": [
    "import pickle\n",
    "import pandas as pd\n",
    "import numpy as np\n",
    "import inflection\n",
    "import datetime\n",
    "import json\n",
    "\n",
    "class Data_Prep(object):\n",
    "    \n",
    "    def __init__(self):\n",
    "        self.competition_distance_scaler   = pickle.load(open('/home/gustavo/repos/Rossmann/competion_distance_scaler.pkl', 'rb')) # Opening scaler\n",
    "        self.competition_time_month_scaler = pickle.load(open('/home/gustavo/repos/Rossmann/competition_time_month_scaler.pkl', 'rb')) # Opening scaler\n",
    "        self.year_scaler                   = pickle.load(open('/home/gustavo/repos/Rossmann/year_scaler.pkl', 'rb')) # Opening scaler\n",
    "        self.promo2_time_week_scaler       = pickle.load(open('/home/gustavo/repos/Rossmann/promo2_time_week_scaler.pkl', 'rb')) # Opening scalers\n",
    "        self.store_type_encoder            = pickle.load(open('/home/gustavo/repos/Rossmann/store_type_encoder.pkl', 'rb')) # Opening encoders\n",
    "        \n",
    "        self.df_store                      = pd.read_csv('/home/gustavo/repos/Rossmann/store.csv')\n",
    "    \n",
    "    \n",
    "    \n",
    "    def data_cleaning(self, df):\n",
    "        \n",
    "        # Merging df_test and df_store:\n",
    "        df = pd.merge(df, self.df_store, on='Store', how='left')\n",
    "        \n",
    "        # Dropping 'Id' column from df_test dataset:\n",
    "        df = df.drop(columns='Id')\n",
    "        \n",
    "\n",
    "\n",
    "        # Changing column 'Date' to datetime\n",
    "\n",
    "        df['Date'] = pd.to_datetime(df['Date'])\n",
    "\n",
    "        # Adjusting column names\n",
    "\n",
    "        df.columns = list(map(lambda x: inflection.underscore(x), df.columns)) #changing to underscore + lower(snakecase)\n",
    "\n",
    "\n",
    "\n",
    "        # Filling NA's on 'competition_distance' column ===========================================\n",
    "\n",
    "\n",
    "        ## LÓGICA USADA: se a distância está NA assumiu-se que a distância da loja concorrente é muita alta.\n",
    "        ### então foi feito o preenchimento por um valor acima da distância mais alta do dataset\n",
    "\n",
    "        df['competition_distance'] = df['competition_distance'].apply(lambda x: 200000.0 if pd.isna(x) else x)\n",
    "\n",
    "\n",
    "\n",
    "        # Filling NA's on 'competition_open_since_month' column ==================================\n",
    "\n",
    "\n",
    "        ## LÓGICA USADA: completou-se o valor NA usando o mês da coluna 'date' (data da venda) da respectiva linha\n",
    "\n",
    "        df['competition_open_since_month'] = df[['date','competition_open_since_month']].apply(lambda x: x['date'].month if pd.isna(x['competition_open_since_month']) else x['competition_open_since_month'], axis=1)\n",
    "\n",
    "\n",
    "\n",
    "        # Filling NA's on 'competition_open_since_year' column =====================================\n",
    "\n",
    "\n",
    "        ## LÓGICA USADA: completou-se o valor NA usando o ano da coluna 'date' (data da venda) da respectiva linha\n",
    "\n",
    "        df['competition_open_since_year'] = df[['date','competition_open_since_year']].apply(lambda x: x['date'].year if pd.isna(x['competition_open_since_year']) else x['competition_open_since_year'], axis=1)\n",
    "\n",
    "\n",
    "\n",
    "        # Filling NA's on 'promo2_since_week' column =================================================\n",
    "\n",
    "        ## LÓGICA USADA: todos os valores onde a coluna promo2 estavam 0 (não houve promoção na loja) a coluna\n",
    "        ### 'promo2_since_week' estava NA, então assumiu-se que não houve promoção nessa loja e preencheu-se com 0\n",
    "\n",
    "        df['promo2_since_week'] = df['promo2_since_week'].fillna(0)\n",
    "\n",
    "\n",
    "\n",
    "        # Filling NA's on 'promo2_since_year' column ===================================================\n",
    "\n",
    "        ## LÓGICA USADA: todos os valores onde a coluna promo2 estavam 0 (não houve promoção na loja) a coluna\n",
    "        ### 'promo2_since_year' estava NA, então assumiu-se que não houve promoção nessa loja e preencheu-se com 0\n",
    "\n",
    "        df['promo2_since_year'] = df['promo2_since_year'].fillna(0)\n",
    "\n",
    "\n",
    "\n",
    "\n",
    "        # Filling NA's on 'promo_interval' column ========================================================\n",
    "\n",
    "        ## LÓGICA USADA: todos os valores onde a coluna promo2 estavam 0 (não houve promoção na loja) a coluna\n",
    "        ### 'promo_interval' estava NA, então assumiu-se que não houve promoção nessa loja e preencheu-se com 0\n",
    "\n",
    "        df['promo_interval'] = df['promo_interval'].fillna(0)\n",
    "\n",
    "\n",
    "\n",
    "        # Abaixo será criado um dicionário que auxiliará na conversão dos meses de números em letras:\n",
    "\n",
    "        # criando mapeamento dos meses\n",
    "        month_map = {1:'Jan', 2:'Feb', 3:'Mar', 4:'Apr', 5:'May', 6:'Jun', 7:'Jul', 8:'Aug', 9:'Sept', 10:'Oct', 11:'Nov', 12:'Dec'}\n",
    "\n",
    "\n",
    "        # criado a coluna 'month_map'\n",
    "        ## LÒGICA: extraíu-se o mês (em número) da coluna 'date' e converteu-se em mês (em palavra) colocando em uma nova\n",
    "        ### coluna\n",
    "\n",
    "        df['month_map'] = df['date'].dt.month.map(month_map)\n",
    "\n",
    "\n",
    "        # criando a coluna 'is_promo'\n",
    "        # LÓGICA: Se o dia da venda (coluna 'data') estiver em um mês onde foi feita a promoção (coluna 'promo_interval')\n",
    "        ## então será atribuído 1 na nova coluna 'is_promo', se não tiver promoção ou a venda tiver sido feita em um mês\n",
    "        ## fora da promoção então o valor atribuído será 0\n",
    "\n",
    "        df['is_promo'] = df[['month_map', 'promo_interval']].apply(lambda x: 0 if x['promo_interval']==0 else 1 if x['month_map'] in x['promo_interval'].split(',') else 0, axis=1)\n",
    "\n",
    "\n",
    "        # Changing data types after previous columns creation\n",
    "\n",
    "        df[['competition_open_since_month',\n",
    "            'competition_open_since_year',\n",
    "            'promo2_since_week',\n",
    "            'promo2_since_year']] = df[['competition_open_since_month',\n",
    "                                        'competition_open_since_year',\n",
    "                                        'promo2_since_week',\n",
    "                                        'promo2_since_year']].astype(int)\n",
    "        \n",
    "        return df\n",
    "    \n",
    "    \n",
    "    def feature_engineering(self, df_1):    \n",
    "    \n",
    "    \n",
    "        # Changing column 'assortment'\n",
    "\n",
    "        df_1['assortment'] = df_1['assortment'].apply(lambda x:'basic' if x=='a' else 'extra' if x=='b' else 'extended')\n",
    "\n",
    "\n",
    "        # Changing column 'state_holiday'\n",
    "\n",
    "        df_1['state_holiday'] = df_1['state_holiday'].apply(lambda x:'Public holiday' if x=='a' else 'Easter' if x=='b' else 'Christmas' if x=='c' else 'regular day')\n",
    "\n",
    "\n",
    "        # Derivando novas variáveis:\n",
    "\n",
    "\n",
    "        # year\n",
    "\n",
    "        df_1['year'] = df_1['date'].dt.year\n",
    "\n",
    "\n",
    "        # month\n",
    "\n",
    "        df_1['month'] = df_1['date'].dt.month\n",
    "\n",
    "\n",
    "        # day\n",
    "\n",
    "        df_1['day'] = df_1['date'].dt.day\n",
    "\n",
    "\n",
    "        # week of year\n",
    "\n",
    "        df_1['week_of_year'] = df_1['date'].dt.weekofyear\n",
    "\n",
    "\n",
    "        # year week\n",
    "\n",
    "        df_1['year_week'] = df_1['date'].dt.strftime('%Y-%W') # esse comando apenas coleta a data da venda e muda a formatação\n",
    "\n",
    "\n",
    "\n",
    "\n",
    "        # competition_since (quanto tempo desde o início da competição ate a data da compra)\n",
    "\n",
    "        # 1o passo - juntar as colunas 'competition_open_since_month' com 'competition_open_since_year'\n",
    "\n",
    "        df_1['competition_since'] = df_1[['competition_open_since_year','competition_open_since_month']].apply(lambda x: datetime.datetime(year= x['competition_open_since_year'], month=x['competition_open_since_month'], day=1), axis=1)\n",
    "\n",
    "        # 2o passo - subtrair as datas de 'date' e 'competition_since' e dividir 30 (granularidade mês)\n",
    "        df_1['competition_time_month'] = ((df_1['date'] - df_1['competition_since'])/ 30).apply(lambda x: x.days).astype(int)\n",
    "\n",
    "\n",
    "\n",
    "\n",
    "        # promo2_since (quanto tempo desde a a promoção estar ativa até a data da compra)\n",
    "\n",
    "        # 1° passo: juntar a coluna 'promo2_since_year' com a coluna 'promo2_since_week' e armazenar em uma nova coluna\n",
    "        df_1['promo2_since'] = df_1.apply(lambda x: str(x['promo2_since_year']) + '-' + str(x['promo2_since_week']),axis=1)\n",
    "\n",
    "        # 2° passo: converter 'promo_since' de string para data\n",
    "        # OBSERVAÇÃO IMPORTANTE: tive que fazer uma adaptação no código.\n",
    "        # no código original a atribuição é feita sobre todas as linhas da coluna 'promo_since', no entanto o lambda\n",
    "        # não estava funcionando na coluna 'promo_since' nas linhas com valores zerados '0-0' (proveniente dos valores\n",
    "        # NA's que foram substituídos por 0 na etapa de preenchimento de NA's) então tive que aplicar a função no df\n",
    "        # filtrado (df_1['promo_since']!='0-0')\n",
    "        df_1.loc[df_1['promo2_since']!='0-0','promo2_since'] = df_1.loc[df_1['promo2_since']!='0-0','promo2_since'].apply(lambda x: datetime.datetime.strptime(x+'-1', '%Y-%W-%w') - datetime.timedelta(days=7) )\n",
    "\n",
    "        # 3° passo: subtrair a data da coluna 'date' da coluna 'promo_since' (criada no passo acima), mantendo o filtro\n",
    "        # condicional de linhas (df_1['promo_since']!='0-0') a atribuindo a uma nova coluna 'promo_time_week' mantendo\n",
    "        # o filtro de linhas\n",
    "        df_1.loc[df_1['promo2_since']!='0-0','promo2_time_week'] = ((df_1.loc[df_1['promo2_since']!='0-0','date'] - df_1.loc[df_1['promo2_since']!='0-0','promo2_since']) / 7).apply(lambda x: x.days).astype(int)\n",
    "\n",
    "        # 4° passo: os filtros de linha anteriores resultaram apenas em dados preenchidos nas linhas do filtro. As linhas\n",
    "        # não pertencentes ao filtro foram preenchidas com NA's. Preencher esses valores com 0\n",
    "        df_1['promo2_time_week'] = df_1['promo2_time_week'].fillna(0)\n",
    "        \n",
    "        \n",
    "        \n",
    "        # Quando a loja está fechada ('open'==0) a quantidade de vendas e clientes é 0. Eliminar essas linhas.\n",
    "        # eliminar também as linhas onde não houve vendas (df_2['sales']==0)\n",
    "\n",
    "        df_1 = df_1[df_1['open']!=0]\n",
    "\n",
    "        # Eliminar a coluna 'customers' (no momento do modelo em produção a informação sobre a quantidade\n",
    "        # de clientes na loja não estará disponível).\n",
    "        # coluna 'open' estará com valor constante (1 - loja aberta)\n",
    "        # demais colunas são auxiliares\n",
    "\n",
    "        df_1 = df_1.drop(['open','promo_interval','month_map'], axis=1)      \n",
    "      \n",
    "        \n",
    "        \n",
    "        return df_1\n",
    "    \n",
    "    \n",
    "    \n",
    "    def data_preparation(self, df_1):\n",
    "        \n",
    "        #train\n",
    "        X_train = df_1\n",
    "\n",
    "\n",
    "        # Atributos numéricos escolhidos para o scaling:\n",
    "\n",
    "\n",
    "        # competition_distance (Robust Scaler)\n",
    "\n",
    "        # year (MinMax Scaler)\n",
    "\n",
    "        # competition_time_month (Robust Scaler)\n",
    "\n",
    "        # promo2_time_week (MinMax Scaler)\n",
    "\n",
    "\n",
    "        # Para decidir entre MinMaxScaler e RobustScaler os boxplots das variáveis foram inspecionados.\n",
    "        # para variáveis com outiliers escolheu-se o Robust Scaler e para as demais o MinMax Scaler\n",
    "\n",
    "\n",
    "        # Scaling com Robust Scaler ('competition_distance' e 'competition_time_month')\n",
    "\n",
    "        # 'competition_distance'\n",
    "        \n",
    "        X_train['competition_distance'] = self.competition_distance_scaler.transform(X_train[['competition_distance']].values)\n",
    "\n",
    "        \n",
    "\n",
    "        # 'competition_time_month'\n",
    "\n",
    "        X_train['competition_time_month'] = self.competition_time_month_scaler.transform(X_train[['competition_time_month']].values)\n",
    "\n",
    "        \n",
    "\n",
    "\n",
    "\n",
    "\n",
    "        # Scaling com MinMax Scaler ('year' e 'promo2_time_week')\n",
    "\n",
    "        # 'year'\n",
    "\n",
    "        X_train['year'] = self.year_scaler.transform(X_train[['year']].values)\n",
    "\n",
    "        \n",
    "\n",
    "        # 'promo2_time_week'\n",
    "\n",
    "        X_train['promo2_time_week'] = self.promo2_time_week_scaler.transform(X_train[['promo2_time_week']].values)\n",
    "\n",
    "        \n",
    "\n",
    "\n",
    "        ## <font color=\"#808080\">Encoding - variáveis categóricas</font>\n",
    "\n",
    "\n",
    "        # state_holiday (One-Hot encoding)\n",
    "\n",
    "        X_train = pd.get_dummies(data=X_train, columns=['state_holiday'], prefix=['state_holiday'])\n",
    "\n",
    "\n",
    "\n",
    "\n",
    "        # store_type (Label encoder)\n",
    "\n",
    "        X_train['store_type'] = self.store_type_encoder.transform(X_train['store_type'])\n",
    "\n",
    "\n",
    "\n",
    "\n",
    "        # assortment (Ordinal Encoder)\n",
    "\n",
    "        assortment_encoding_map = {'basic': 1, 'extended':2, 'extra':3}\n",
    "\n",
    "        X_train['assortment'] = X_train['assortment'].map(assortment_encoding_map)\n",
    "\n",
    "\n",
    "\n",
    "\n",
    "\n",
    "        ## <font color=\"#808080\">Transformação de natureza - variáveis de natureza cíclica</font>\n",
    "\n",
    "        # Atributos de natureza cíclica:\n",
    "\n",
    "        # day_of_week\n",
    "\n",
    "        # month\n",
    "\n",
    "        # day\n",
    "\n",
    "        # week_of_year\n",
    "\n",
    "        # Transformando os atributos\n",
    "\n",
    "        # day\n",
    "\n",
    "        X_train['day_sin'] = X_train['day'].apply(lambda x: np.sin(x*(2.*np.pi/30))) \n",
    "        X_train['day_cos'] = X_train['day'].apply(lambda x: np.cos(x*(2.*np.pi/30)))\n",
    "\n",
    "        # day_of_week\n",
    "\n",
    "        X_train['day_of_week_sin'] = X_train['day_of_week'].apply(lambda x: np.sin(x*(2.*np.pi/7)))\n",
    "        X_train['day_of_week_cos'] = X_train['day_of_week'].apply(lambda x: np.cos(x*(2.*np.pi/7)))\n",
    "\n",
    "\n",
    "        # month\n",
    "\n",
    "        X_train['month_sin'] = X_train['month'].apply(lambda x: np.sin(x*(2.*np.pi/12)))\n",
    "        X_train['month_cos'] = X_train['month'].apply(lambda x: np.cos(x*(2.*np.pi/12)))\n",
    "\n",
    "\n",
    "        # week_of_year\n",
    "\n",
    "        X_train['week_of_year_sin'] = X_train['week_of_year'].apply(lambda x: np.sin(x*(2.*np.pi/52)))\n",
    "        X_train['week_of_year_cos'] = X_train['week_of_year'].apply(lambda x: np.cos(x*(2.*np.pi/52)))\n",
    "        \n",
    "        \n",
    "        # Columns selected for further analysis\n",
    "\n",
    "        cols_selected = ['store', \n",
    "                         'promo', \n",
    "                         'store_type', \n",
    "                         'assortment', \n",
    "                         'competition_distance', \n",
    "                         'competition_open_since_month', \n",
    "                         'competition_open_since_year', \n",
    "                         'promo2_since_week', \n",
    "                         'promo2_since_year', \n",
    "                         'competition_time_month', \n",
    "                         'promo2_time_week', \n",
    "                         'day_sin', \n",
    "                         'day_cos', \n",
    "                         'day_of_week_sin', \n",
    "                         'day_of_week_cos',\n",
    "                         'month_sin',\n",
    "                         'month_cos',\n",
    "                         'week_of_year_sin',\n",
    "                         'week_of_year_cos']\n",
    "        \n",
    "        \n",
    "        \n",
    "        return X_train[cols_selected]\n",
    "    \n",
    "    \n",
    "    def get_predictions(self, model, test_raw, df_3):\n",
    "        \n",
    "        #prediction\n",
    "        predictions = model.predict(df_3)\n",
    "        \n",
    "        #join predictions into the original data        \n",
    "        test_raw.loc[df_3.index, 'Predictions'] = np.expm1(predictions)\n",
    "        \n",
    "        \n",
    "   \n",
    "        return test_raw.to_json(orient='records', date_format='iso')    \n",
    "         \n",
    "\n"
   ]
  },
  {
   "cell_type": "markdown",
   "id": "bc09f629",
   "metadata": {
    "heading_collapsed": true,
    "id": "e2c84825"
   },
   "source": [
    "## <font color=\"#808080\">Creating API Handler - API_handler.py</font>"
   ]
  },
  {
   "cell_type": "markdown",
   "id": "e99f1543",
   "metadata": {
    "hidden": true
   },
   "source": [
    "O código abaixo também deverá ser posteriormente colocado em um script .py"
   ]
  },
  {
   "cell_type": "code",
   "execution_count": 22,
   "id": "9b3fb44e",
   "metadata": {
    "ExecuteTime": {
     "end_time": "2022-01-06T15:47:27.342172Z",
     "start_time": "2022-01-06T15:47:14.784915Z"
    },
    "hidden": true
   },
   "outputs": [
    {
     "name": "stdout",
     "output_type": "stream",
     "text": [
      " * Serving Flask app '__main__' (lazy loading)\n",
      " * Environment: production\n",
      "\u001b[31m   WARNING: This is a development server. Do not use it in a production deployment.\u001b[0m\n",
      "\u001b[2m   Use a production WSGI server instead.\u001b[0m\n",
      " * Debug mode: off\n"
     ]
    },
    {
     "name": "stderr",
     "output_type": "stream",
     "text": [
      " * Running on all addresses.\n",
      "   WARNING: This is a development server. Do not use it in a production deployment.\n",
      " * Running on http://192.168.18.10:5000/ (Press CTRL+C to quit)\n"
     ]
    }
   ],
   "source": [
    "# Library imports\n",
    "\n",
    "import pickle\n",
    "import pandas as pd\n",
    "from flask             import Flask, request, Response\n",
    "import json\n",
    "from Rossmann_class.Data_Prep import Data_Prep # from diretório.nome_do_arquivo_classe import nome_da_classe\n",
    "\n",
    "# loading model\n",
    "model = pickle.load(open('/home/gustavo/repos/Rossmann/model_XGBoost_tuned.pkl', 'rb'))\n",
    "\n",
    "# initialize API\n",
    "app = Flask(__name__)\n",
    "\n",
    "# criando o endpoint (url que receberá os dados):\n",
    "@app.route( '/rossmann/predict', methods=['POST'] )\n",
    "\n",
    "\n",
    "# Sempre após receber uma chamada o endpoint executa alguma função. Para esse caso ele executará a função \n",
    "## definida abaixo:\n",
    "\n",
    "def rossmann_predict():\n",
    "    test_json = request.get_json() # os dados da requisição virão na forma de json.\n",
    "    \n",
    "   \n",
    "    if test_json: # there is data\n",
    "        test_json = json.loads(test_json)\n",
    "        \n",
    "        if isinstance( test_json, dict ): #testar se o dado é uma requisição de apenas 1 linha (virá como dict)\n",
    "            test_raw = pd.DataFrame( test_json, index=[0] )\n",
    "            \n",
    "        else: # do contrário a requisição virá na forma de lista (com cada ítem sendo um dicionario):\n",
    "            test_raw = pd.DataFrame( test_json, columns=test_json[0].keys() )\n",
    "            \n",
    "        \n",
    "        # Instantiate Rossmann class\n",
    "        pipeline = Data_Prep()\n",
    "        \n",
    "        # data cleaning\n",
    "        df1 = pipeline.data_cleaning( test_raw )\n",
    "        \n",
    "        # feature engineering\n",
    "        df2 = pipeline.feature_engineering( df1 )\n",
    "        \n",
    "        # data preparation\n",
    "        df3 = pipeline.data_preparation( df2 )\n",
    "        \n",
    "        # prediction\n",
    "        df_response = pipeline.get_predictions( model, test_raw, df3 )\n",
    "        \n",
    "        return df_response\n",
    "        \n",
    "        \n",
    "    else: # se o dado não existir\n",
    "        return Response( '{}', status=200, mimetype='application/json' )\n",
    "\n",
    "if __name__ == '__main__':\n",
    "    app.run( '0.0.0.0' )\n",
    "    #      (local host)"
   ]
  },
  {
   "cell_type": "markdown",
   "id": "db4bcd34",
   "metadata": {
    "id": "e2c84825"
   },
   "source": [
    "## <font color=\"#808080\">Creating API tester</font>"
   ]
  },
  {
   "cell_type": "code",
   "execution_count": 53,
   "id": "6eabb0c8",
   "metadata": {
    "ExecuteTime": {
     "end_time": "2022-01-06T21:53:27.425849Z",
     "start_time": "2022-01-06T21:53:25.158052Z"
    }
   },
   "outputs": [
    {
     "name": "stdout",
     "output_type": "stream",
     "text": [
      "(41088, 8)\n"
     ]
    },
    {
     "data": {
      "text/html": [
       "<div>\n",
       "<style scoped>\n",
       "    .dataframe tbody tr th:only-of-type {\n",
       "        vertical-align: middle;\n",
       "    }\n",
       "\n",
       "    .dataframe tbody tr th {\n",
       "        vertical-align: top;\n",
       "    }\n",
       "\n",
       "    .dataframe thead th {\n",
       "        text-align: right;\n",
       "    }\n",
       "</style>\n",
       "<table border=\"1\" class=\"dataframe\">\n",
       "  <thead>\n",
       "    <tr style=\"text-align: right;\">\n",
       "      <th></th>\n",
       "      <th>Id</th>\n",
       "      <th>Store</th>\n",
       "      <th>DayOfWeek</th>\n",
       "      <th>Date</th>\n",
       "      <th>Open</th>\n",
       "      <th>Promo</th>\n",
       "      <th>StateHoliday</th>\n",
       "      <th>SchoolHoliday</th>\n",
       "    </tr>\n",
       "  </thead>\n",
       "  <tbody>\n",
       "    <tr>\n",
       "      <th>0</th>\n",
       "      <td>1</td>\n",
       "      <td>1</td>\n",
       "      <td>4</td>\n",
       "      <td>2015-09-17</td>\n",
       "      <td>1.0</td>\n",
       "      <td>1</td>\n",
       "      <td>0</td>\n",
       "      <td>0</td>\n",
       "    </tr>\n",
       "    <tr>\n",
       "      <th>1</th>\n",
       "      <td>2</td>\n",
       "      <td>3</td>\n",
       "      <td>4</td>\n",
       "      <td>2015-09-17</td>\n",
       "      <td>1.0</td>\n",
       "      <td>1</td>\n",
       "      <td>0</td>\n",
       "      <td>0</td>\n",
       "    </tr>\n",
       "    <tr>\n",
       "      <th>2</th>\n",
       "      <td>3</td>\n",
       "      <td>7</td>\n",
       "      <td>4</td>\n",
       "      <td>2015-09-17</td>\n",
       "      <td>1.0</td>\n",
       "      <td>1</td>\n",
       "      <td>0</td>\n",
       "      <td>0</td>\n",
       "    </tr>\n",
       "    <tr>\n",
       "      <th>3</th>\n",
       "      <td>4</td>\n",
       "      <td>8</td>\n",
       "      <td>4</td>\n",
       "      <td>2015-09-17</td>\n",
       "      <td>1.0</td>\n",
       "      <td>1</td>\n",
       "      <td>0</td>\n",
       "      <td>0</td>\n",
       "    </tr>\n",
       "    <tr>\n",
       "      <th>4</th>\n",
       "      <td>5</td>\n",
       "      <td>9</td>\n",
       "      <td>4</td>\n",
       "      <td>2015-09-17</td>\n",
       "      <td>1.0</td>\n",
       "      <td>1</td>\n",
       "      <td>0</td>\n",
       "      <td>0</td>\n",
       "    </tr>\n",
       "  </tbody>\n",
       "</table>\n",
       "</div>"
      ],
      "text/plain": [
       "   Id  Store  DayOfWeek        Date  Open  Promo StateHoliday  SchoolHoliday\n",
       "0   1      1          4  2015-09-17   1.0      1            0              0\n",
       "1   2      3          4  2015-09-17   1.0      1            0              0\n",
       "2   3      7          4  2015-09-17   1.0      1            0              0\n",
       "3   4      8          4  2015-09-17   1.0      1            0              0\n",
       "4   5      9          4  2015-09-17   1.0      1            0              0"
      ]
     },
     "execution_count": 53,
     "metadata": {},
     "output_type": "execute_result"
    }
   ],
   "source": [
    "# Loading test dataset\n",
    "\n",
    "df_test = pd.read_csv('/home/gustavo/repos/Rossmann/test.csv')\n",
    "\n",
    "print(df_test.shape)\n",
    "\n",
    "df_test.head()"
   ]
  },
  {
   "cell_type": "code",
   "execution_count": 55,
   "id": "e54e8e12",
   "metadata": {
    "ExecuteTime": {
     "end_time": "2022-01-06T21:57:32.494520Z",
     "start_time": "2022-01-06T21:57:17.872624Z"
    }
   },
   "outputs": [
    {
     "name": "stdout",
     "output_type": "stream",
     "text": [
      "Status Code: 200\n"
     ]
    }
   ],
   "source": [
    "# Converting df to json\n",
    "\n",
    "data_json = df_test.to_json(orient='records', date_format='iso')\n",
    "\n",
    "\n",
    "\n",
    "# API Call =====================================================================================\n",
    "\n",
    "# Para a call funcionar o servidor local tem que estar ativo (terminal: python API_handler.py)\n",
    "# Se o resultado da execução dessa célula for 200 a requisição funcionou\n",
    "\n",
    "url = 'http://0.0.0.0:5000/rossmann/predict' #endpoint (onde os dados serão enviados.0.0.0.0 significa que é um local host não conectado a internet. Porta 5000 é padrão do Flask)\n",
    "\n",
    "header = {'Content-type':'application/json'} #indica para a API qual tipo de requisição se está fazendo\n",
    "\n",
    "\n",
    "\n",
    "\n",
    "\n",
    "# Fazendo a requisição\n",
    "\n",
    "response = requests.post(url=url, headers=header, json=data_json)\n",
    "\n",
    "print('Status Code: {}'.format(response.status_code))\n",
    "\n",
    "\n",
    "\n"
   ]
  },
  {
   "cell_type": "code",
   "execution_count": 57,
   "id": "15b1e67a",
   "metadata": {
    "ExecuteTime": {
     "end_time": "2022-01-06T22:01:31.765073Z",
     "start_time": "2022-01-06T22:01:31.166507Z"
    }
   },
   "outputs": [
    {
     "data": {
      "text/html": [
       "<div>\n",
       "<style scoped>\n",
       "    .dataframe tbody tr th:only-of-type {\n",
       "        vertical-align: middle;\n",
       "    }\n",
       "\n",
       "    .dataframe tbody tr th {\n",
       "        vertical-align: top;\n",
       "    }\n",
       "\n",
       "    .dataframe thead th {\n",
       "        text-align: right;\n",
       "    }\n",
       "</style>\n",
       "<table border=\"1\" class=\"dataframe\">\n",
       "  <thead>\n",
       "    <tr style=\"text-align: right;\">\n",
       "      <th></th>\n",
       "      <th>Id</th>\n",
       "      <th>Store</th>\n",
       "      <th>DayOfWeek</th>\n",
       "      <th>Date</th>\n",
       "      <th>Open</th>\n",
       "      <th>Promo</th>\n",
       "      <th>StateHoliday</th>\n",
       "      <th>SchoolHoliday</th>\n",
       "      <th>Predictions</th>\n",
       "    </tr>\n",
       "  </thead>\n",
       "  <tbody>\n",
       "    <tr>\n",
       "      <th>0</th>\n",
       "      <td>1</td>\n",
       "      <td>1</td>\n",
       "      <td>4</td>\n",
       "      <td>2015-09-17</td>\n",
       "      <td>1.0</td>\n",
       "      <td>1</td>\n",
       "      <td>0</td>\n",
       "      <td>0</td>\n",
       "      <td>4069.109619</td>\n",
       "    </tr>\n",
       "    <tr>\n",
       "      <th>1</th>\n",
       "      <td>2</td>\n",
       "      <td>3</td>\n",
       "      <td>4</td>\n",
       "      <td>2015-09-17</td>\n",
       "      <td>1.0</td>\n",
       "      <td>1</td>\n",
       "      <td>0</td>\n",
       "      <td>0</td>\n",
       "      <td>7472.016602</td>\n",
       "    </tr>\n",
       "    <tr>\n",
       "      <th>2</th>\n",
       "      <td>3</td>\n",
       "      <td>7</td>\n",
       "      <td>4</td>\n",
       "      <td>2015-09-17</td>\n",
       "      <td>1.0</td>\n",
       "      <td>1</td>\n",
       "      <td>0</td>\n",
       "      <td>0</td>\n",
       "      <td>8666.511719</td>\n",
       "    </tr>\n",
       "    <tr>\n",
       "      <th>3</th>\n",
       "      <td>4</td>\n",
       "      <td>8</td>\n",
       "      <td>4</td>\n",
       "      <td>2015-09-17</td>\n",
       "      <td>1.0</td>\n",
       "      <td>1</td>\n",
       "      <td>0</td>\n",
       "      <td>0</td>\n",
       "      <td>6503.457031</td>\n",
       "    </tr>\n",
       "    <tr>\n",
       "      <th>4</th>\n",
       "      <td>5</td>\n",
       "      <td>9</td>\n",
       "      <td>4</td>\n",
       "      <td>2015-09-17</td>\n",
       "      <td>1.0</td>\n",
       "      <td>1</td>\n",
       "      <td>0</td>\n",
       "      <td>0</td>\n",
       "      <td>6918.713867</td>\n",
       "    </tr>\n",
       "    <tr>\n",
       "      <th>...</th>\n",
       "      <td>...</td>\n",
       "      <td>...</td>\n",
       "      <td>...</td>\n",
       "      <td>...</td>\n",
       "      <td>...</td>\n",
       "      <td>...</td>\n",
       "      <td>...</td>\n",
       "      <td>...</td>\n",
       "      <td>...</td>\n",
       "    </tr>\n",
       "    <tr>\n",
       "      <th>41083</th>\n",
       "      <td>41084</td>\n",
       "      <td>1111</td>\n",
       "      <td>6</td>\n",
       "      <td>2015-08-01</td>\n",
       "      <td>1.0</td>\n",
       "      <td>0</td>\n",
       "      <td>0</td>\n",
       "      <td>0</td>\n",
       "      <td>2922.214600</td>\n",
       "    </tr>\n",
       "    <tr>\n",
       "      <th>41084</th>\n",
       "      <td>41085</td>\n",
       "      <td>1112</td>\n",
       "      <td>6</td>\n",
       "      <td>2015-08-01</td>\n",
       "      <td>1.0</td>\n",
       "      <td>0</td>\n",
       "      <td>0</td>\n",
       "      <td>0</td>\n",
       "      <td>7750.389648</td>\n",
       "    </tr>\n",
       "    <tr>\n",
       "      <th>41085</th>\n",
       "      <td>41086</td>\n",
       "      <td>1113</td>\n",
       "      <td>6</td>\n",
       "      <td>2015-08-01</td>\n",
       "      <td>1.0</td>\n",
       "      <td>0</td>\n",
       "      <td>0</td>\n",
       "      <td>0</td>\n",
       "      <td>6185.503906</td>\n",
       "    </tr>\n",
       "    <tr>\n",
       "      <th>41086</th>\n",
       "      <td>41087</td>\n",
       "      <td>1114</td>\n",
       "      <td>6</td>\n",
       "      <td>2015-08-01</td>\n",
       "      <td>1.0</td>\n",
       "      <td>0</td>\n",
       "      <td>0</td>\n",
       "      <td>0</td>\n",
       "      <td>21719.390625</td>\n",
       "    </tr>\n",
       "    <tr>\n",
       "      <th>41087</th>\n",
       "      <td>41088</td>\n",
       "      <td>1115</td>\n",
       "      <td>6</td>\n",
       "      <td>2015-08-01</td>\n",
       "      <td>1.0</td>\n",
       "      <td>0</td>\n",
       "      <td>0</td>\n",
       "      <td>1</td>\n",
       "      <td>7374.817383</td>\n",
       "    </tr>\n",
       "  </tbody>\n",
       "</table>\n",
       "<p>41088 rows × 9 columns</p>\n",
       "</div>"
      ],
      "text/plain": [
       "          Id  Store  DayOfWeek        Date  Open  Promo StateHoliday  \\\n",
       "0          1      1          4  2015-09-17   1.0      1            0   \n",
       "1          2      3          4  2015-09-17   1.0      1            0   \n",
       "2          3      7          4  2015-09-17   1.0      1            0   \n",
       "3          4      8          4  2015-09-17   1.0      1            0   \n",
       "4          5      9          4  2015-09-17   1.0      1            0   \n",
       "...      ...    ...        ...         ...   ...    ...          ...   \n",
       "41083  41084   1111          6  2015-08-01   1.0      0            0   \n",
       "41084  41085   1112          6  2015-08-01   1.0      0            0   \n",
       "41085  41086   1113          6  2015-08-01   1.0      0            0   \n",
       "41086  41087   1114          6  2015-08-01   1.0      0            0   \n",
       "41087  41088   1115          6  2015-08-01   1.0      0            0   \n",
       "\n",
       "       SchoolHoliday   Predictions  \n",
       "0                  0   4069.109619  \n",
       "1                  0   7472.016602  \n",
       "2                  0   8666.511719  \n",
       "3                  0   6503.457031  \n",
       "4                  0   6918.713867  \n",
       "...              ...           ...  \n",
       "41083              0   2922.214600  \n",
       "41084              0   7750.389648  \n",
       "41085              0   6185.503906  \n",
       "41086              0  21719.390625  \n",
       "41087              1   7374.817383  \n",
       "\n",
       "[41088 rows x 9 columns]"
      ]
     },
     "execution_count": 57,
     "metadata": {},
     "output_type": "execute_result"
    }
   ],
   "source": [
    "df_predictions = pd.DataFrame(response.json(), columns=response.json()[0].keys())\n",
    "\n",
    "df_predictions"
   ]
  },
  {
   "cell_type": "code",
   "execution_count": null,
   "id": "4b3ee1bf",
   "metadata": {},
   "outputs": [],
   "source": []
  },
  {
   "cell_type": "code",
   "execution_count": null,
   "id": "126096c5",
   "metadata": {},
   "outputs": [],
   "source": []
  },
  {
   "cell_type": "code",
   "execution_count": null,
   "id": "02c9c081",
   "metadata": {},
   "outputs": [],
   "source": []
  },
  {
   "cell_type": "code",
   "execution_count": null,
   "id": "0fcb1977",
   "metadata": {},
   "outputs": [],
   "source": []
  },
  {
   "cell_type": "code",
   "execution_count": null,
   "id": "aae71cb2",
   "metadata": {},
   "outputs": [],
   "source": []
  },
  {
   "cell_type": "code",
   "execution_count": null,
   "id": "26ab831e",
   "metadata": {},
   "outputs": [],
   "source": []
  },
  {
   "cell_type": "markdown",
   "id": "7f95bd59",
   "metadata": {
    "heading_collapsed": true,
    "id": "7f95bd59"
   },
   "source": [
    "# <font color=\"red\">Rascunhos</font>"
   ]
  },
  {
   "cell_type": "markdown",
   "id": "93447b67",
   "metadata": {
    "hidden": true,
    "id": "93447b67"
   },
   "source": [
    "O histograma acima mostra para a variável 'promo' que o valor 0 é mais frequente do que o valor 1.\n",
    "\n",
    "Entretanto é importante lembrar que o eixo y do histograma é uma contagem de frequências e não mostra o total valor vendido. Considerando que é mais comum não haver promoção do que quando há, o valor mostrado é razoavel\n",
    "\n",
    "O boxplot abaixo mostra que a média de vendas (valor das vendas - coluna 'sales') é maior quando há promoção."
   ]
  },
  {
   "cell_type": "code",
   "execution_count": null,
   "id": "a64760b1",
   "metadata": {
    "ExecuteTime": {
     "end_time": "2021-12-25T23:25:54.359308Z",
     "start_time": "2021-12-25T23:25:49.646045Z"
    },
    "hidden": true,
    "id": "a64760b1",
    "outputId": "fad41519-c0ec-4b91-898a-0dda03b5826c"
   },
   "outputs": [],
   "source": [
    "sns.boxplot(x='promo', y='sales', data=df_2)"
   ]
  },
  {
   "cell_type": "code",
   "execution_count": null,
   "id": "3d427cc0",
   "metadata": {
    "ExecuteTime": {
     "end_time": "2021-12-25T23:25:54.915246Z",
     "start_time": "2021-12-25T23:25:54.361889Z"
    },
    "hidden": true,
    "id": "3d427cc0",
    "outputId": "ac8f1cdf-048c-4922-eb49-31724f19ff9c"
   },
   "outputs": [],
   "source": [
    "# Promoção parece não fazer efeito\n",
    "\n",
    "# Receita média das vendas sem promoção é maior do que em promoção\n",
    "\n",
    "df_2[['is_promo','sales']].groupby('is_promo').mean()"
   ]
  },
  {
   "cell_type": "code",
   "execution_count": null,
   "id": "788b229d",
   "metadata": {
    "ExecuteTime": {
     "end_time": "2021-12-25T23:25:55.148709Z",
     "start_time": "2021-12-25T23:25:54.921502Z"
    },
    "hidden": true,
    "id": "788b229d",
    "outputId": "4c78fd25-aa0e-42c8-9e55-1bd18c6eed66"
   },
   "outputs": [],
   "source": [
    "# Porém a mediana das vendas sem promoção é parecida do que em promoção\n",
    "\n",
    "df_2[['is_promo','sales']].groupby('is_promo').median()"
   ]
  },
  {
   "cell_type": "code",
   "execution_count": null,
   "id": "3c710f30",
   "metadata": {
    "ExecuteTime": {
     "end_time": "2021-12-25T23:25:55.484771Z",
     "start_time": "2021-12-25T23:25:55.151306Z"
    },
    "hidden": true,
    "id": "3c710f30",
    "outputId": "17f91b4e-395e-4f2c-fe95-53b76e1925d3"
   },
   "outputs": [],
   "source": [
    "# Promoção 2 parece não fazer efeito\n",
    "\n",
    "# Média\n",
    "\n",
    "df_2[['promo2','sales']].groupby('promo2').mean()"
   ]
  },
  {
   "cell_type": "code",
   "execution_count": null,
   "id": "09261033",
   "metadata": {
    "ExecuteTime": {
     "end_time": "2021-12-25T23:25:56.125271Z",
     "start_time": "2021-12-25T23:25:55.488702Z"
    },
    "hidden": true,
    "id": "09261033",
    "outputId": "b96e392a-71aa-4c67-f0d6-5fd3ebe13d3a"
   },
   "outputs": [],
   "source": [
    "# Mediana\n",
    "\n",
    "df_2[['promo2','sales']].groupby('promo2').median()"
   ]
  },
  {
   "cell_type": "code",
   "execution_count": null,
   "id": "d5772555",
   "metadata": {
    "hidden": true,
    "id": "d5772555"
   },
   "outputs": [],
   "source": []
  },
  {
   "cell_type": "code",
   "execution_count": null,
   "id": "1bc43ea6",
   "metadata": {
    "hidden": true
   },
   "outputs": [],
   "source": []
  },
  {
   "cell_type": "code",
   "execution_count": 20,
   "id": "3ddee829",
   "metadata": {
    "ExecuteTime": {
     "end_time": "2022-01-06T15:40:35.926353Z",
     "start_time": "2022-01-06T15:40:32.686983Z"
    },
    "hidden": true
   },
   "outputs": [
    {
     "name": "stderr",
     "output_type": "stream",
     "text": [
      "/tmp/ipykernel_3963/2182421447.py:156: FutureWarning: Series.dt.weekofyear and Series.dt.week have been deprecated.  Please use Series.dt.isocalendar().week instead.\n",
      "  df_1['week_of_year'] = df_1['date'].dt.weekofyear\n"
     ]
    }
   ],
   "source": [
    "# Testando o handler no snipet\n",
    "\n",
    "\n",
    "# Loading model\n",
    "model = pickle.load(open('/home/gustavo/repos/Rossmann/model_XGBoost_tuned.pkl', 'rb'))\n",
    "\n",
    "\n",
    "if data_json:\n",
    "    \n",
    "    if isinstance(test_json, dict): # testar se o dado é uma requisição de apenas 1 linha (virá como dict)\n",
    "        df_test = pd.DataFrame(test_json, index=[0])\n",
    "        \n",
    "    else: # do contrário a requisição virá na forma de lista (com cada ítem sendo um dicionario):\n",
    "        #converter para df\n",
    "        df_test = pd.DataFrame(data_json, columns=data_json[0].keys())\n",
    "    \n",
    "    \n",
    "\n",
    "\n",
    "\n",
    "    dataprep = Data_Prep() # Instanciando o Data_Prep\n",
    "\n",
    "    test_raw = df_test.copy()\n",
    "\n",
    "\n",
    "\n",
    "    df_1 = dataprep.data_cleaning(df_test)\n",
    "\n",
    "    df_2 = dataprep.feature_engineering(df_1)\n",
    "\n",
    "    df_3 = dataprep.data_preparation(df_2)\n",
    "\n",
    "    df_4 = dataprep.get_predictions(model, test_raw, df_3)\n"
   ]
  },
  {
   "cell_type": "code",
   "execution_count": 303,
   "id": "a21ca86d",
   "metadata": {
    "ExecuteTime": {
     "end_time": "2022-01-06T06:43:08.506412Z",
     "start_time": "2022-01-06T06:39:57.992792Z"
    },
    "hidden": true
   },
   "outputs": [
    {
     "name": "stdout",
     "output_type": "stream",
     "text": [
      " * Serving Flask app '__main__' (lazy loading)\n",
      " * Environment: production\n",
      "\u001b[31m   WARNING: This is a development server. Do not use it in a production deployment.\u001b[0m\n",
      "\u001b[2m   Use a production WSGI server instead.\u001b[0m\n",
      " * Debug mode: off\n"
     ]
    },
    {
     "name": "stderr",
     "output_type": "stream",
     "text": [
      " * Running on all addresses.\n",
      "   WARNING: This is a development server. Do not use it in a production deployment.\n",
      " * Running on http://192.168.18.10:5000/ (Press CTRL+C to quit)\n"
     ]
    }
   ],
   "source": [
    "# Testando o handler/flask no snipet\n",
    "\n",
    "\n",
    "import pickle\n",
    "import pandas as pd\n",
    "from flask             import Flask, request, Response\n",
    "from Rossmann_class.Data_Prep import Data_Prep # from diretório.nome_do_arquivo_classe import nome_da_classe\n",
    "\n",
    "# loading model\n",
    "model = pickle.load(open('/home/gustavo/repos/Rossmann/model_XGBoost_tuned.pkl', 'rb'))\n",
    "\n",
    "# initialize API\n",
    "app = Flask(__name__)\n",
    "\n",
    "# criando o endpoint (url que receberá os dados):\n",
    "@app.route( '/rossmann/predict', methods=['POST'] )\n",
    "\n",
    "\n",
    "# Sempre após receber uma chamada o endpoint executa alguma função. Para esse caso ele executará a função \n",
    "## definida abaixo:\n",
    "\n",
    "def rossmann_predict():\n",
    "    test_json = request.get_json() # os dados da requisição virão na forma de json.\n",
    "   \n",
    "    if test_json: # there is data\n",
    "        if isinstance( test_json, dict ): #testar se o dado é uma requisição de apenas 1 linha (virá como dict)\n",
    "            test_raw = pd.DataFrame( test_json, index=[0] )\n",
    "            \n",
    "        else: # do contrário a requisição virá na forma de lista (com cada ítem sendo um dicionario):\n",
    "            test_raw = pd.DataFrame( test_json, columns=test_json[0].keys() )\n",
    "            \n",
    "        \n",
    "        # Instantiate Rossmann class\n",
    "        pipeline = Data_Prep()\n",
    "        \n",
    "        # data cleaning\n",
    "        df1 = pipeline.data_cleaning( test_raw )\n",
    "        \n",
    "        # feature engineering\n",
    "        df2 = pipeline.feature_engineering( df1 )\n",
    "        \n",
    "        # data preparation\n",
    "        df3 = pipeline.data_preparation( df2 )\n",
    "        \n",
    "        # prediction\n",
    "        df_response = pipeline.get_prediction( model, test_raw, df3 )\n",
    "        \n",
    "        return df_response\n",
    "        \n",
    "        \n",
    "    else: # se o dado não existir\n",
    "        return Response( '{}', status=200, mimetype='application/json' )\n",
    "\n",
    "if __name__ == '__main__':\n",
    "    app.run( '0.0.0.0' )\n",
    "    #      (local host)"
   ]
  },
  {
   "cell_type": "code",
   "execution_count": 298,
   "id": "2876ff8d",
   "metadata": {
    "ExecuteTime": {
     "end_time": "2022-01-06T06:31:11.650997Z",
     "start_time": "2022-01-06T06:31:08.228863Z"
    },
    "hidden": true
   },
   "outputs": [],
   "source": [
    "# Library imports\n",
    "\n",
    "from Rossmann_class.Data_Prep import Data_Prep # from diretório.nome_do_arquivo_classe import nome_da_classe\n",
    "from flask             import Flask, request, Response\n",
    "import pandas as pd\n",
    "import pickle\n",
    "\n",
    "# Loading model\n",
    "\n",
    "model = pickle.load(open('/home/gustavo/repos/Rossmann/model_XGBoost_tuned.pkl', 'rb'))\n",
    "\n",
    "\n",
    "# Inicializando a API ====================================================================\n",
    "\n",
    "\n",
    "# instantiating Flask:\n",
    "\n",
    "app = Flask( __name__ )\n",
    "\n",
    "\n",
    "# criando o endpoint (url que receberá os dados):\n",
    "\n",
    "@app.route('/rossmann/predict', methods=['POST'])\n",
    "\n",
    "\n",
    "# Sempre após receber uma chamada o endpoint executa alguma função. Para esse caso ele executará a função \n",
    "## definida abaixo:\n",
    "\n",
    "def rossmann_predict():\n",
    "    \n",
    "    test_json = request.get_json() # os dados da requisição virão na forma de json.\n",
    "    \n",
    "    # Testar se o dado veio:\n",
    "    \n",
    "    if test_json: # se o dado da request existir:\n",
    "        \n",
    "        if isinstance(test_json, dict): # testar se o dado é uma requisição de apenas 1 linha (virá como dict)\n",
    "            # converter json to df:\n",
    "            test_raw = pd.DataFrame(test_json, index=[0])\n",
    "            \n",
    "        else: # do contrário a requisição virá na forma de lista (com cada ítem sendo um dicionario):\n",
    "            # converter json to df:        \n",
    "            test_raw = pd.DataFrame(test_json, columns=test_json[0].keys())\n",
    "        \n",
    "        \n",
    "        \n",
    "        # Após definir o dataframe, o passo seguinte é fazer as limpezas dos dados:\n",
    "        \n",
    "        # Instanciando a classe Rossmann\n",
    "        \n",
    "        pipeline = Data_Prep()\n",
    "        \n",
    "        # Aplicando o método de limpeza de dados\n",
    "        df_1 = pipeline.data_cleaning(test_raw)\n",
    "        \n",
    "        # Aplicando o método de feature engineering\n",
    "        df_2 = pipeline.feature_engineering(df_1)\n",
    "        \n",
    "        # Aplicando o método de feature engineering\n",
    "        df_3 = pipeline.data_preparation(df_2)\n",
    "        \n",
    "        # Fazendo as predições\n",
    "        df_response = pipeline.get_predictions(model, test_raw, df_3)\n",
    "        \n",
    "        \n",
    "        return df_response # retorna o df para a pessoa que fez a requisição\n",
    "        \n",
    "        \n",
    "    else: # se o dado da request não existir\n",
    "        return Response('{}', status=200, mimetype='application/json') #retornando uma resposta\n",
    "\n",
    "\n",
    "if __name__ == 'main': #iniciar a API\n",
    "    app.run('0.0.0.0')\n",
    "    #      (local host)  "
   ]
  }
 ],
 "metadata": {
  "colab": {
   "collapsed_sections": [
    "f32daef0",
    "33141cf3",
    "4fee2071",
    "a597c2c9",
    "fbbf0894",
    "a0ba9901",
    "c9ecf94d",
    "c4d2a749",
    "7328a9ff",
    "b47725e3",
    "296c95ee",
    "7fda4f5d",
    "d4d5a394",
    "1564974e",
    "d851a8ee",
    "2d24f123",
    "d50fe3a9",
    "86e0fe6b",
    "fc892be9",
    "e2c84825",
    "24d3fdb2",
    "4e499065",
    "8994c3f9",
    "fd284827",
    "7f95bd59"
   ],
   "name": "Ciclo_01_Colab.ipynb",
   "provenance": [],
   "toc_visible": true
  },
  "kernelspec": {
   "display_name": "Python 3 (ipykernel)",
   "language": "python",
   "name": "python3"
  },
  "language_info": {
   "codemirror_mode": {
    "name": "ipython",
    "version": 3
   },
   "file_extension": ".py",
   "mimetype": "text/x-python",
   "name": "python",
   "nbconvert_exporter": "python",
   "pygments_lexer": "ipython3",
   "version": "3.8.0"
  }
 },
 "nbformat": 4,
 "nbformat_minor": 5
}
